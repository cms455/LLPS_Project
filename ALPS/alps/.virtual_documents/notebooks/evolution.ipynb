





import numpy as np
import matplotlib.pyplot as plt
from tqdm.notebook import tqdm
import sys
from importlib import reload

# BELOW ARE MODULES IN Learn-using-LLPS
sys.path.append('..')
import convex_hull as ch
import graph
import mm_helper as mmh
import multicomponent_evolution_takumi as me  # David's evolutionary algo

%matplotlib inline
%config InlineBackend.figure_format='retina'


__fontsize__ = 20
__figsize__ = (7.54, 7.54)
cmap = 'magma'

# See all available arguments in matplotlibrc
params = {'figure.figsize': __figsize__,
          'font.size': __fontsize__,  #text
        'legend.fontsize': __fontsize__, # legend
         'axes.labelsize': __fontsize__, # axes
         'axes.titlesize': __fontsize__,
         'xtick.labelsize': 14, # tick
         'ytick.labelsize': 14,
          'lines.linewidth': 3}
graph.update_figure_params(params)

%matplotlib inline
%config InlineBackend.figure_format='retina'


reload(mmh)
##### SIMULATION PARAMS ##############################
me.DT_INITIAL: float = 1e-3 # initial time step for the relaxation dynamics
me.TRACKER_INTERVAL: float = 10.0  # interval for convergence check
me.TOLERANCE: float = 1e-4  # tolerance used to decide when stationary state is reached
me.CLUSTER_DISTANCE: float = 1e-1  # cutoff value for determining composition clusters
me.PERFORMANCE_TOLERANCE: float = 0.5  # tolerance used when calculating performance
me.KILL_FRACTION: float = 0.3  # fraction of population that is replaced each generation
me.REPETITIONS: int = 64  # number of samples used to estimate the performancedt_tol
dt_tol  = 1e-18
#####SIMULATION SETTINGS ########################
num_comps = 3 # Number of components BESIDES solvent
num_phases = 15# Initial number of phases 
n = 1 # Number of runs
###### SPECIFY AVERAGE COMPOSITION ##########
phi_avg = np.asarray([0.17, 0.27, 0.35]) # volume fraction
# phi_avg /= np.sum(phi_avg) # Ensure that volume fraction sums to 1. 
phi_std = 0.1
############ DEFINE INTERACTION MATRIX #################
chi_mean = 6
chi_std = 0.1
# Make a random chi_matrix with its mean and std specified above 
# chi = me.random_interaction_matrix(num_comps, chi_mean=chi_mean, chi_std=chi_std, verbose=True)
 ####################################
print('Volume fraction of the solution, phi=(phi_sol, phi_rest)=', np.concatenate(([1 - np.sum(phi_avg)], phi_avg)))
for i in tqdm(range(n)):
    phi_i = mmh.get_composition_gaussian(num_phases, phi_avg, phi_std=phi_std, verbose=False) # Shape:  (nphases, ncomp)
    phi_f, phi_progress, time = me.evolve_dynamics(chi, phi_i, sort_phases=True, dt_tol=dt_tol, return_progress=True) 

    # VISUALIZE ALL STEPS (David's code often ends within two steps)
    fig, axes = mmh.visualize_mixtures(phi_progress, fignum=1+i, t=time, cmap='rainbow', chi=chi, solvent_color='azure') 

    # # Visualize only the initial and final phases
    # mmh.visualize_mixtures([phi_i, phi_f], fignum=1+i, cmap='rainbow', chi=chi, solvent_color='azure', gamma=0.8)
    print('Count the number of phases (this is not working well)', me.count_phases(phi_f), '\n') # this is not working well. To me, the system has not reached convergence. Adjust me.CLUSTER_DISTANCE to tune the sensitivity of finding phases.
plt.show()



reload(mmh)
##### SIMULATION PARAMS ##############################
me.DT_INITIAL: float = 1e-3 # initial time step for the relaxation dynamics
me.TRACKER_INTERVAL: float = 10.0  # interval for convergence check
me.TOLERANCE: float = 1e-4  # tolerance used to decide when stationary state is reached
me.CLUSTER_DISTANCE: float = 1e-1  # cutoff value for determining composition clusters
me.PERFORMANCE_TOLERANCE: float = 0.5  # tolerance used when calculating performance
me.KILL_FRACTION: float = 0.3  # fraction of population that is replaced each generation
me.REPETITIONS: int = 64  # number of samples used to estimate the performancedt_tol
dt_tol  = 1e-18
#####SIMULATION SETTINGS ########################
num_comps = 3 # Number of components BESIDES solvent
num_phases = 15# Initial number of phases 
n = 1 # Number of runs
###### SPECIFY AVERAGE COMPOSITION ##########
# phi_avg = np.asarray([0.1, 0.2, 0.1, 0.3]) # volume fraction
# phi_avg /= np.sum(phi_avg) # Ensure that volume fraction sums to 1. 
# phi_std = 0.1
############ DEFINE INTERACTION MATRIX #################
chi_mean = 6
chi_std = 0.5
# Make a random chi_matrix with its mean and std specified above 
# chi = me.random_interaction_matrix(num_comps, chi_mean=chi_mean, chi_std=chi_std, verbose=True)
 ####################################
print('Volume fraction of the solution, phi=(phi_sol, phi_rest)=', np.concatenate(([1 - np.sum(phi_avg)], phi_avg)))
for i in tqdm(range(n)):
    # chi = me.random_interaction_matrix(num_comps, chi_mean=chi_mean, chi_std=chi_std, verbose=True)
    # phi_i = mmh.get_uniform_random_composition(num_phases, num_comps)
    # phi_i = mmh.get_composition_gaussian(num_phases, phi_avg, phi_std=phi_std, verbose=False) # Shape:  (nphases, ncomp)
    phi_f, phi_progress, time = me.evolve_dynamics(chi, phi_i, sort_phases=True, dt_tol=dt_tol, return_progress=True) 

    # VISUALIZE ALL STEPS (David's code often ends within two steps)
    fig, axes = mmh.visualize_mixtures(phi_progress, fignum=1+i, t=time, cmap='rainbow', chi=chi, solvent_color='azure') 

    # # Visualize only the initial and final phases
    # mmh.visualize_mixtures([phi_i, phi_f], fignum=1+i, cmap='rainbow', chi=chi, solvent_color='azure', gamma=0.8)
    print('Count the number of phases (this is not working well)', me.count_phases(phi_f), '\n') # this is not working well. To me, the system has not reached convergence. Adjust me.CLUSTER_DISTANCE to tune the sensitivity of finding phases.
plt.show()


phi_f






