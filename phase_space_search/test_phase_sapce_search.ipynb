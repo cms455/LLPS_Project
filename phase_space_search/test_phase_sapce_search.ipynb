{
 "cells": [
  {
   "cell_type": "code",
   "execution_count": 33,
   "id": "3a5058b6-d1bb-4579-a47a-1af7e3827131",
   "metadata": {},
   "outputs": [],
   "source": [
    "import numpy as np\n",
    "import flory\n",
    "import sys\n",
    "\n",
    "sys.path.append('/Users/calvinsmith/dufresne_lab/phase_space_search/')\n",
    "import flory_classifier_v2\n",
    "import flory_phase_space\n",
    "from flory_classifier_v2 import FloryClassifier \n",
    "from flory_phase_space import PhaseSpace"
   ]
  },
  {
   "cell_type": "markdown",
   "id": "0ac348da",
   "metadata": {},
   "source": [
    "## Generate Matrices"
   ]
  },
  {
   "cell_type": "code",
   "execution_count": 38,
   "id": "e69f54ea",
   "metadata": {},
   "outputs": [],
   "source": [
    "num_points = 10\n",
    "num_comps = 3"
   ]
  },
  {
   "cell_type": "code",
   "execution_count": 42,
   "id": "a2185fc5",
   "metadata": {},
   "outputs": [],
   "source": [
    "points = np.random.rand(num_points,num_comps)\n",
    "points = points/ points.sum(axis = 1, keepdims = True)\n"
   ]
  },
  {
   "cell_type": "code",
   "execution_count": 41,
   "id": "b4acee9f",
   "metadata": {},
   "outputs": [
    {
     "name": "stdout",
     "output_type": "stream",
     "text": [
      "[[0.35267489 0.25774633 0.38957878]\n",
      " [0.22013607 0.47150882 0.30835511]\n",
      " [0.5523392  0.16847986 0.27918094]\n",
      " [0.08223081 0.27642279 0.6413464 ]\n",
      " [0.20588573 0.65369026 0.14042401]\n",
      " [0.60027931 0.1545893  0.2451314 ]\n",
      " [0.44808216 0.40302061 0.14889723]\n",
      " [0.15229449 0.38029277 0.46741274]\n",
      " [0.44722723 0.2361643  0.31660847]\n",
      " [0.18155384 0.57683655 0.24160961]]\n"
     ]
    }
   ],
   "source": [
    "print(points)"
   ]
  },
  {
   "cell_type": "code",
   "execution_count": null,
   "id": "aa2bc47f",
   "metadata": {},
   "outputs": [],
   "source": []
  }
 ],
 "metadata": {
  "kernelspec": {
   "display_name": "Python 3",
   "language": "python",
   "name": "python3"
  },
  "language_info": {
   "codemirror_mode": {
    "name": "ipython",
    "version": 3
   },
   "file_extension": ".py",
   "mimetype": "text/x-python",
   "name": "python",
   "nbconvert_exporter": "python",
   "pygments_lexer": "ipython3",
   "version": "3.12.6"
  }
 },
 "nbformat": 4,
 "nbformat_minor": 5
}
