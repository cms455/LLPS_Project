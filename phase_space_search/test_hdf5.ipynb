{
 "cells": [
  {
   "cell_type": "code",
   "execution_count": 29,
   "metadata": {},
   "outputs": [],
   "source": [
    "import h5py\n",
    "import numpy as np\n"
   ]
  },
  {
   "cell_type": "code",
   "execution_count": 30,
   "metadata": {},
   "outputs": [],
   "source": [
    "d1 = np.random.random(size = (1000,20))\n",
    "d2 = np.random.random(size = (1000,200))\n",
    "d3 = np.random.random(size = (100,3333))"
   ]
  },
  {
   "cell_type": "code",
   "execution_count": 31,
   "metadata": {},
   "outputs": [],
   "source": [
    "folder_path = \"/Users/calvinsmith/dufresne_lab/phase_space_search/Saved_Phase_Data/\"\n",
    "\n",
    "file_path = folder_path + \"test_file_v2.h5\"\n",
    "hf = h5py.File(file_path, 'w')\n"
   ]
  },
  {
   "cell_type": "code",
   "execution_count": 32,
   "metadata": {},
   "outputs": [],
   "source": [
    "num_chi_m = 2\n",
    "num_comps = 3\n",
    "chi_matrix_1 = np.random.rand(num_comps)\n",
    "chi_matrix_2 = np.random.rand(num_comps)\n",
    "chi_matrix_set = np.array([chi_matrix_1,chi_matrix_2])\n",
    "\n",
    "volumes = np.ones(10)\n",
    "comp_fracs = np.ones(8)\n",
    "num_phases = np.ones(16)\n",
    "initial_points = np.ones(10)"
   ]
  },
  {
   "cell_type": "code",
   "execution_count": 33,
   "metadata": {},
   "outputs": [],
   "source": [
    "for i in range(num_chi_m):\n",
    "    g1 = hf.create_group(f\"chi_matrix_{i}\")\n",
    "    g2 = g1.create_group(\"evolved_phases\")\n"
   ]
  },
  {
   "cell_type": "code",
   "execution_count": null,
   "metadata": {},
   "outputs": [],
   "source": []
  },
  {
   "cell_type": "code",
   "execution_count": 34,
   "metadata": {},
   "outputs": [],
   "source": [
    "\n",
    "for i in range(num_chi_m):\n",
    "    g1 = hf[f\"chi_matrix_{i}\"]\n",
    "    g1.create_dataset(\"initial_points\", data = initial_points)\n",
    "    g1.create_dataset(\"chi_matrix\", data = chi_matrix_set[i])\n",
    "    g2 = g1[\"evolved_phases\"]\n",
    "    g2.create_dataset(\"volumes\", data = volumes)\n",
    "    g2.create_dataset(\"comp_fracs\", data = comp_fracs)\n",
    "    g2.create_dataset(\"num_phases\", data = num_phases)"
   ]
  },
  {
   "cell_type": "code",
   "execution_count": 17,
   "metadata": {},
   "outputs": [
    {
     "data": {
      "text/plain": [
       "<HDF5 dataset \"dataset_2\": shape (1000, 200), type \"<f8\">"
      ]
     },
     "execution_count": 17,
     "metadata": {},
     "output_type": "execute_result"
    }
   ],
   "source": [
    "g1.create_dataset('dataset_1',data = d1)\n",
    "g1.create_dataset('dataset_2',data = d2)"
   ]
  },
  {
   "cell_type": "code",
   "execution_count": 35,
   "metadata": {},
   "outputs": [
    {
     "name": "stdout",
     "output_type": "stream",
     "text": [
      "chi_matrix_0 <HDF5 group \"/chi_matrix_0\" (3 members)>\n",
      "chi_matrix_0/chi_matrix <HDF5 dataset \"chi_matrix\": shape (3,), type \"<f8\">\n",
      "chi_matrix_0/evolved_phases <HDF5 group \"/chi_matrix_0/evolved_phases\" (3 members)>\n",
      "chi_matrix_0/evolved_phases/comp_fracs <HDF5 dataset \"comp_fracs\": shape (8,), type \"<f8\">\n",
      "chi_matrix_0/evolved_phases/num_phases <HDF5 dataset \"num_phases\": shape (16,), type \"<f8\">\n",
      "chi_matrix_0/evolved_phases/volumes <HDF5 dataset \"volumes\": shape (10,), type \"<f8\">\n",
      "chi_matrix_0/initial_points <HDF5 dataset \"initial_points\": shape (10,), type \"<f8\">\n",
      "chi_matrix_1 <HDF5 group \"/chi_matrix_1\" (3 members)>\n",
      "chi_matrix_1/chi_matrix <HDF5 dataset \"chi_matrix\": shape (3,), type \"<f8\">\n",
      "chi_matrix_1/evolved_phases <HDF5 group \"/chi_matrix_1/evolved_phases\" (3 members)>\n",
      "chi_matrix_1/evolved_phases/comp_fracs <HDF5 dataset \"comp_fracs\": shape (8,), type \"<f8\">\n",
      "chi_matrix_1/evolved_phases/num_phases <HDF5 dataset \"num_phases\": shape (16,), type \"<f8\">\n",
      "chi_matrix_1/evolved_phases/volumes <HDF5 dataset \"volumes\": shape (10,), type \"<f8\">\n",
      "chi_matrix_1/initial_points <HDF5 dataset \"initial_points\": shape (10,), type \"<f8\">\n"
     ]
    }
   ],
   "source": [
    "with h5py.File(file_path, \"r\") as hf:\n",
    "    def print_structure(name, obj):\n",
    "        print(name, obj)\n",
    "\n",
    "    hf.visititems(print_structure)\n"
   ]
  },
  {
   "cell_type": "code",
   "execution_count": 8,
   "metadata": {},
   "outputs": [
    {
     "data": {
      "text/plain": [
       "<KeysViewHDF5 ['dataset_1', 'dataset_2']>"
      ]
     },
     "execution_count": 8,
     "metadata": {},
     "output_type": "execute_result"
    }
   ],
   "source": []
  },
  {
   "cell_type": "code",
   "execution_count": 9,
   "metadata": {},
   "outputs": [],
   "source": []
  },
  {
   "cell_type": "code",
   "execution_count": 11,
   "metadata": {},
   "outputs": [],
   "source": []
  },
  {
   "cell_type": "code",
   "execution_count": 13,
   "metadata": {},
   "outputs": [],
   "source": []
  },
  {
   "cell_type": "code",
   "execution_count": null,
   "metadata": {},
   "outputs": [],
   "source": []
  }
 ],
 "metadata": {
  "kernelspec": {
   "display_name": "Python 3",
   "language": "python",
   "name": "python3"
  },
  "language_info": {
   "codemirror_mode": {
    "name": "ipython",
    "version": 3
   },
   "file_extension": ".py",
   "mimetype": "text/x-python",
   "name": "python",
   "nbconvert_exporter": "python",
   "pygments_lexer": "ipython3",
   "version": "3.12.6"
  }
 },
 "nbformat": 4,
 "nbformat_minor": 2
}
