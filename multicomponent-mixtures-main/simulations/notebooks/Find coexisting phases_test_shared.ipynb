{
 "cells": [
  {
   "cell_type": "code",
   "execution_count": 1,
   "id": "59672767",
   "metadata": {
    "ExecuteTime": {
     "end_time": "2024-09-07T01:21:16.807078Z",
     "start_time": "2024-09-07T01:21:14.333722Z"
    }
   },
   "outputs": [],
   "source": [
    "import sys\n",
    "sys.path.append('../..')\n",
    "import multicomp as mm\n",
    "import numpy as np"
   ]
  },
  {
   "cell_type": "markdown",
   "id": "33d8b1f1",
   "metadata": {},
   "source": [
    "# Generate Combinations(Calvin)"
   ]
  },
  {
   "cell_type": "code",
   "execution_count": 2,
   "id": "fd049320",
   "metadata": {
    "ExecuteTime": {
     "end_time": "2024-09-07T01:21:16.820746Z",
     "start_time": "2024-09-07T01:21:16.811090Z"
    }
   },
   "outputs": [],
   "source": [
    "import numpy as np\n",
    "\n",
    "def generate_combinations_2(num_components, step_size):\n",
    "    \n",
    "    combinations = []\n",
    "\n",
    "    \n",
    "    def generate(current, remaining, depth):\n",
    "        if depth == num_components - 1:\n",
    "            combinations.append(current + [remaining])\n",
    "            return\n",
    "        for i in np.arange(0, remaining + step_size, step_size):\n",
    "            generate(current + [i], remaining - i, depth + 1)\n",
    "\n",
    "    generate([], 1.0, 0)\n",
    "    return np.array(combinations)\n",
    "\n",
    "\n",
    "def replace_negative(matrix,small_val):\n",
    "    # Replace negative values in the matrix with 0.01\n",
    "    modified_matrix = np.where(matrix < 0, small_val, matrix)\n",
    "    return modified_matrix\n",
    "\n",
    "\n",
    "\n",
    "\n",
    "def thresh(arr, threshold):\n",
    "    # Create a boolean mask where True indicates that all elements in the row are above the threshold\n",
    "    mask = np.all(arr >= threshold, axis=1)\n",
    "\n",
    "    # Use the mask to select rows that meet the condition\n",
    "    return arr[mask]\n"
   ]
  },
  {
   "cell_type": "code",
   "execution_count": 3,
   "id": "bbbe0c7c",
   "metadata": {
    "ExecuteTime": {
     "end_time": "2024-09-07T01:21:16.833952Z",
     "start_time": "2024-09-07T01:21:16.824425Z"
    }
   },
   "outputs": [
    {
     "name": "stdout",
     "output_type": "stream",
     "text": [
      "[[0.1 0.1 0.8]\n",
      " [0.1 0.2 0.7]\n",
      " [0.1 0.3 0.6]\n",
      " [0.1 0.4 0.5]\n",
      " [0.1 0.5 0.4]\n",
      " [0.1 0.6 0.3]\n",
      " [0.1 0.7 0.2]\n",
      " [0.2 0.1 0.7]\n",
      " [0.2 0.2 0.6]\n",
      " [0.2 0.3 0.5]\n",
      " [0.2 0.4 0.4]\n",
      " [0.2 0.5 0.3]\n",
      " [0.2 0.6 0.2]\n",
      " [0.3 0.1 0.6]\n",
      " [0.3 0.2 0.5]\n",
      " [0.3 0.3 0.4]\n",
      " [0.3 0.4 0.3]\n",
      " [0.3 0.5 0.2]\n",
      " [0.4 0.1 0.5]\n",
      " [0.4 0.2 0.4]\n",
      " [0.4 0.3 0.3]\n",
      " [0.4 0.4 0.2]\n",
      " [0.5 0.1 0.4]\n",
      " [0.5 0.2 0.3]\n",
      " [0.5 0.3 0.2]\n",
      " [0.6 0.1 0.3]\n",
      " [0.6 0.2 0.2]\n",
      " [0.7 0.1 0.2]]\n"
     ]
    }
   ],
   "source": [
    "\n",
    "#Generate combinations with (num_comp, step_size)\n",
    "#Threshold function, gets rid of all rows with values less than threshold\n",
    "\n",
    "combinations = generate_combinations_2(3,0.1)\n",
    "combinations = thresh(combinations,0.1)\n",
    "print(combinations)\n",
    "\n",
    "\n",
    "#combinations = np.array([row for row in combinations if 0 not in row])\n",
    "#combinations -= 0.01\n",
    "#combinations = replace_negative(combinations,0.01)\n",
    "#print(combinations)\n"
   ]
  },
  {
   "cell_type": "markdown",
   "id": "3e3c1376",
   "metadata": {},
   "source": [
    "# Obtain coexisting phases for an arbitrary interaction matrix and average compositions\n",
    "Note: package assumes the existence of an inert solvent, determined by the incompressibility condition."
   ]
  },
  {
   "cell_type": "markdown",
   "id": "6b67b7ac",
   "metadata": {},
   "source": [
    "## system settings"
   ]
  },
  {
   "cell_type": "code",
   "execution_count": 4,
   "id": "a5c2946a",
   "metadata": {
    "ExecuteTime": {
     "end_time": "2024-09-07T01:21:16.841855Z",
     "start_time": "2024-09-07T01:21:16.837175Z"
    }
   },
   "outputs": [],
   "source": [
    "# an arbitrary symmetric matrix of 4 components + 1 inert solvent.\n",
    "# The interaction between components and the solvent is assume to be zero.\n",
    "# Note that the diagonal elements are not necessary to be zero.\n",
    "# With non-zero diagonal elements, the system will be effective interactions between solvent and other components.\n",
    "'''chi_matrix = [\n",
    "    [0.0, 4.0, 5.0, 6.0],\n",
    "    [4.0, 0.0, 7.0, 6.0],\n",
    "    [5.0, 7.0, 0.0, 3.0],\n",
    "    [6.0, 6.0, 3.0, 0.0],\n",
    "]'''\n",
    "\n",
    "\n",
    "chi_matrix = np.array([[0, 2.7, 2.8], [0, 0, 2.9], [0, 0, 0]])\n",
    "chi_matrix = chi_matrix + chi_matrix.T\n",
    "\n",
    "# average compositions of the entire system\n",
    "# the volume fraction of the solvent is determined by incompressibility\n",
    "phi_vector = [0.33, 0.33, 0.33]"
   ]
  },
  {
   "cell_type": "markdown",
   "id": "f74f3b87",
   "metadata": {},
   "source": [
    "## Create some compartments"
   ]
  },
  {
   "cell_type": "code",
   "execution_count": 5,
   "id": "354a9e18",
   "metadata": {
    "ExecuteTime": {
     "end_time": "2024-09-07T01:21:16.908306Z",
     "start_time": "2024-09-07T01:21:16.901732Z"
    }
   },
   "outputs": [],
   "source": [
    "# number of phases that the system will generate\n",
    "num_compartments = 64 # a overkill but safe choice for 4+1 components\n",
    "# create the Flory-Huggins free energy\n",
    "fh_energy = mm.FloryHuggins(np.array(chi_matrix))\n",
    "# generate a collection of compartments\n",
    "# we generate compartments that all of them share the same composition, namely the average composition, here.\n",
    "# the FieldLikeRelaxationDynamics afterwards will add fluctuations to the compositions itself.\n",
    "\n",
    "\n",
    "phis = [phi_vector] * num_compartments\n",
    "mixture = mm.MultiphaseVolumeSystem(\n",
    "    fh_energy, \n",
    "    np.array(phis), # compositions of each compartment\n",
    "    np.ones(num_compartments) / num_compartments # relative volume of each compartment\n",
    ")"
   ]
  },
  {
   "cell_type": "markdown",
   "id": "fdbe6b03",
   "metadata": {},
   "source": [
    "## Hyperparameters "
   ]
  },
  {
   "cell_type": "code",
   "execution_count": 6,
   "id": "48b611ec",
   "metadata": {
    "ExecuteTime": {
     "end_time": "2024-09-07T01:21:17.635692Z",
     "start_time": "2024-09-07T01:21:17.628335Z"
    }
   },
   "outputs": [],
   "source": [
    "dynamics_params = {\n",
    "    \"initialization_random_std\": 5,  # how random the initial guess is\n",
    "    \"acceptance_Js\": 0.0002, # how fast the relative volumes are evolved\n",
    "    \"acceptance_omega\": 0.002, # how fast the compositions are evolved\n",
    "}\n",
    "\n",
    "evolve_params = {\n",
    "    \"t_range\": 1000000,  # maximum iteration steps\n",
    "    \"dt\": 1,  # always unity for FieldLikeRelaxationDynamics\n",
    "    \"interval\": 10000,  # the frequency for checking convergence\n",
    "    \"tolerance\": 1e-5,  # criteria for determining convergence\n",
    "    \"progress\": True,\n",
    "    \"save_intermediate_data\": False,\n",
    "}"
   ]
  },
  {
   "cell_type": "markdown",
   "id": "ce0d177a",
   "metadata": {},
   "source": [
    "## Create the dynamics and find the coexisting states"
   ]
  },
  {
   "cell_type": "code",
   "execution_count": 7,
   "id": "862da6fa",
   "metadata": {
    "ExecuteTime": {
     "end_time": "2024-09-07T01:22:01.544706Z",
     "start_time": "2024-09-07T01:21:18.221971Z"
    }
   },
   "outputs": [
    {
     "data": {
      "application/vnd.jupyter.widget-view+json": {
       "model_id": "3dc13e48439349f4a0b39458900fd48e",
       "version_major": 2,
       "version_minor": 0
      },
      "text/plain": [
       "HBox(children=(HTML(value=''), FloatProgress(value=0.0), HTML(value='')))"
      ]
     },
     "metadata": {},
     "output_type": "display_data"
    },
    {
     "name": "stdout",
     "output_type": "stream",
     "text": [
      "\n"
     ]
    }
   ],
   "source": [
    "dynamics = mm.FieldLikeRelaxationDynamics(mixture, parameters=dynamics_params)\n",
    "ts, result = dynamics.evolve(**evolve_params)"
   ]
  },
  {
   "cell_type": "markdown",
   "id": "462aa9b8",
   "metadata": {},
   "source": [
    "## Print and Check"
   ]
  },
  {
   "cell_type": "code",
   "execution_count": 8,
   "id": "a2c5c281",
   "metadata": {
    "ExecuteTime": {
     "end_time": "2024-09-07T01:22:01.559367Z",
     "start_time": "2024-09-07T01:22:01.547701Z"
    }
   },
   "outputs": [
    {
     "name": "stdout",
     "output_type": "stream",
     "text": [
      "3 phases are found\n",
      "Compositions are \n",
      "[[0.1424392  0.13023922 0.71840182]\n",
      " [0.18312692 0.65530354 0.15188124]\n",
      " [0.54555077 0.23366222 0.20990698]]\n",
      "Convergence is (lower the better) \n",
      "0.000546516010250633\n"
     ]
    }
   ],
   "source": [
    "unique_phases = result.get_clusters()\n",
    "print(len(unique_phases), \"phases are found\")\n",
    "print(\"Compositions are \")\n",
    "print(unique_phases)\n",
    "print(\"Convergence is (lower the better) \")\n",
    "print(result.entropy_production)\n",
    "\n"
   ]
  },
  {
   "cell_type": "markdown",
   "id": "f036bbb3",
   "metadata": {},
   "source": [
    "# Test Functions"
   ]
  },
  {
   "cell_type": "code",
   "execution_count": 9,
   "id": "38db491d",
   "metadata": {
    "ExecuteTime": {
     "end_time": "2024-09-07T01:22:01.571120Z",
     "start_time": "2024-09-07T01:22:01.564484Z"
    }
   },
   "outputs": [],
   "source": [
    "def get_no_of_phases(phi_vector,fh_energy):\n",
    "    dynamics_params = {\n",
    "    \"initialization_random_std\": 5,  # how random the initial guess is\n",
    "    \"acceptance_Js\": 0.0002, # how fast the relative volumes are evolved\n",
    "    \"acceptance_omega\": 0.002, # how fast the compositions are evolved\n",
    "    }\n",
    "\n",
    "    evolve_params = {\n",
    "    \"t_range\": 1000000,  # maximum iteration steps\n",
    "    \"dt\": 1,  # always unity for FieldLikeRelaxationDynamics\n",
    "    \"interval\": 10000,  # the frequency for checking convergence\n",
    "    \"tolerance\": 1e-5,  # criteria for determining convergence\n",
    "    \"progress\": True,\n",
    "    \"save_intermediate_data\": False,\n",
    "    }\n",
    "    num_compartments = 64\n",
    "    phis = [phi_vector] * num_compartments\n",
    "    mixture = mm.MultiphaseVolumeSystem(\n",
    "        fh_energy, \n",
    "        np.array(phis), # compositions of each compartment\n",
    "        np.ones(num_compartments) / num_compartments # relative volume of each compartment\n",
    "    )    \n",
    "    \n",
    "    dynamics = mm.FieldLikeRelaxationDynamics(mixture, parameters=dynamics_params)\n",
    "    ts, result = dynamics.evolve(**evolve_params)\n",
    "    unique_phases = result.get_clusters()\n",
    "    return len(unique_phases)\n",
    "    \n",
    "    \n"
   ]
  },
  {
   "cell_type": "code",
   "execution_count": 10,
   "id": "bba1891d",
   "metadata": {
    "ExecuteTime": {
     "end_time": "2024-09-07T01:22:26.286125Z",
     "start_time": "2024-09-07T01:22:01.574169Z"
    }
   },
   "outputs": [
    {
     "data": {
      "application/vnd.jupyter.widget-view+json": {
       "model_id": "25d54007eed14830982375f31dc29bde",
       "version_major": 2,
       "version_minor": 0
      },
      "text/plain": [
       "HBox(children=(HTML(value=''), FloatProgress(value=0.0), HTML(value='')))"
      ]
     },
     "metadata": {},
     "output_type": "display_data"
    },
    {
     "name": "stdout",
     "output_type": "stream",
     "text": [
      "\n"
     ]
    },
    {
     "data": {
      "text/plain": [
       "3"
      ]
     },
     "execution_count": 10,
     "metadata": {},
     "output_type": "execute_result"
    }
   ],
   "source": [
    "get_no_of_phases(phi_vector,fh_energy)\n"
   ]
  },
  {
   "cell_type": "code",
   "execution_count": 11,
   "id": "65ca4fe4",
   "metadata": {
    "ExecuteTime": {
     "end_time": "2024-09-07T01:27:26.290164Z",
     "start_time": "2024-09-07T01:22:26.288497Z"
    }
   },
   "outputs": [
    {
     "name": "stdout",
     "output_type": "stream",
     "text": [
      "start\n",
      "Init ternary_matrix\n"
     ]
    },
    {
     "data": {
      "application/vnd.jupyter.widget-view+json": {
       "model_id": "b8e1257a199e47c9bbd84ec095eac1f6",
       "version_major": 2,
       "version_minor": 0
      },
      "text/plain": [
       "HBox(children=(HTML(value=''), FloatProgress(value=0.0, max=28.0), HTML(value='')))"
      ]
     },
     "metadata": {},
     "output_type": "display_data"
    },
    {
     "name": "stdout",
     "output_type": "stream",
     "text": [
      "row 0\n"
     ]
    },
    {
     "data": {
      "application/vnd.jupyter.widget-view+json": {
       "model_id": "1cff54cf238a4c5699fa564ed134c383",
       "version_major": 2,
       "version_minor": 0
      },
      "text/plain": [
       "HBox(children=(HTML(value=''), FloatProgress(value=0.0), HTML(value='')))"
      ]
     },
     "metadata": {},
     "output_type": "display_data"
    },
    {
     "name": "stdout",
     "output_type": "stream",
     "text": [
      "\n",
      "1\n",
      "row 1\n"
     ]
    },
    {
     "data": {
      "application/vnd.jupyter.widget-view+json": {
       "model_id": "fae5c80216284f1c94fd4e948951a183",
       "version_major": 2,
       "version_minor": 0
      },
      "text/plain": [
       "HBox(children=(HTML(value=''), FloatProgress(value=0.0), HTML(value='')))"
      ]
     },
     "metadata": {},
     "output_type": "display_data"
    },
    {
     "name": "stdout",
     "output_type": "stream",
     "text": [
      "\n",
      "2\n",
      "row 2\n"
     ]
    },
    {
     "data": {
      "application/vnd.jupyter.widget-view+json": {
       "model_id": "d5f96c1defe5426c830fdc541eaa3290",
       "version_major": 2,
       "version_minor": 0
      },
      "text/plain": [
       "HBox(children=(HTML(value=''), FloatProgress(value=0.0), HTML(value='')))"
      ]
     },
     "metadata": {},
     "output_type": "display_data"
    },
    {
     "name": "stdout",
     "output_type": "stream",
     "text": [
      "\n",
      "2\n",
      "row 3\n"
     ]
    },
    {
     "data": {
      "application/vnd.jupyter.widget-view+json": {
       "model_id": "8d2ae116ed12405d832d9e1ddc039e50",
       "version_major": 2,
       "version_minor": 0
      },
      "text/plain": [
       "HBox(children=(HTML(value=''), FloatProgress(value=0.0), HTML(value='')))"
      ]
     },
     "metadata": {},
     "output_type": "display_data"
    },
    {
     "name": "stdout",
     "output_type": "stream",
     "text": [
      "\n",
      "2\n",
      "row 4\n"
     ]
    },
    {
     "data": {
      "application/vnd.jupyter.widget-view+json": {
       "model_id": "bdf2d6ef82c04cbc8ff5aa95c4241c09",
       "version_major": 2,
       "version_minor": 0
      },
      "text/plain": [
       "HBox(children=(HTML(value=''), FloatProgress(value=0.0), HTML(value='')))"
      ]
     },
     "metadata": {},
     "output_type": "display_data"
    },
    {
     "name": "stdout",
     "output_type": "stream",
     "text": [
      "\n",
      "2\n",
      "row 5\n"
     ]
    },
    {
     "data": {
      "application/vnd.jupyter.widget-view+json": {
       "model_id": "02417f481e1d4c9ebe952ff249e661b8",
       "version_major": 2,
       "version_minor": 0
      },
      "text/plain": [
       "HBox(children=(HTML(value=''), FloatProgress(value=0.0), HTML(value='')))"
      ]
     },
     "metadata": {},
     "output_type": "display_data"
    },
    {
     "name": "stdout",
     "output_type": "stream",
     "text": [
      "\n",
      "2\n",
      "row 6\n"
     ]
    },
    {
     "data": {
      "application/vnd.jupyter.widget-view+json": {
       "model_id": "92c38e98e09149bfaaee523bf2859741",
       "version_major": 2,
       "version_minor": 0
      },
      "text/plain": [
       "HBox(children=(HTML(value=''), FloatProgress(value=0.0), HTML(value='')))"
      ]
     },
     "metadata": {},
     "output_type": "display_data"
    },
    {
     "name": "stdout",
     "output_type": "stream",
     "text": [
      "\n",
      "2\n",
      "row 7\n"
     ]
    },
    {
     "data": {
      "application/vnd.jupyter.widget-view+json": {
       "model_id": "eff3d99cb47e4aa7949c28b45d079fae",
       "version_major": 2,
       "version_minor": 0
      },
      "text/plain": [
       "HBox(children=(HTML(value=''), FloatProgress(value=0.0), HTML(value='')))"
      ]
     },
     "metadata": {},
     "output_type": "display_data"
    },
    {
     "name": "stdout",
     "output_type": "stream",
     "text": [
      "\n",
      "2\n",
      "row 8\n"
     ]
    },
    {
     "data": {
      "application/vnd.jupyter.widget-view+json": {
       "model_id": "bc7e19ed1ca54a12a8239d5a699adbb1",
       "version_major": 2,
       "version_minor": 0
      },
      "text/plain": [
       "HBox(children=(HTML(value=''), FloatProgress(value=0.0), HTML(value='')))"
      ]
     },
     "metadata": {},
     "output_type": "display_data"
    },
    {
     "name": "stdout",
     "output_type": "stream",
     "text": [
      "\n",
      "3\n",
      "row 9\n"
     ]
    },
    {
     "data": {
      "application/vnd.jupyter.widget-view+json": {
       "model_id": "f2d44132a1564e8292688451ea1921d8",
       "version_major": 2,
       "version_minor": 0
      },
      "text/plain": [
       "HBox(children=(HTML(value=''), FloatProgress(value=0.0), HTML(value='')))"
      ]
     },
     "metadata": {},
     "output_type": "display_data"
    },
    {
     "name": "stdout",
     "output_type": "stream",
     "text": [
      "\n",
      "3\n",
      "row 10\n"
     ]
    },
    {
     "data": {
      "application/vnd.jupyter.widget-view+json": {
       "model_id": "e3efaf0f37d544678b6e1982eaad5c6b",
       "version_major": 2,
       "version_minor": 0
      },
      "text/plain": [
       "HBox(children=(HTML(value=''), FloatProgress(value=0.0), HTML(value='')))"
      ]
     },
     "metadata": {},
     "output_type": "display_data"
    },
    {
     "name": "stdout",
     "output_type": "stream",
     "text": [
      "\n",
      "3\n",
      "row 11\n"
     ]
    },
    {
     "data": {
      "application/vnd.jupyter.widget-view+json": {
       "model_id": "3ae960fcdeb84186b921aa9dd86f754a",
       "version_major": 2,
       "version_minor": 0
      },
      "text/plain": [
       "HBox(children=(HTML(value=''), FloatProgress(value=0.0), HTML(value='')))"
      ]
     },
     "metadata": {},
     "output_type": "display_data"
    },
    {
     "name": "stdout",
     "output_type": "stream",
     "text": [
      "\n",
      "3\n",
      "row 12\n"
     ]
    },
    {
     "data": {
      "application/vnd.jupyter.widget-view+json": {
       "model_id": "d738b9f43345469fbfb9df311db39d6a",
       "version_major": 2,
       "version_minor": 0
      },
      "text/plain": [
       "HBox(children=(HTML(value=''), FloatProgress(value=0.0), HTML(value='')))"
      ]
     },
     "metadata": {},
     "output_type": "display_data"
    },
    {
     "name": "stdout",
     "output_type": "stream",
     "text": [
      "\n",
      "3\n",
      "row 13\n"
     ]
    },
    {
     "data": {
      "application/vnd.jupyter.widget-view+json": {
       "model_id": "2a31c9d238bc414b941bf3357adfc798",
       "version_major": 2,
       "version_minor": 0
      },
      "text/plain": [
       "HBox(children=(HTML(value=''), FloatProgress(value=0.0), HTML(value='')))"
      ]
     },
     "metadata": {},
     "output_type": "display_data"
    },
    {
     "name": "stdout",
     "output_type": "stream",
     "text": [
      "\n",
      "2\n",
      "row 14\n"
     ]
    },
    {
     "data": {
      "application/vnd.jupyter.widget-view+json": {
       "model_id": "dca2d5f0ff4b45188808768fc75720b5",
       "version_major": 2,
       "version_minor": 0
      },
      "text/plain": [
       "HBox(children=(HTML(value=''), FloatProgress(value=0.0), HTML(value='')))"
      ]
     },
     "metadata": {},
     "output_type": "display_data"
    },
    {
     "name": "stdout",
     "output_type": "stream",
     "text": [
      "\n",
      "3\n",
      "row 15\n"
     ]
    },
    {
     "data": {
      "application/vnd.jupyter.widget-view+json": {
       "model_id": "cbaa6d67de414c70a8fe4fa21c0bd67e",
       "version_major": 2,
       "version_minor": 0
      },
      "text/plain": [
       "HBox(children=(HTML(value=''), FloatProgress(value=0.0), HTML(value='')))"
      ]
     },
     "metadata": {},
     "output_type": "display_data"
    },
    {
     "name": "stdout",
     "output_type": "stream",
     "text": [
      "\n",
      "3\n",
      "row 16\n"
     ]
    },
    {
     "data": {
      "application/vnd.jupyter.widget-view+json": {
       "model_id": "d6d767aa95274ee997e694fb1c20708a",
       "version_major": 2,
       "version_minor": 0
      },
      "text/plain": [
       "HBox(children=(HTML(value=''), FloatProgress(value=0.0), HTML(value='')))"
      ]
     },
     "metadata": {},
     "output_type": "display_data"
    },
    {
     "name": "stdout",
     "output_type": "stream",
     "text": [
      "\n",
      "3\n",
      "row 17\n"
     ]
    },
    {
     "data": {
      "application/vnd.jupyter.widget-view+json": {
       "model_id": "451f35b766d24b04ba37d6b3d533bee5",
       "version_major": 2,
       "version_minor": 0
      },
      "text/plain": [
       "HBox(children=(HTML(value=''), FloatProgress(value=0.0), HTML(value='')))"
      ]
     },
     "metadata": {},
     "output_type": "display_data"
    },
    {
     "name": "stdout",
     "output_type": "stream",
     "text": [
      "\n",
      "3\n",
      "row 18\n"
     ]
    },
    {
     "data": {
      "application/vnd.jupyter.widget-view+json": {
       "model_id": "07d02b420af042599fbc33bbf3d69920",
       "version_major": 2,
       "version_minor": 0
      },
      "text/plain": [
       "HBox(children=(HTML(value=''), FloatProgress(value=0.0), HTML(value='')))"
      ]
     },
     "metadata": {},
     "output_type": "display_data"
    },
    {
     "name": "stdout",
     "output_type": "stream",
     "text": [
      "\n",
      "2\n",
      "row 19\n"
     ]
    },
    {
     "data": {
      "application/vnd.jupyter.widget-view+json": {
       "model_id": "c1f6fd00addf4137b249d09be1f4c7a2",
       "version_major": 2,
       "version_minor": 0
      },
      "text/plain": [
       "HBox(children=(HTML(value=''), FloatProgress(value=0.0), HTML(value='')))"
      ]
     },
     "metadata": {},
     "output_type": "display_data"
    },
    {
     "name": "stdout",
     "output_type": "stream",
     "text": [
      "\n",
      "3\n",
      "row 20\n"
     ]
    },
    {
     "data": {
      "application/vnd.jupyter.widget-view+json": {
       "model_id": "02185ae7ad674cc4a63e18a69a111fad",
       "version_major": 2,
       "version_minor": 0
      },
      "text/plain": [
       "HBox(children=(HTML(value=''), FloatProgress(value=0.0), HTML(value='')))"
      ]
     },
     "metadata": {},
     "output_type": "display_data"
    },
    {
     "name": "stdout",
     "output_type": "stream",
     "text": [
      "\n",
      "3\n",
      "row 21\n"
     ]
    },
    {
     "data": {
      "application/vnd.jupyter.widget-view+json": {
       "model_id": "778f7cd17ec4469f9d93277e12d75689",
       "version_major": 2,
       "version_minor": 0
      },
      "text/plain": [
       "HBox(children=(HTML(value=''), FloatProgress(value=0.0), HTML(value='')))"
      ]
     },
     "metadata": {},
     "output_type": "display_data"
    },
    {
     "name": "stdout",
     "output_type": "stream",
     "text": [
      "\n",
      "3\n",
      "row 22\n"
     ]
    },
    {
     "data": {
      "application/vnd.jupyter.widget-view+json": {
       "model_id": "e8f53c73537c435e9b9677ecc3d16603",
       "version_major": 2,
       "version_minor": 0
      },
      "text/plain": [
       "HBox(children=(HTML(value=''), FloatProgress(value=0.0), HTML(value='')))"
      ]
     },
     "metadata": {},
     "output_type": "display_data"
    },
    {
     "name": "stdout",
     "output_type": "stream",
     "text": [
      "\n",
      "\n"
     ]
    },
    {
     "ename": "KeyboardInterrupt",
     "evalue": "",
     "output_type": "error",
     "traceback": [
      "\u001b[0;31m---------------------------------------------------------------------------\u001b[0m",
      "\u001b[0;31mKeyboardInterrupt\u001b[0m                         Traceback (most recent call last)",
      "\u001b[0;32m<ipython-input-11-810c6bf6785b>\u001b[0m in \u001b[0;36m<module>\u001b[0;34m\u001b[0m\n\u001b[1;32m     20\u001b[0m     \u001b[0;31m# Apply the arbitrary function to the row and add the result to the second column\u001b[0m\u001b[0;34m\u001b[0m\u001b[0;34m\u001b[0m\u001b[0;34m\u001b[0m\u001b[0m\n\u001b[1;32m     21\u001b[0m     \u001b[0mfh_energy\u001b[0m \u001b[0;34m=\u001b[0m \u001b[0mmm\u001b[0m\u001b[0;34m.\u001b[0m\u001b[0mFloryHuggins\u001b[0m\u001b[0;34m(\u001b[0m\u001b[0mnp\u001b[0m\u001b[0;34m.\u001b[0m\u001b[0marray\u001b[0m\u001b[0;34m(\u001b[0m\u001b[0mchi_matrix\u001b[0m\u001b[0;34m)\u001b[0m\u001b[0;34m)\u001b[0m\u001b[0;34m\u001b[0m\u001b[0;34m\u001b[0m\u001b[0m\n\u001b[0;32m---> 22\u001b[0;31m     \u001b[0mternary_matrix\u001b[0m\u001b[0;34m[\u001b[0m\u001b[0mi\u001b[0m\u001b[0;34m,\u001b[0m \u001b[0;36m1\u001b[0m\u001b[0;34m]\u001b[0m \u001b[0;34m=\u001b[0m \u001b[0mget_no_of_phases\u001b[0m\u001b[0;34m(\u001b[0m\u001b[0mrow\u001b[0m\u001b[0;34m,\u001b[0m\u001b[0mfh_energy\u001b[0m\u001b[0;34m)\u001b[0m\u001b[0;34m\u001b[0m\u001b[0;34m\u001b[0m\u001b[0m\n\u001b[0m\u001b[1;32m     23\u001b[0m     \u001b[0mprint\u001b[0m\u001b[0;34m(\u001b[0m\u001b[0mternary_matrix\u001b[0m\u001b[0;34m[\u001b[0m\u001b[0mi\u001b[0m\u001b[0;34m,\u001b[0m\u001b[0;36m1\u001b[0m\u001b[0;34m]\u001b[0m\u001b[0;34m)\u001b[0m\u001b[0;34m\u001b[0m\u001b[0;34m\u001b[0m\u001b[0m\n\u001b[1;32m     24\u001b[0m \u001b[0;34m\u001b[0m\u001b[0m\n",
      "\u001b[0;32m<ipython-input-9-e5627d49d843>\u001b[0m in \u001b[0;36mget_no_of_phases\u001b[0;34m(phi_vector, fh_energy)\u001b[0m\n\u001b[1;32m     23\u001b[0m \u001b[0;34m\u001b[0m\u001b[0m\n\u001b[1;32m     24\u001b[0m     \u001b[0mdynamics\u001b[0m \u001b[0;34m=\u001b[0m \u001b[0mmm\u001b[0m\u001b[0;34m.\u001b[0m\u001b[0mFieldLikeRelaxationDynamics\u001b[0m\u001b[0;34m(\u001b[0m\u001b[0mmixture\u001b[0m\u001b[0;34m,\u001b[0m \u001b[0mparameters\u001b[0m\u001b[0;34m=\u001b[0m\u001b[0mdynamics_params\u001b[0m\u001b[0;34m)\u001b[0m\u001b[0;34m\u001b[0m\u001b[0;34m\u001b[0m\u001b[0m\n\u001b[0;32m---> 25\u001b[0;31m     \u001b[0mts\u001b[0m\u001b[0;34m,\u001b[0m \u001b[0mresult\u001b[0m \u001b[0;34m=\u001b[0m \u001b[0mdynamics\u001b[0m\u001b[0;34m.\u001b[0m\u001b[0mevolve\u001b[0m\u001b[0;34m(\u001b[0m\u001b[0;34m**\u001b[0m\u001b[0mevolve_params\u001b[0m\u001b[0;34m)\u001b[0m\u001b[0;34m\u001b[0m\u001b[0;34m\u001b[0m\u001b[0m\n\u001b[0m\u001b[1;32m     26\u001b[0m     \u001b[0munique_phases\u001b[0m \u001b[0;34m=\u001b[0m \u001b[0mresult\u001b[0m\u001b[0;34m.\u001b[0m\u001b[0mget_clusters\u001b[0m\u001b[0;34m(\u001b[0m\u001b[0;34m)\u001b[0m\u001b[0;34m\u001b[0m\u001b[0;34m\u001b[0m\u001b[0m\n\u001b[1;32m     27\u001b[0m     \u001b[0;32mreturn\u001b[0m \u001b[0mlen\u001b[0m\u001b[0;34m(\u001b[0m\u001b[0munique_phases\u001b[0m\u001b[0;34m)\u001b[0m\u001b[0;34m\u001b[0m\u001b[0;34m\u001b[0m\u001b[0m\n",
      "\u001b[0;32m~/dufresne_lab/multicomponent-mixtures-main/multicomp/dynamics_field_like.py\u001b[0m in \u001b[0;36mevolve\u001b[0;34m(self, t_range, dt, interval, tolerance, progress, save_intermediate_data)\u001b[0m\n\u001b[1;32m    548\u001b[0m                 \u001b[0mrevive_count\u001b[0m\u001b[0;34m,\u001b[0m\u001b[0;34m\u001b[0m\u001b[0;34m\u001b[0m\u001b[0m\n\u001b[1;32m    549\u001b[0m                 \u001b[0mis_last_step_safe\u001b[0m\u001b[0;34m,\u001b[0m\u001b[0;34m\u001b[0m\u001b[0;34m\u001b[0m\u001b[0m\n\u001b[0;32m--> 550\u001b[0;31m             \u001b[0;34m)\u001b[0m \u001b[0;34m=\u001b[0m \u001b[0mfield_like_relaxation_dynamics_impl\u001b[0m\u001b[0;34m(\u001b[0m\u001b[0;34m\u001b[0m\u001b[0;34m\u001b[0m\u001b[0m\n\u001b[0m\u001b[1;32m    551\u001b[0m                 \u001b[0mphi_means\u001b[0m\u001b[0;34m,\u001b[0m\u001b[0;34m\u001b[0m\u001b[0;34m\u001b[0m\u001b[0m\n\u001b[1;32m    552\u001b[0m                 \u001b[0mchis_all\u001b[0m\u001b[0;34m,\u001b[0m\u001b[0;34m\u001b[0m\u001b[0;34m\u001b[0m\u001b[0m\n",
      "\u001b[0;31mKeyboardInterrupt\u001b[0m: "
     ]
    }
   ],
   "source": [
    "from tqdm.notebook import tqdm\n",
    "print(\"start\")\n",
    "'''\n",
    "combinations = generate_combinations_2(3,0.1)\n",
    "combinations = np.array([row for row in combinations if 0 not in row])\n",
    "\n",
    "combinations -= 0.01\n",
    "combinations = replace_negative(combinations,0.01)\n",
    "'''\n",
    "ternary_matrix = np.empty((combinations.shape[0], 2), dtype=object)\n",
    "#print(combinations)\n",
    "\n",
    "print(\"Init ternary_matrix\")\n",
    "\n",
    "\n",
    "for i, row in enumerate(tqdm(combinations)):\n",
    "    print(\"row \" + str(i))\n",
    "    ternary_matrix[i, 0] = row\n",
    "   \n",
    "    # Apply the arbitrary function to the row and add the result to the second column\n",
    "    fh_energy = mm.FloryHuggins(np.array(chi_matrix))\n",
    "    ternary_matrix[i, 1] = get_no_of_phases(row,fh_energy)\n",
    "    print(ternary_matrix[i,1])\n",
    "\n",
    "    \n"
   ]
  },
  {
   "cell_type": "markdown",
   "id": "a4e9d3f6",
   "metadata": {},
   "source": [
    "# Plot Ternary Diagram"
   ]
  },
  {
   "cell_type": "code",
   "execution_count": null,
   "id": "992b1a76",
   "metadata": {
    "ExecuteTime": {
     "end_time": "2024-09-07T01:27:26.293238Z",
     "start_time": "2024-09-07T01:21:23.764Z"
    }
   },
   "outputs": [],
   "source": [
    "import matplotlib.pyplot as plt\n",
    "import mpltern  # Import the mpltern package for ternary plots\n",
    "def plot_ternary(data):\n",
    "\n",
    "    ternary_components = np.array([item[0].flatten() for item in data])\n",
    "    values = np.array([item[1] for item in data])\n",
    "\n",
    "    # Create ternary plot\n",
    "    fig, tax = plt.subplots(subplot_kw=dict(projection='ternary'))\n",
    "\n",
    "    # Scatter plot where color depends on the value\n",
    "    sc = tax.scatter(ternary_components[:, 0], ternary_components[:, 1], ternary_components[:, 2], c=values, cmap='viridis')\n",
    "\n",
    "    # Add color bar\n",
    "    plt.colorbar(sc, label='Value')\n",
    "\n",
    "    # Setting labels for ternary axes\n",
    "    tax.set_tlabel(\"Component 1\")\n",
    "    tax.set_llabel(\"Component 2\")\n",
    "    tax.set_rlabel(\"Component 3\")\n",
    "\n",
    "    # Set title and other plot labels if necessary\n",
    "    plt.title(\"Ternary Phase Diagram\")\n",
    "\n",
    "    plt.show()\n",
    "\n",
    "\n"
   ]
  },
  {
   "cell_type": "code",
   "execution_count": 207,
   "id": "2353779e",
   "metadata": {},
   "outputs": [
    {
     "data": {
      "image/png": "[encoded data removed]",
      "text/plain": [
       "<Figure size 432x288 with 2 Axes>"
      ]
     },
     "metadata": {
      "needs_background": "light"
     },
     "output_type": "display_data"
    },
    {
     "name": "stdout",
     "output_type": "stream",
     "text": [
      "[[array([0.1, 0.1, 0.8]) 1]\n",
      " [array([0.1, 0.2, 0.7]) 2]\n",
      " [array([0.1, 0.3, 0.6]) 2]\n",
      " [array([0.1, 0.4, 0.5]) 2]\n",
      " [array([0.1, 0.5, 0.4]) 2]\n",
      " [array([0.1, 0.6, 0.3]) 2]\n",
      " [array([0.1, 0.7, 0.2]) 2]\n",
      " [array([0.2, 0.1, 0.7]) 2]\n",
      " [array([0.2, 0.2, 0.6]) 3]\n",
      " [array([0.2, 0.3, 0.5]) 3]\n",
      " [array([0.2, 0.4, 0.4]) 3]\n",
      " [array([0.2, 0.5, 0.3]) 3]\n",
      " [array([0.2, 0.6, 0.2]) 3]\n",
      " [array([0.3, 0.1, 0.6]) 2]\n",
      " [array([0.3, 0.2, 0.5]) 3]\n",
      " [array([0.3, 0.3, 0.4]) 3]\n",
      " [array([0.3, 0.4, 0.3]) 3]\n",
      " [array([0.3, 0.5, 0.2]) 3]\n",
      " [array([0.4, 0.1, 0.5]) 2]\n",
      " [array([0.4, 0.2, 0.4]) 3]\n",
      " [array([0.4, 0.3, 0.3]) 3]\n",
      " [array([0.4, 0.4, 0.2]) 3]\n",
      " [array([0.5, 0.1, 0.4]) 2]\n",
      " [array([0.5, 0.2, 0.3]) 3]\n",
      " [array([0.5, 0.3, 0.2]) 3]\n",
      " [array([0.6, 0.1, 0.3]) 2]\n",
      " [array([0.6, 0.2, 0.2]) 3]\n",
      " [array([0.7, 0.1, 0.2]) 2]]\n"
     ]
    }
   ],
   "source": [
    "plot_ternary(ternary_matrix)\n",
    "print(ternary_matrix)"
   ]
  },
  {
   "cell_type": "code",
   "execution_count": null,
   "id": "b3902d56",
   "metadata": {},
   "outputs": [],
   "source": []
  },
  {
   "cell_type": "code",
   "execution_count": 208,
   "id": "b2497e95",
   "metadata": {},
   "outputs": [
    {
     "data": {
      "image/png": "[encoded data removed]",
      "text/plain": [
       "<Figure size 432x288 with 2 Axes>"
      ]
     },
     "metadata": {
      "needs_background": "light"
     },
     "output_type": "display_data"
    }
   ],
   "source": []
  },
  {
   "cell_type": "code",
   "execution_count": null,
   "id": "2ccecfca",
   "metadata": {},
   "outputs": [],
   "source": []
  }
 ],
 "metadata": {
  "kernelspec": {
   "display_name": "Python 3",
   "language": "python",
   "name": "python3"
  },
  "language_info": {
   "codemirror_mode": {
    "name": "ipython",
    "version": 3
   },
   "file_extension": ".py",
   "mimetype": "text/x-python",
   "name": "python",
   "nbconvert_exporter": "python",
   "pygments_lexer": "ipython3",
   "version": "3.8.5"
  },
  "toc": {
   "base_numbering": 1,
   "nav_menu": {},
   "number_sections": true,
   "sideBar": true,
   "skip_h1_title": false,
   "title_cell": "Table of Contents",
   "title_sidebar": "Contents",
   "toc_cell": false,
   "toc_position": {
    "height": "calc(100% - 180px)",
    "left": "10px",
    "top": "150px",
    "width": "252px"
   },
   "toc_section_display": true,
   "toc_window_display": true
  }
 },
 "nbformat": 4,
 "nbformat_minor": 5
}
