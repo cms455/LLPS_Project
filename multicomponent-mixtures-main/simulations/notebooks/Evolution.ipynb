{
 "cells": [
  {
   "cell_type": "code",
   "execution_count": 1,
   "id": "confirmed-script",
   "metadata": {},
   "outputs": [],
   "source": [
    "import sys\n",
    "\n",
    "sys.path.append(\"../..\")\n",
    "sys.path.append(\"../../../py-modelrunner\")\n",
    "sys.path.append(\"../../../py-pde\")\n",
    "\n",
    "import time\n",
    "from collections import Counter\n",
    "from itertools import product\n",
    "\n",
    "import numpy as np\n",
    "import matplotlib.pyplot as plt\n",
    "from matplotlib import cm\n",
    "import pandas as pd\n",
    "\n",
    "from tqdm.auto import tqdm"
   ]
  },
  {
   "cell_type": "code",
   "execution_count": 2,
   "id": "creative-crawford",
   "metadata": {},
   "outputs": [],
   "source": [
    "from multicomp import evolution"
   ]
  },
  {
   "cell_type": "markdown",
   "id": "nasty-conclusion",
   "metadata": {},
   "source": [
    "# Test Individual"
   ]
  },
  {
   "cell_type": "code",
   "execution_count": 3,
   "id": "liquid-somalia",
   "metadata": {
    "scrolled": true
   },
   "outputs": [
    {
     "name": "stdout",
     "output_type": "stream",
     "text": [
      "num_comp_init: int = 4\n",
      "chi_mean: float = 9.0\n",
      "chi_std: float = 1.0\n",
      "repetitions: int = 3\n",
      "num_phases: int = 6\n",
      "composition_sigma: float = 1.0\n",
      "mutation_size: float = 0.5\n",
      "gene_mut_rate: float = 1.0\n",
      "gene_dup_rate: float = 0.0\n",
      "gene_loss_rate: float = 0.0\n",
      "num_comp_max: int = 128\n"
     ]
    }
   ],
   "source": [
    "ind = evolution.Individual({\"num_comp_init\": 4, \"repetitions\": 3})\n",
    "ind.show_parameters()"
   ]
  },
  {
   "cell_type": "code",
   "execution_count": 4,
   "id": "rolled-distance",
   "metadata": {},
   "outputs": [
    {
     "data": {
      "application/vnd.jupyter.widget-view+json": {
       "model_id": "1cbe4e734f1f43c39a17f8132198d3c4",
       "version_major": 2,
       "version_minor": 0
      },
      "text/plain": [
       "  0%|          | 0/3 [00:00<?, ?it/s]"
      ]
     },
     "metadata": {},
     "output_type": "display_data"
    },
    {
     "data": {
      "text/plain": [
       "array([0., 0., 0., 0., 1.])"
      ]
     },
     "execution_count": 4,
     "metadata": {},
     "output_type": "execute_result"
    }
   ],
   "source": [
    "res = ind.estimate_emulsion_size()\n",
    "res"
   ]
  },
  {
   "cell_type": "code",
   "execution_count": 5,
   "id": "controversial-drink",
   "metadata": {},
   "outputs": [
    {
     "data": {
      "text/plain": [
       "{'reached_final_time': 0, 'simulation_aborted': 0}"
      ]
     },
     "execution_count": 5,
     "metadata": {},
     "output_type": "execute_result"
    }
   ],
   "source": [
    "ind.diagnostics"
   ]
  },
  {
   "cell_type": "markdown",
   "id": "deadly-factory",
   "metadata": {},
   "source": [
    "# Test Population"
   ]
  },
  {
   "cell_type": "code",
   "execution_count": 6,
   "id": "corrected-prerequisite",
   "metadata": {},
   "outputs": [],
   "source": [
    "p_ind = {\n",
    "    \"num_comp_init\": 5,\n",
    "    \"repetitions\": 3,\n",
    "    \"mutation_size\": 1.0,\n",
    "}"
   ]
  },
  {
   "cell_type": "code",
   "execution_count": 7,
   "id": "lonely-apartment",
   "metadata": {},
   "outputs": [],
   "source": [
    "pop = evolution.Population(\n",
    "    [evolution.Individual(p_ind) for _ in range(4)], {\"num_processes\": 4}\n",
    ")"
   ]
  },
  {
   "cell_type": "code",
   "execution_count": 8,
   "id": "sharing-cathedral",
   "metadata": {},
   "outputs": [
    {
     "name": "stdout",
     "output_type": "stream",
     "text": [
      "fitness_tol: float = 1.0\n",
      "evolution_pressure: float = 0.5\n",
      "num_processes: int = 4\n",
      "evolve_method: str = 'replace_unfit'\n",
      "replace_fraction: float = 0.1\n"
     ]
    }
   ],
   "source": [
    "pop.show_parameters()"
   ]
  },
  {
   "cell_type": "code",
   "execution_count": 9,
   "id": "eastern-desire",
   "metadata": {},
   "outputs": [
    {
     "data": {
      "text/plain": [
       "{'emulsions_sizes': array([[0., 0., 0., 0., 0., 1.],\n",
       "        [0., 0., 0., 0., 0., 1.],\n",
       "        [0., 0., 0., 0., 0., 1.],\n",
       "        [0., 0., 0., 0., 0., 1.]]),\n",
       " 'fitnesses': array([0.13533528, 0.13533528, 0.13533528, 0.13533528]),\n",
       " 'kill_count': 1}"
      ]
     },
     "execution_count": 9,
     "metadata": {},
     "output_type": "execute_result"
    }
   ],
   "source": [
    "pop.evolve(3)"
   ]
  },
  {
   "cell_type": "code",
   "execution_count": null,
   "id": "civic-bench",
   "metadata": {},
   "outputs": [],
   "source": []
  }
 ],
 "metadata": {
  "kernelspec": {
   "display_name": "Python 3 (ipykernel)",
   "language": "python",
   "name": "python3"
  },
  "language_info": {
   "codemirror_mode": {
    "name": "ipython",
    "version": 3
   },
   "file_extension": ".py",
   "mimetype": "text/x-python",
   "name": "python",
   "nbconvert_exporter": "python",
   "pygments_lexer": "ipython3",
   "version": "3.9.7"
  },
  "toc": {
   "base_numbering": 1,
   "nav_menu": {},
   "number_sections": true,
   "sideBar": true,
   "skip_h1_title": false,
   "title_cell": "Table of Contents",
   "title_sidebar": "Contents",
   "toc_cell": false,
   "toc_position": {},
   "toc_section_display": true,
   "toc_window_display": false
  }
 },
 "nbformat": 4,
 "nbformat_minor": 5
}
