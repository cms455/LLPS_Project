{
 "cells": [
  {
   "cell_type": "code",
   "execution_count": 85,
   "id": "b346a4ff",
   "metadata": {
    "ExecuteTime": {
     "end_time": "2024-06-13T15:11:25.716256Z",
     "start_time": "2024-06-13T15:11:25.705430Z"
    }
   },
   "outputs": [
    {
     "data": {
      "text/plain": [
       "<module 'generate' from '/Users/calvinsmith/dufresne_lab/lab_work/modules/generate.py'>"
      ]
     },
     "execution_count": 85,
     "metadata": {},
     "output_type": "execute_result"
    }
   ],
   "source": [
    "import sys\n",
    "sys.path.append('/Users/calvinsmith/dufresne_lab/multicomponent-mixtures-main')\n",
    "import multicomp as mm\n",
    "import numpy as np\n",
    "sys.path.append('/Users/calvinsmith/dufresne_lab/lab_work/modules')\n",
    "import generate as gen\n",
    "\n",
    "import importlib\n",
    "from importlib import reload\n",
    "importlib.reload(gen)\n",
    "reload(gen)"
   ]
  },
  {
   "cell_type": "raw",
   "id": "b3b0602a",
   "metadata": {},
   "source": [
    "# Generate Combinations(Calvin)"
   ]
  },
  {
   "cell_type": "code",
   "execution_count": 86,
   "id": "806e61c3",
   "metadata": {
    "ExecuteTime": {
     "end_time": "2024-06-13T15:11:30.775094Z",
     "start_time": "2024-06-13T15:11:29.671342Z"
    }
   },
   "outputs": [
    {
     "name": "stdout",
     "output_type": "stream",
     "text": [
      "[[0.05 0.05 0.05 ... 0.05 0.05 0.7 ]\n",
      " [0.05 0.05 0.05 ... 0.05 0.1  0.65]\n",
      " [0.05 0.05 0.05 ... 0.05 0.15 0.6 ]\n",
      " ...\n",
      " [0.65 0.05 0.1  ... 0.05 0.05 0.05]\n",
      " [0.65 0.1  0.05 ... 0.05 0.05 0.05]\n",
      " [0.7  0.05 0.05 ... 0.05 0.05 0.05]]\n"
     ]
    }
   ],
   "source": [
    "\n",
    "#Generate combinations with (num_comp, step_size)\n",
    "#Threshold function, gets rid of all rows with values less than threshold\n",
    "\n",
    "num_comps = 7\n",
    "\n",
    "\n",
    "test_comb = gen.generate_combinations_2(num_comps,0.05)\n",
    "test_comb = gen.replace_negative(test_comb,0)\n",
    "test_comb = gen.thresh_2(test_comb,0.02)\n",
    "print(test_comb)\n",
    "\n",
    "combinations = test_comb\n"
   ]
  },
  {
   "cell_type": "markdown",
   "id": "cc6a5a46",
   "metadata": {},
   "source": [
    "# Obtain coexisting phases for an arbitrary interaction matrix and average compositions\n",
    "Note: package assumes the existence of an inert solvent, determined by the incompressibility condition."
   ]
  },
  {
   "cell_type": "markdown",
   "id": "7ce559dc",
   "metadata": {},
   "source": [
    "## system settings"
   ]
  },
  {
   "cell_type": "code",
   "execution_count": 87,
   "id": "0c72675a",
   "metadata": {
    "ExecuteTime": {
     "end_time": "2024-06-13T15:11:36.315685Z",
     "start_time": "2024-06-13T15:11:36.307607Z"
    }
   },
   "outputs": [],
   "source": [
    "# an arbitrary symmetric matrix of 4 components + 1 inert solvent.\n",
    "# The interaction between components and the solvent is assume to be zero.\n",
    "# Note that the diagonal elements are not necessary to be zero.\n",
    "# With non-zero diagonal elements, the system will be effective interactions between solvent and other components.\n",
    "'''chi_matrix = [\n",
    "    [0.0, 4.0, 5.0, 6.0],\n",
    "    [4.0, 0.0, 7.0, 6.0],\n",
    "    [5.0, 7.0, 0.0, 3.0],\n",
    "    [6.0, 6.0, 3.0, 0.0],\n",
    "]\n",
    "'''\n",
    "\n",
    "chi_matrix = np.array([[0, 2.2, 2.2], [0, 0, 2.2], [0, 0, 0]])\n",
    "chi_matrix = chi_matrix + chi_matrix.T\n",
    "\n",
    "# average compositions of the entire system\n",
    "# the volume fraction of the solvent is determined by incompressibility\n",
    "phi_vector = [0.33, 0.33, 0.33]"
   ]
  },
  {
   "cell_type": "code",
   "execution_count": null,
   "id": "c141c20b",
   "metadata": {
    "ExecuteTime": {
     "end_time": "2024-06-13T15:07:18.764550Z",
     "start_time": "2024-06-13T15:07:18.757501Z"
    }
   },
   "outputs": [],
   "source": []
  },
  {
   "cell_type": "markdown",
   "id": "7e59684c",
   "metadata": {},
   "source": [
    "## Create some compartments"
   ]
  },
  {
   "cell_type": "code",
   "execution_count": 88,
   "id": "71bb7deb",
   "metadata": {
    "ExecuteTime": {
     "end_time": "2024-06-13T15:11:38.154596Z",
     "start_time": "2024-06-13T15:11:38.148741Z"
    }
   },
   "outputs": [],
   "source": [
    "# number of phases that the system will generate\n",
    "num_compartments = 64 # a overkill but safe choice for 4+1 components\n",
    "# create the Flory-Huggins free energy\n",
    "fh_energy = mm.FloryHuggins(np.array(chi_matrix))\n",
    "# generate a collection of compartments\n",
    "# we generate compartments that all of them share the same composition, namely the average composition, here.\n",
    "# the FieldLikeRelaxationDynamics afterwards will add fluctuations to the compositions itself.\n",
    "\n",
    "\n",
    "phis = [phi_vector] * num_compartments\n",
    "mixture = mm.MultiphaseVolumeSystem(\n",
    "    fh_energy, \n",
    "    np.array(phis), # compositions of each compartment\n",
    "    np.ones(num_compartments) / num_compartments # relative volume of each compartment\n",
    ")\n"
   ]
  },
  {
   "cell_type": "markdown",
   "id": "bb3ae5a8",
   "metadata": {},
   "source": [
    "## Hyperparameters "
   ]
  },
  {
   "cell_type": "code",
   "execution_count": 89,
   "id": "f5ca7e87",
   "metadata": {
    "ExecuteTime": {
     "end_time": "2024-06-13T15:11:38.944376Z",
     "start_time": "2024-06-13T15:11:38.939927Z"
    }
   },
   "outputs": [],
   "source": [
    "dynamics_params = {\n",
    "    \"initialization_random_std\": 5,  # how random the initial guess is\n",
    "    \"acceptance_Js\": 0.0002, # how fast the relative volumes are evolved\n",
    "    \"acceptance_omega\": 0.002, # how fast the compositions are evolved\n",
    "}\n",
    "\n",
    "evolve_params = {\n",
    "    \"t_range\": 10000,  # maximum iteration steps\n",
    "    \"dt\": 1,  # always unity for FieldLikeRelaxationDynamics\n",
    "    \"interval\": 10000,  # the frequency for checking convergence\n",
    "    \"tolerance\": 1e-5,  # criteria for determining convergence\n",
    "    \"progress\": True,\n",
    "    \"save_intermediate_data\": False,\n",
    "}"
   ]
  },
  {
   "cell_type": "markdown",
   "id": "993e951a",
   "metadata": {},
   "source": [
    "## Create the dynamics and find the coexisting states"
   ]
  },
  {
   "cell_type": "code",
   "execution_count": 90,
   "id": "338fe59e",
   "metadata": {
    "ExecuteTime": {
     "end_time": "2024-06-13T15:11:40.327682Z",
     "start_time": "2024-06-13T15:11:40.055875Z"
    }
   },
   "outputs": [
    {
     "data": {
      "application/vnd.jupyter.widget-view+json": {
       "model_id": "07edfaf5840f46f3b06dc37f5a3763ac",
       "version_major": 2,
       "version_minor": 0
      },
      "text/plain": [
       "HBox(children=(HTML(value=''), FloatProgress(value=0.0, max=1.0), HTML(value='')))"
      ]
     },
     "metadata": {},
     "output_type": "display_data"
    },
    {
     "name": "stdout",
     "output_type": "stream",
     "text": [
      "\n"
     ]
    }
   ],
   "source": [
    "dynamics = mm.FieldLikeRelaxationDynamics(mixture, parameters=dynamics_params)\n",
    "ts, result = dynamics.evolve(**evolve_params)"
   ]
  },
  {
   "cell_type": "markdown",
   "id": "0d8953a1",
   "metadata": {},
   "source": [
    "## Print and Check"
   ]
  },
  {
   "cell_type": "code",
   "execution_count": 91,
   "id": "63441b69",
   "metadata": {
    "ExecuteTime": {
     "end_time": "2024-06-13T15:11:42.692768Z",
     "start_time": "2024-06-13T15:11:42.683927Z"
    }
   },
   "outputs": [
    {
     "name": "stdout",
     "output_type": "stream",
     "text": [
      "3 phases are found\n",
      "Compositions are \n",
      "[[0.3257866  0.32594748 0.33825698]\n",
      " [0.3258765  0.33825846 0.32585593]\n",
      " [0.3337413  0.32823637 0.32803119]]\n",
      "Convergence is (lower the better) \n",
      "0.06936749113499993\n"
     ]
    }
   ],
   "source": [
    "unique_phases = result.get_clusters()\n",
    "print(len(unique_phases), \"phases are found\")\n",
    "print(\"Compositions are \")\n",
    "print(unique_phases)\n",
    "print(\"Convergence is (lower the better) \")\n",
    "print(result.entropy_production)\n",
    "\n"
   ]
  },
  {
   "cell_type": "markdown",
   "id": "44d493ce",
   "metadata": {},
   "source": [
    "# Test Functions"
   ]
  },
  {
   "cell_type": "code",
   "execution_count": null,
   "id": "c2c36e64",
   "metadata": {},
   "outputs": [],
   "source": []
  },
  {
   "cell_type": "code",
   "execution_count": 92,
   "id": "cc92ef2a",
   "metadata": {
    "ExecuteTime": {
     "end_time": "2024-06-13T15:11:47.137502Z",
     "start_time": "2024-06-13T15:11:46.885945Z"
    }
   },
   "outputs": [
    {
     "data": {
      "text/plain": [
       "3"
      ]
     },
     "execution_count": 92,
     "metadata": {},
     "output_type": "execute_result"
    }
   ],
   "source": [
    "gen.get_num_of_phases_fast(phi_vector,fh_energy)\n"
   ]
  },
  {
   "cell_type": "code",
   "execution_count": 95,
   "id": "76ee7b90",
   "metadata": {
    "ExecuteTime": {
     "end_time": "2024-06-13T15:14:35.543070Z",
     "start_time": "2024-06-13T15:12:20.817594Z"
    }
   },
   "outputs": [
    {
     "name": "stdout",
     "output_type": "stream",
     "text": [
      "start\n",
      "Init ternary_matrix\n"
     ]
    },
    {
     "data": {
      "application/vnd.jupyter.widget-view+json": {
       "model_id": "efc1ee6702aa4ad79069f092036d05f8",
       "version_major": 2,
       "version_minor": 0
      },
      "text/plain": [
       "HBox(children=(HTML(value=''), FloatProgress(value=0.0, max=42.0), HTML(value='')))"
      ]
     },
     "metadata": {},
     "output_type": "display_data"
    },
    {
     "name": "stdout",
     "output_type": "stream",
     "text": [
      "row  0 [0.09 0.09 0.79]\n",
      "1\n",
      "row  1 [0.09 0.19 0.69]\n",
      "1\n",
      "row  2 [0.09 0.29 0.59]\n",
      "1\n",
      "row  3 [0.09 0.39 0.49]\n",
      "1\n",
      "row  4 [0.09 0.49 0.39]\n",
      "1\n",
      "row  5 [0.09 0.59 0.29]\n",
      "1\n",
      "row  6 [0.09 0.69 0.19]\n",
      "1\n",
      "row  7 [0.09 0.79 0.09]\n",
      "1\n",
      "row  8 [0.19 0.09 0.69]\n",
      "1\n",
      "row  9 [0.19 0.19 0.59]\n",
      "1\n",
      "row  10 [0.19 0.29 0.49]\n",
      "1\n",
      "row  11 [0.19 0.39 0.39]\n",
      "1\n",
      "row  12 [0.19 0.49 0.29]\n",
      "1\n",
      "row  13 [0.19 0.59 0.19]\n",
      "1\n",
      "row  14 [0.19 0.69 0.09]\n",
      "1\n",
      "row  15 [0.29 0.09 0.59]\n",
      "1\n",
      "row  16 [0.29 0.19 0.49]\n",
      "1\n",
      "row  17 [0.29 0.29 0.39]\n",
      "1\n",
      "row  18 [0.29 0.39 0.29]\n",
      "1\n",
      "row  19 [0.29 0.49 0.19]\n",
      "1\n",
      "row  20 [0.29 0.59 0.09]\n",
      "1\n",
      "row  21 [0.29 0.69 0.01]\n",
      "2\n",
      "row  22 [0.39 0.09 0.49]\n",
      "1\n",
      "row  23 [0.39 0.19 0.39]\n",
      "1\n",
      "row  24 [0.39 0.29 0.29]\n",
      "1\n",
      "row  25 [0.39 0.39 0.19]\n",
      "1\n",
      "row  26 [0.39 0.49 0.09]\n",
      "1\n",
      "row  27 [0.39 0.59 0.01]\n",
      "2\n",
      "row  28 [0.49 0.09 0.39]\n",
      "1\n",
      "row  29 [0.49 0.19 0.29]\n",
      "1\n",
      "row  30 [0.49 0.29 0.19]\n",
      "1\n",
      "row  31 [0.49 0.39 0.09]\n",
      "1\n",
      "row  32 [0.59 0.09 0.29]\n",
      "1\n",
      "row  33 [0.59 0.19 0.19]\n",
      "1\n",
      "row  34 [0.59 0.29 0.09]\n",
      "1\n",
      "row  35 [0.59 0.39 0.01]\n",
      "2\n",
      "row  36 [0.69 0.09 0.19]\n",
      "1\n",
      "row  37 [0.69 0.19 0.09]\n",
      "1\n",
      "row  38 [0.69 0.29 0.01]\n",
      "2\n",
      "row  39 [0.79 0.09 0.09]\n",
      "1\n",
      "row  40 [0.79 0.19 0.01]\n",
      "1\n",
      "row  41 [0.89 0.09 0.01]\n",
      "1\n",
      "\n"
     ]
    }
   ],
   "source": [
    "from tqdm.notebook import tqdm\n",
    "print(\"start\")\n",
    "\n",
    "combinations = gen.generate_combinations_2(3,0.1)\n",
    "combinations = np.array([row for row in combinations if 0 not in row])\n",
    "\n",
    "combinations -= 0.01\n",
    "combinations = gen.replace_negative(combinations,0.01)\n",
    "\n",
    "ternary_matrix = np.empty((combinations.shape[0], 2), dtype=object)\n",
    "#print(combinations)\n",
    "\n",
    "print(\"Init ternary_matrix\")\n",
    "num_compartments = 64\n",
    "\n",
    "for i, row in enumerate(tqdm(combinations)):\n",
    "    print(\"row \" , i, row)\n",
    "    ternary_matrix[i, 0] = row\n",
    "   \n",
    "    # Apply the arbitrary function to the row and add the result to the second column\n",
    "    fh_energy = mm.FloryHuggins(np.array(chi_matrix))\n",
    "    phis = [row] * num_compartments\n",
    "    mixture = mm.MultiphaseVolumeSystem(\n",
    "                    fh_energy, \n",
    "                    np.array(phis), # compositions of each compartment\n",
    "                    np.ones(num_compartments) / num_compartments # relative volume of each compartment\n",
    "                    )\n",
    "    ternary_matrix[i, 1] = gen.get_num_of_phases(row,fh_energy)\n",
    "    print(ternary_matrix[i,1])\n",
    "\n",
    "    \n"
   ]
  },
  {
   "cell_type": "code",
   "execution_count": 96,
   "id": "a3a06f50",
   "metadata": {
    "ExecuteTime": {
     "end_time": "2024-06-13T15:14:48.062840Z",
     "start_time": "2024-06-13T15:14:48.043771Z"
    }
   },
   "outputs": [
    {
     "ename": "AssertionError",
     "evalue": "",
     "output_type": "error",
     "traceback": [
      "\u001b[0;31m---------------------------------------------------------------------------\u001b[0m",
      "\u001b[0;31mAssertionError\u001b[0m                            Traceback (most recent call last)",
      "\u001b[0;32m<ipython-input-96-86db871ac251>\u001b[0m in \u001b[0;36m<module>\u001b[0;34m\u001b[0m\n\u001b[1;32m     12\u001b[0m \u001b[0mfh_energy\u001b[0m \u001b[0;34m=\u001b[0m \u001b[0mmm\u001b[0m\u001b[0;34m.\u001b[0m\u001b[0mFloryHuggins\u001b[0m\u001b[0;34m(\u001b[0m\u001b[0mnp\u001b[0m\u001b[0;34m.\u001b[0m\u001b[0marray\u001b[0m\u001b[0;34m(\u001b[0m\u001b[0mchi_matrix\u001b[0m\u001b[0;34m)\u001b[0m\u001b[0;34m)\u001b[0m\u001b[0;34m\u001b[0m\u001b[0;34m\u001b[0m\u001b[0m\n\u001b[1;32m     13\u001b[0m \u001b[0mphis\u001b[0m \u001b[0;34m=\u001b[0m \u001b[0;34m[\u001b[0m\u001b[0mrow\u001b[0m\u001b[0;34m]\u001b[0m \u001b[0;34m*\u001b[0m \u001b[0mnum_compartments\u001b[0m\u001b[0;34m\u001b[0m\u001b[0;34m\u001b[0m\u001b[0m\n\u001b[0;32m---> 14\u001b[0;31m mixture = mm.MultiphaseVolumeSystem(\n\u001b[0m\u001b[1;32m     15\u001b[0m                 \u001b[0mfh_energy\u001b[0m\u001b[0;34m,\u001b[0m\u001b[0;34m\u001b[0m\u001b[0;34m\u001b[0m\u001b[0m\n\u001b[1;32m     16\u001b[0m                 \u001b[0mnp\u001b[0m\u001b[0;34m.\u001b[0m\u001b[0marray\u001b[0m\u001b[0;34m(\u001b[0m\u001b[0mphis\u001b[0m\u001b[0;34m)\u001b[0m\u001b[0;34m,\u001b[0m \u001b[0;31m# compositions of each compartment\u001b[0m\u001b[0;34m\u001b[0m\u001b[0;34m\u001b[0m\u001b[0m\n",
      "\u001b[0;32m~/dufresne_lab/multicomponent-mixtures-main/multicomp/mixture.py\u001b[0m in \u001b[0;36m__init__\u001b[0;34m(self, free_energy, phis, volumes)\u001b[0m\n\u001b[1;32m    477\u001b[0m         \"\"\"\n\u001b[1;32m    478\u001b[0m         \u001b[0mself\u001b[0m\u001b[0;34m.\u001b[0m\u001b[0mvolumes\u001b[0m \u001b[0;34m=\u001b[0m \u001b[0mnp\u001b[0m\u001b[0;34m.\u001b[0m\u001b[0masanyarray\u001b[0m\u001b[0;34m(\u001b[0m\u001b[0mvolumes\u001b[0m\u001b[0;34m)\u001b[0m\u001b[0;34m\u001b[0m\u001b[0;34m\u001b[0m\u001b[0m\n\u001b[0;32m--> 479\u001b[0;31m         \u001b[0msuper\u001b[0m\u001b[0;34m(\u001b[0m\u001b[0;34m)\u001b[0m\u001b[0;34m.\u001b[0m\u001b[0m__init__\u001b[0m\u001b[0;34m(\u001b[0m\u001b[0mfree_energy\u001b[0m\u001b[0;34m,\u001b[0m \u001b[0mphis\u001b[0m\u001b[0;34m)\u001b[0m\u001b[0;34m\u001b[0m\u001b[0;34m\u001b[0m\u001b[0m\n\u001b[0m\u001b[1;32m    480\u001b[0m \u001b[0;34m\u001b[0m\u001b[0m\n\u001b[1;32m    481\u001b[0m     \u001b[0;34m@\u001b[0m\u001b[0mclassmethod\u001b[0m\u001b[0;34m\u001b[0m\u001b[0;34m\u001b[0m\u001b[0m\n",
      "\u001b[0;32m~/dufresne_lab/multicomponent-mixtures-main/multicomp/mixture.py\u001b[0m in \u001b[0;36m__init__\u001b[0;34m(self, free_energy, phis)\u001b[0m\n\u001b[1;32m    334\u001b[0m         \u001b[0msuper\u001b[0m\u001b[0;34m(\u001b[0m\u001b[0;34m)\u001b[0m\u001b[0;34m.\u001b[0m\u001b[0m__init__\u001b[0m\u001b[0;34m(\u001b[0m\u001b[0mphis\u001b[0m\u001b[0;34m)\u001b[0m\u001b[0;34m\u001b[0m\u001b[0;34m\u001b[0m\u001b[0m\n\u001b[1;32m    335\u001b[0m         \u001b[0mself\u001b[0m\u001b[0;34m.\u001b[0m\u001b[0mfree_energy\u001b[0m \u001b[0;34m=\u001b[0m \u001b[0mfree_energy\u001b[0m\u001b[0;34m\u001b[0m\u001b[0;34m\u001b[0m\u001b[0m\n\u001b[0;32m--> 336\u001b[0;31m         \u001b[0;32massert\u001b[0m \u001b[0mself\u001b[0m\u001b[0;34m.\u001b[0m\u001b[0mis_consistent\u001b[0m\u001b[0;34m\u001b[0m\u001b[0;34m\u001b[0m\u001b[0m\n\u001b[0m\u001b[1;32m    337\u001b[0m \u001b[0;34m\u001b[0m\u001b[0m\n\u001b[1;32m    338\u001b[0m     \u001b[0;34m@\u001b[0m\u001b[0mclassmethod\u001b[0m\u001b[0;34m\u001b[0m\u001b[0;34m\u001b[0m\u001b[0m\n",
      "\u001b[0;31mAssertionError\u001b[0m: "
     ]
    }
   ],
   "source": [
    "reload(mm)\n",
    "\n",
    "\n",
    "ternary_matrix = np.empty((combinations.shape[0], 2), dtype=object)\n",
    "\n",
    "num_compartments = 64\n",
    "#row = [0.05, 0.05, 0.05, 0.05, 0.05, 0.05, 0.7 ]# composition?\n",
    "row = [0.2,0.1,0.3,0.2]\n",
    "ternary_matrix[i, 0] = row\n",
    "\n",
    "# Apply the arbitrary function to the row and add the result to the second column\n",
    "fh_energy = mm.FloryHuggins(np.array(chi_matrix))\n",
    "phis = [row] * num_compartments\n",
    "mixture = mm.MultiphaseVolumeSystem(\n",
    "                fh_energy, \n",
    "                np.array(phis), # compositions of each compartment\n",
    "                np.ones(num_compartments) / num_compartments # relative volume of each compartment\n",
    "                )\n",
    "ternary_matrix[i, 1] = gen.get_num_of_phases(row,fh_energy)\n",
    "print(ternary_matrix[i,1])\n",
    "\n",
    "\n"
   ]
  },
  {
   "cell_type": "code",
   "execution_count": 82,
   "id": "3be0cc54",
   "metadata": {
    "ExecuteTime": {
     "end_time": "2024-06-13T15:10:21.460737Z",
     "start_time": "2024-06-13T15:10:21.448597Z"
    }
   },
   "outputs": [
    {
     "ename": "AttributeError",
     "evalue": "'FloryHuggins' object has no attribute 'shape'",
     "output_type": "error",
     "traceback": [
      "\u001b[0;31m---------------------------------------------------------------------------\u001b[0m",
      "\u001b[0;31mAttributeError\u001b[0m                            Traceback (most recent call last)",
      "\u001b[0;32m<ipython-input-82-9f00f444e89e>\u001b[0m in \u001b[0;36m<module>\u001b[0;34m\u001b[0m\n\u001b[0;32m----> 1\u001b[0;31m \u001b[0mfh_energy\u001b[0m\u001b[0;34m.\u001b[0m\u001b[0mshape\u001b[0m\u001b[0;34m,\u001b[0m \u001b[0mphis\u001b[0m\u001b[0;34m.\u001b[0m\u001b[0mshape\u001b[0m\u001b[0;34m,\u001b[0m \u001b[0mnum_compartments\u001b[0m\u001b[0;34m\u001b[0m\u001b[0;34m\u001b[0m\u001b[0m\n\u001b[0m",
      "\u001b[0;31mAttributeError\u001b[0m: 'FloryHuggins' object has no attribute 'shape'"
     ]
    }
   ],
   "source": [
    "fh_energy.shape, phis.shape, num_compartments"
   ]
  },
  {
   "cell_type": "markdown",
   "id": "80579cf8",
   "metadata": {},
   "source": [
    "# Plot Ternary Diagram"
   ]
  },
  {
   "cell_type": "code",
   "execution_count": 97,
   "id": "989a9905",
   "metadata": {
    "ExecuteTime": {
     "end_time": "2024-06-13T15:15:03.633513Z",
     "start_time": "2024-06-13T15:15:03.625530Z"
    }
   },
   "outputs": [],
   "source": [
    "import matplotlib.pyplot as plt\n",
    "import mpltern  # Import the mpltern package for ternary plots\n",
    "def plot_ternary(data):\n",
    "\n",
    "    ternary_components = np.array([item[0].flatten() for item in data])\n",
    "    values = np.array([item[1] for item in data])\n",
    "\n",
    "    # Create ternary plot\n",
    "    fig, tax = plt.subplots(subplot_kw=dict(projection='ternary'))\n",
    "\n",
    "    # Scatter plot where color depends on the value\n",
    "    sc = tax.scatter(ternary_components[:, 0], ternary_components[:, 1], ternary_components[:, 2], c=values, cmap='viridis')\n",
    "\n",
    "    # Add color bar\n",
    "    plt.colorbar(sc, label='Value')\n",
    "\n",
    "    # Setting labels for ternary axes\n",
    "    tax.set_tlabel(\"Component 1\")\n",
    "    tax.set_llabel(\"Component 2\")\n",
    "    tax.set_rlabel(\"Component 3\")\n",
    "\n",
    "    # Set title and other plot labels if necessary\n",
    "    plt.title(\"Ternary Phase Diagram\")\n",
    "\n",
    "    plt.show()\n",
    "\n",
    "\n"
   ]
  },
  {
   "cell_type": "code",
   "execution_count": 98,
   "id": "7157315c",
   "metadata": {
    "ExecuteTime": {
     "end_time": "2024-06-13T15:15:13.495153Z",
     "start_time": "2024-06-13T15:15:13.470965Z"
    }
   },
   "outputs": [
    {
     "ename": "AttributeError",
     "evalue": "'NoneType' object has no attribute 'flatten'",
     "output_type": "error",
     "traceback": [
      "\u001b[0;31m---------------------------------------------------------------------------\u001b[0m",
      "\u001b[0;31mAttributeError\u001b[0m                            Traceback (most recent call last)",
      "\u001b[0;32m<ipython-input-98-d73b94d689a5>\u001b[0m in \u001b[0;36m<module>\u001b[0;34m\u001b[0m\n\u001b[0;32m----> 1\u001b[0;31m \u001b[0mplot_ternary\u001b[0m\u001b[0;34m(\u001b[0m\u001b[0mternary_matrix\u001b[0m\u001b[0;34m)\u001b[0m\u001b[0;34m\u001b[0m\u001b[0;34m\u001b[0m\u001b[0m\n\u001b[0m\u001b[1;32m      2\u001b[0m \u001b[0mprint\u001b[0m\u001b[0;34m(\u001b[0m\u001b[0mternary_matrix\u001b[0m\u001b[0;34m)\u001b[0m\u001b[0;34m\u001b[0m\u001b[0;34m\u001b[0m\u001b[0m\n\u001b[1;32m      3\u001b[0m \u001b[0;31m#np.savetxt(\"ternary_0.02_chi_2.2_.csv\", ternary_matrix, delimiter=\",\")\u001b[0m\u001b[0;34m\u001b[0m\u001b[0;34m\u001b[0m\u001b[0;34m\u001b[0m\u001b[0m\n",
      "\u001b[0;32m<ipython-input-97-4d0dd2a46aed>\u001b[0m in \u001b[0;36mplot_ternary\u001b[0;34m(data)\u001b[0m\n\u001b[1;32m      3\u001b[0m \u001b[0;32mdef\u001b[0m \u001b[0mplot_ternary\u001b[0m\u001b[0;34m(\u001b[0m\u001b[0mdata\u001b[0m\u001b[0;34m)\u001b[0m\u001b[0;34m:\u001b[0m\u001b[0;34m\u001b[0m\u001b[0;34m\u001b[0m\u001b[0m\n\u001b[1;32m      4\u001b[0m \u001b[0;34m\u001b[0m\u001b[0m\n\u001b[0;32m----> 5\u001b[0;31m     \u001b[0mternary_components\u001b[0m \u001b[0;34m=\u001b[0m \u001b[0mnp\u001b[0m\u001b[0;34m.\u001b[0m\u001b[0marray\u001b[0m\u001b[0;34m(\u001b[0m\u001b[0;34m[\u001b[0m\u001b[0mitem\u001b[0m\u001b[0;34m[\u001b[0m\u001b[0;36m0\u001b[0m\u001b[0;34m]\u001b[0m\u001b[0;34m.\u001b[0m\u001b[0mflatten\u001b[0m\u001b[0;34m(\u001b[0m\u001b[0;34m)\u001b[0m \u001b[0;32mfor\u001b[0m \u001b[0mitem\u001b[0m \u001b[0;32min\u001b[0m \u001b[0mdata\u001b[0m\u001b[0;34m]\u001b[0m\u001b[0;34m)\u001b[0m\u001b[0;34m\u001b[0m\u001b[0;34m\u001b[0m\u001b[0m\n\u001b[0m\u001b[1;32m      6\u001b[0m     \u001b[0mvalues\u001b[0m \u001b[0;34m=\u001b[0m \u001b[0mnp\u001b[0m\u001b[0;34m.\u001b[0m\u001b[0marray\u001b[0m\u001b[0;34m(\u001b[0m\u001b[0;34m[\u001b[0m\u001b[0mitem\u001b[0m\u001b[0;34m[\u001b[0m\u001b[0;36m1\u001b[0m\u001b[0;34m]\u001b[0m \u001b[0;32mfor\u001b[0m \u001b[0mitem\u001b[0m \u001b[0;32min\u001b[0m \u001b[0mdata\u001b[0m\u001b[0;34m]\u001b[0m\u001b[0;34m)\u001b[0m\u001b[0;34m\u001b[0m\u001b[0;34m\u001b[0m\u001b[0m\n\u001b[1;32m      7\u001b[0m \u001b[0;34m\u001b[0m\u001b[0m\n",
      "\u001b[0;32m<ipython-input-97-4d0dd2a46aed>\u001b[0m in \u001b[0;36m<listcomp>\u001b[0;34m(.0)\u001b[0m\n\u001b[1;32m      3\u001b[0m \u001b[0;32mdef\u001b[0m \u001b[0mplot_ternary\u001b[0m\u001b[0;34m(\u001b[0m\u001b[0mdata\u001b[0m\u001b[0;34m)\u001b[0m\u001b[0;34m:\u001b[0m\u001b[0;34m\u001b[0m\u001b[0;34m\u001b[0m\u001b[0m\n\u001b[1;32m      4\u001b[0m \u001b[0;34m\u001b[0m\u001b[0m\n\u001b[0;32m----> 5\u001b[0;31m     \u001b[0mternary_components\u001b[0m \u001b[0;34m=\u001b[0m \u001b[0mnp\u001b[0m\u001b[0;34m.\u001b[0m\u001b[0marray\u001b[0m\u001b[0;34m(\u001b[0m\u001b[0;34m[\u001b[0m\u001b[0mitem\u001b[0m\u001b[0;34m[\u001b[0m\u001b[0;36m0\u001b[0m\u001b[0;34m]\u001b[0m\u001b[0;34m.\u001b[0m\u001b[0mflatten\u001b[0m\u001b[0;34m(\u001b[0m\u001b[0;34m)\u001b[0m \u001b[0;32mfor\u001b[0m \u001b[0mitem\u001b[0m \u001b[0;32min\u001b[0m \u001b[0mdata\u001b[0m\u001b[0;34m]\u001b[0m\u001b[0;34m)\u001b[0m\u001b[0;34m\u001b[0m\u001b[0;34m\u001b[0m\u001b[0m\n\u001b[0m\u001b[1;32m      6\u001b[0m     \u001b[0mvalues\u001b[0m \u001b[0;34m=\u001b[0m \u001b[0mnp\u001b[0m\u001b[0;34m.\u001b[0m\u001b[0marray\u001b[0m\u001b[0;34m(\u001b[0m\u001b[0;34m[\u001b[0m\u001b[0mitem\u001b[0m\u001b[0;34m[\u001b[0m\u001b[0;36m1\u001b[0m\u001b[0;34m]\u001b[0m \u001b[0;32mfor\u001b[0m \u001b[0mitem\u001b[0m \u001b[0;32min\u001b[0m \u001b[0mdata\u001b[0m\u001b[0;34m]\u001b[0m\u001b[0;34m)\u001b[0m\u001b[0;34m\u001b[0m\u001b[0;34m\u001b[0m\u001b[0m\n\u001b[1;32m      7\u001b[0m \u001b[0;34m\u001b[0m\u001b[0m\n",
      "\u001b[0;31mAttributeError\u001b[0m: 'NoneType' object has no attribute 'flatten'"
     ]
    }
   ],
   "source": [
    "plot_ternary(ternary_matrix)\n",
    "print(ternary_matrix)\n",
    "#np.savetxt(\"ternary_0.02_chi_2.2_.csv\", ternary_matrix, delimiter=\",\")"
   ]
  },
  {
   "cell_type": "code",
   "execution_count": 159,
   "id": "e0c9e6e1",
   "metadata": {},
   "outputs": [
    {
     "name": "stdout",
     "output_type": "stream",
     "text": [
      "done\n"
     ]
    }
   ],
   "source": [
    "\n",
    "# Flatten the array structure\n",
    "flattened_data = np.array([np.append(subarray, value) for subarray, value in ternary_matrix])\n",
    "\n",
    "# Absolute path where the CSV file will be saved\n",
    "name = 'ternary_0.02_chi_2.2_TEST.csv'\n",
    "save_path = '/Users/calvinsmith/dufresne_lab/data/' + name  # Change this to your desired path\n",
    "\n",
    "# Save to CSV\n",
    "np.savetxt(save_path, flattened_data, delimiter=\",\", fmt='%g')\n",
    "print('done')"
   ]
  },
  {
   "cell_type": "code",
   "execution_count": 162,
   "id": "a8e65366",
   "metadata": {},
   "outputs": [
    {
     "name": "stdout",
     "output_type": "stream",
     "text": [
      "Array saved as pickle file.\n"
     ]
    }
   ],
   "source": [
    "\n",
    "import pickle\n",
    "\n",
    "# Create a sample numpy array\n",
    "array_to_save = ternary_matrix\n",
    "\n",
    "# Save the array to a pickle file\n",
    "with open('/Users/calvinsmith/dufresne_lab/data/ternary_matrix_0.02_2.2.pkl', 'wb') as f:\n",
    "    pickle.dump(array_to_save, f)\n",
    "\n",
    "print(\"Array saved as pickle file.\")\n"
   ]
  },
  {
   "cell_type": "code",
   "execution_count": null,
   "id": "429b44df",
   "metadata": {},
   "outputs": [],
   "source": []
  }
 ],
 "metadata": {
  "kernelspec": {
   "display_name": "Python 3 (ipykernel)",
   "language": "python",
   "name": "python3"
  },
  "language_info": {
   "codemirror_mode": {
    "name": "ipython",
    "version": 3
   },
   "file_extension": ".py",
   "mimetype": "text/x-python",
   "name": "python",
   "nbconvert_exporter": "python",
   "pygments_lexer": "ipython3",
   "version": "3.12.6"
  },
  "toc": {
   "base_numbering": 1,
   "nav_menu": {},
   "number_sections": true,
   "sideBar": true,
   "skip_h1_title": false,
   "title_cell": "Table of Contents",
   "title_sidebar": "Contents",
   "toc_cell": false,
   "toc_position": {
    "height": "calc(100% - 180px)",
    "left": "10px",
    "top": "150px",
    "width": "252px"
   },
   "toc_section_display": true,
   "toc_window_display": true
  }
 },
 "nbformat": 4,
 "nbformat_minor": 5
}
