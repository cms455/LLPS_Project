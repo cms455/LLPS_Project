{
 "cells": [
  {
   "cell_type": "code",
   "execution_count": 1,
   "id": "confirmed-script",
   "metadata": {},
   "outputs": [],
   "source": [
    "import sys\n",
    "\n",
    "sys.path.append(\"../..\")\n",
    "sys.path.append(\"../../../py-pde\")\n",
    "\n",
    "import time\n",
    "from collections import Counter\n",
    "from itertools import product\n",
    "\n",
    "import numpy as np\n",
    "import matplotlib.pyplot as plt\n",
    "from matplotlib import cm\n",
    "import pandas as pd\n",
    "\n",
    "from tqdm.auto import tqdm"
   ]
  },
  {
   "cell_type": "code",
   "execution_count": 2,
   "id": "creative-crawford",
   "metadata": {},
   "outputs": [],
   "source": [
    "from multicomp import *"
   ]
  },
  {
   "cell_type": "code",
   "execution_count": 3,
   "id": "egyptian-pepper",
   "metadata": {},
   "outputs": [],
   "source": [
    "num_comp = 5\n",
    "rep = 10\n",
    "chi_mean = 4\n",
    "chi_std = 1.0"
   ]
  },
  {
   "cell_type": "code",
   "execution_count": 4,
   "id": "headed-effects",
   "metadata": {},
   "outputs": [
    {
     "data": {
      "application/vnd.jupyter.widget-view+json": {
       "model_id": "",
       "version_major": 2,
       "version_minor": 0
      },
      "text/plain": [
       "  0%|          | 0/10 [00:00<?, ?it/s]"
      ]
     },
     "metadata": {},
     "output_type": "display_data"
    },
    {
     "name": "stdout",
     "output_type": "stream",
     "text": [
      "Took 19.2 seconds\n"
     ]
    }
   ],
   "source": [
    "phases = np.zeros(num_comp + 2, int)\n",
    "final_count = 0\n",
    "\n",
    "f = FloryHuggins.random_normal(num_comp, chi_mean, chi_std)\n",
    "m = MultiphaseSystem.demixed_composition(f)\n",
    "r = RelaxationDynamics(m)\n",
    "\n",
    "start = time.time()\n",
    "for _ in tqdm(range(rep), leave=False):\n",
    "    f.chis[:] = FloryHuggins.random_normal(num_comp, chi_mean, chi_std).chis\n",
    "    ts, m = r.evolve_fixed_dt(\n",
    "        1e3, dt=1e-2, interval=1.0, tol_factor=1e-5, progress=False\n",
    "    )\n",
    "    final_count += np.isclose(ts, 1e3)\n",
    "    phases[m.count_clusters()] += 1\n",
    "print(f\"Took {time.time() - start:.1f} seconds\")"
   ]
  },
  {
   "cell_type": "code",
   "execution_count": 5,
   "id": "unnecessary-playback",
   "metadata": {},
   "outputs": [
    {
     "data": {
      "text/plain": [
       "0"
      ]
     },
     "execution_count": 5,
     "metadata": {},
     "output_type": "execute_result"
    }
   ],
   "source": [
    "final_count"
   ]
  },
  {
   "cell_type": "code",
   "execution_count": 6,
   "id": "informal-yeast",
   "metadata": {},
   "outputs": [
    {
     "data": {
      "text/plain": [
       "array([0, 3, 2, 2, 1, 1, 1])"
      ]
     },
     "execution_count": 6,
     "metadata": {},
     "output_type": "execute_result"
    }
   ],
   "source": [
    "phases"
   ]
  },
  {
   "cell_type": "code",
   "execution_count": 13,
   "id": "downtown-charity",
   "metadata": {
    "run_control": {
     "marked": false
    }
   },
   "outputs": [
    {
     "data": {
      "text/plain": [
       "6"
      ]
     },
     "execution_count": 13,
     "metadata": {},
     "output_type": "execute_result"
    }
   ],
   "source": [
    "f = FloryHuggins.random_normal(num_comp, chi_mean, chi_std)\n",
    "m = MultiphaseSystem.demixed_composition(f)\n",
    "r = RelaxationDynamics(m)\n",
    "t, m_last = r.evolve_fixed_dt(\n",
    "    1e3, dt=1e-2, interval=1.0, tol_factor=1e-5, progress=False\n",
    ")\n",
    "m_last.count_clusters()"
   ]
  },
  {
   "cell_type": "code",
   "execution_count": 14,
   "id": "proved-midwest",
   "metadata": {},
   "outputs": [
    {
     "data": {
      "application/vnd.jupyter.widget-view+json": {
       "model_id": "a956e433713c47a1be30d2e82c7080a9",
       "version_major": 2,
       "version_minor": 0
      },
      "text/plain": [
       "  0%|          | 0/10 [00:00<?, ?it/s]"
      ]
     },
     "metadata": {},
     "output_type": "display_data"
    },
    {
     "name": "stdout",
     "output_type": "stream",
     "text": [
      "Took 25.6 seconds\n"
     ]
    }
   ],
   "source": [
    "counts = []\n",
    "start = time.time()\n",
    "for _ in tqdm(range(10)):\n",
    "    m = MultiphaseSystem.random_composition(f, 5 * num_comp + 1, dist=\"lognormal\")\n",
    "    r = RelaxationDynamics(m)\n",
    "    ts, m = r.evolve_fixed_dt(\n",
    "        1e3, dt=1e-2, interval=1.0, tol_factor=1e-5, progress=False\n",
    "    )\n",
    "    counts.append(m.count_clusters())\n",
    "print(f\"Took {time.time() - start:.1f} seconds\")"
   ]
  },
  {
   "cell_type": "code",
   "execution_count": 15,
   "id": "northern-pickup",
   "metadata": {},
   "outputs": [
    {
     "data": {
      "text/plain": [
       "[5, 6, 6, 4, 6, 6, 2, 5, 6, 5]"
      ]
     },
     "execution_count": 15,
     "metadata": {},
     "output_type": "execute_result"
    }
   ],
   "source": [
    "counts"
   ]
  },
  {
   "cell_type": "code",
   "execution_count": 22,
   "id": "planned-curve",
   "metadata": {},
   "outputs": [
    {
     "data": {
      "text/plain": [
       "array([0. , 0.5, 1. , 1.5, 2. , 2.5, 3. , 3.5, 4. , 4.5, 5. ])"
      ]
     },
     "execution_count": 22,
     "metadata": {},
     "output_type": "execute_result"
    }
   ],
   "source": [
    "np.linspace(0, 5, 11)"
   ]
  },
  {
   "cell_type": "code",
   "execution_count": null,
   "id": "civic-bench",
   "metadata": {},
   "outputs": [],
   "source": []
  }
 ],
 "metadata": {
  "kernelspec": {
   "display_name": "Python 3",
   "language": "python",
   "name": "python3"
  },
  "language_info": {
   "codemirror_mode": {
    "name": "ipython",
    "version": 3
   },
   "file_extension": ".py",
   "mimetype": "text/x-python",
   "name": "python",
   "nbconvert_exporter": "python",
   "pygments_lexer": "ipython3",
   "version": "3.8.10"
  },
  "toc": {
   "base_numbering": 1,
   "nav_menu": {},
   "number_sections": true,
   "sideBar": true,
   "skip_h1_title": false,
   "title_cell": "Table of Contents",
   "title_sidebar": "Contents",
   "toc_cell": false,
   "toc_position": {},
   "toc_section_display": true,
   "toc_window_display": false
  }
 },
 "nbformat": 4,
 "nbformat_minor": 5
}
