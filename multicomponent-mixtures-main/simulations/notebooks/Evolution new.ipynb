{
 "cells": [
  {
   "cell_type": "code",
   "execution_count": null,
   "id": "confirmed-script",
   "metadata": {},
   "outputs": [],
   "source": [
    "import sys\n",
    "\n",
    "sys.path.append(\"../..\")\n",
    "sys.path.append(\"../../../py-modelrunner\")\n",
    "sys.path.append(\"../../../py-pde\")\n",
    "\n",
    "import time\n",
    "from collections import Counter\n",
    "from itertools import product\n",
    "\n",
    "import numpy as np\n",
    "import matplotlib.pyplot as plt\n",
    "from matplotlib import cm\n",
    "import pandas as pd\n",
    "\n",
    "from tqdm.auto import tqdm"
   ]
  },
  {
   "cell_type": "code",
   "execution_count": null,
   "id": "creative-crawford",
   "metadata": {},
   "outputs": [],
   "source": [
    "import multicomp as mm"
   ]
  },
  {
   "cell_type": "markdown",
   "id": "nasty-conclusion",
   "metadata": {
    "heading_collapsed": true
   },
   "source": [
    "# Test Individual"
   ]
  },
  {
   "cell_type": "code",
   "execution_count": null,
   "id": "liquid-somalia",
   "metadata": {
    "hidden": true,
    "scrolled": true
   },
   "outputs": [],
   "source": [
    "ind = mm.FullChiIndividual({\"num_comp_init\": 4, \"repetitions\": 3})\n",
    "# ind.show_parameters()"
   ]
  },
  {
   "cell_type": "code",
   "execution_count": null,
   "id": "rolled-distance",
   "metadata": {
    "hidden": true
   },
   "outputs": [],
   "source": [
    "res = ind.get_ensemble(\"phase_counts\")\n",
    "res"
   ]
  },
  {
   "cell_type": "code",
   "execution_count": null,
   "id": "controversial-drink",
   "metadata": {
    "hidden": true
   },
   "outputs": [],
   "source": [
    "ind.diagnostics"
   ]
  },
  {
   "cell_type": "markdown",
   "id": "deadly-factory",
   "metadata": {
    "heading_collapsed": true
   },
   "source": [
    "# Test Population"
   ]
  },
  {
   "cell_type": "code",
   "execution_count": null,
   "id": "corrected-prerequisite",
   "metadata": {
    "hidden": true
   },
   "outputs": [],
   "source": [
    "p_ind = {\n",
    "    \"num_comp_init\": 5,\n",
    "    \"repetitions\": 3,\n",
    "    \"mutation_size\": 1.0,\n",
    "}"
   ]
  },
  {
   "cell_type": "code",
   "execution_count": null,
   "id": "lonely-apartment",
   "metadata": {
    "hidden": true
   },
   "outputs": [],
   "source": [
    "pop = mm.Population(\n",
    "    [mm.FullChiIndividual(p_ind) for _ in range(4)], {\"num_processes\": 4}\n",
    ")"
   ]
  },
  {
   "cell_type": "code",
   "execution_count": null,
   "id": "sharing-cathedral",
   "metadata": {
    "hidden": true
   },
   "outputs": [],
   "source": [
    "pop.show_parameters()"
   ]
  },
  {
   "cell_type": "code",
   "execution_count": null,
   "id": "3aecd490",
   "metadata": {
    "hidden": true
   },
   "outputs": [],
   "source": [
    "stats = pop.get_stats([\"phase_counts\", \"phis\"])"
   ]
  },
  {
   "cell_type": "code",
   "execution_count": null,
   "id": "e485ce0a",
   "metadata": {
    "hidden": true
   },
   "outputs": [],
   "source": [
    "stat = stats[0]\n",
    "stat[\"phis\"]"
   ]
  },
  {
   "cell_type": "markdown",
   "id": "0636b7ad",
   "metadata": {},
   "source": [
    "# Environment"
   ]
  },
  {
   "cell_type": "code",
   "execution_count": null,
   "id": "b36cbce5",
   "metadata": {},
   "outputs": [],
   "source": [
    "env = mm.TargetPhaseCountEnvironment({\"target_phase_count\": 3})"
   ]
  },
  {
   "cell_type": "code",
   "execution_count": null,
   "id": "4c86ab64",
   "metadata": {},
   "outputs": [],
   "source": [
    "stats = pop.get_stats([\"phase_counts\"])"
   ]
  },
  {
   "cell_type": "code",
   "execution_count": null,
   "id": "eastern-desire",
   "metadata": {},
   "outputs": [],
   "source": [
    "# determine fitness of each individual\n",
    "target_count = env.parameters[\"target_phase_count\"]\n",
    "fitness_tol = env.parameters[\"phase_count_tolerance\"]\n",
    "fitnesses = np.empty(len(pop))\n",
    "for i, stat in enumerate(stats):\n",
    "    counts = np.asarray(stat[\"phase_counts\"])\n",
    "    arg = (counts - target_count) / fitness_tol\n",
    "    fitnesses[i] = np.mean(np.exp(-0.5 * arg**2))\n",
    "fitnesses"
   ]
  },
  {
   "cell_type": "code",
   "execution_count": null,
   "id": "51ea5af3",
   "metadata": {},
   "outputs": [],
   "source": [
    "env.evolve(pop)"
   ]
  },
  {
   "cell_type": "code",
   "execution_count": null,
   "id": "8316ee08",
   "metadata": {},
   "outputs": [],
   "source": [
    "pop = mm.Population([mm.FullChiIndividual(), mm.FullChiIndividual()])\n",
    "env = mm.PartitioningEnvironment({\"enriched_components\": [0]})\n",
    "env.evolve(pop)"
   ]
  },
  {
   "cell_type": "code",
   "execution_count": null,
   "id": "34510c7b",
   "metadata": {},
   "outputs": [],
   "source": [
    "np.array(env.parameters[\"enriched_components\"])"
   ]
  },
  {
   "cell_type": "code",
   "execution_count": null,
   "id": "5f651e3f",
   "metadata": {},
   "outputs": [],
   "source": [
    "env.get_population_fitness(pop)"
   ]
  },
  {
   "cell_type": "markdown",
   "id": "1d757cb2",
   "metadata": {},
   "source": [
    "# Test"
   ]
  },
  {
   "cell_type": "code",
   "execution_count": null,
   "id": "63800969",
   "metadata": {
    "run_control": {
     "marked": true
    }
   },
   "outputs": [],
   "source": [
    "# determine the statistics of the population\n",
    "stats = pop.get_stats([\"phase_counts\", \"phis\"])"
   ]
  },
  {
   "cell_type": "code",
   "execution_count": null,
   "id": "0f8530b2",
   "metadata": {},
   "outputs": [],
   "source": [
    "# read parameters\n",
    "target_count = env.parameters[\"target_phase_count\"]\n",
    "phase_count_tol = env.parameters[\"phase_count_tolerance\"]\n",
    "enriched_components = np.array(env.parameters[\"enriched_components\"])\n",
    "weight = env.parameters[\"fitness_weight\"]"
   ]
  },
  {
   "cell_type": "code",
   "execution_count": null,
   "id": "8352a25a",
   "metadata": {},
   "outputs": [],
   "source": [
    "# determine fitness of each individual\n",
    "fitnesses = np.empty(len(pop))\n",
    "for i, ind_stat in enumerate(stats):  # iterate over individuals\n",
    "    # determine phase count fitness\n",
    "    counts = np.asarray(ind_stat[\"phase_counts\"])\n",
    "    arg = (counts - target_count) / phase_count_tol\n",
    "    fitness_count = np.mean(np.exp(-0.5 * arg**2))\n",
    "\n",
    "    if len(enriched_components) > 0:\n",
    "        # determine maximal partition coefficient\n",
    "        result = []\n",
    "        for phis in ind_stat[\"phis\"]:  # iterate over ensemble\n",
    "            # phis is now a 2d array of compositions (phases x component)\n",
    "            phis_sel = phis[:, enriched_components]\n",
    "            K = len(phis_sel)  # phase count of the individual sample\n",
    "            if K == 1:\n",
    "                result.append(np.array([0]))\n",
    "            else:\n",
    "                partition = (K * phis_sel - phis_sel.sum(axis=0)) / (K - 1)\n",
    "                result.append(np.max(partition, axis=0))\n",
    "\n",
    "        # mean best partitioning\n",
    "        fitness_partition = np.mean(result, axis=0)\n",
    "        print(fitness_count, fitness_partition, result)\n",
    "        fitnesses[i] = weight * fitness_count + (1 - weight) * fitness_partition\n",
    "\n",
    "    else:\n",
    "        fitnesses[i] = fitness_count\n",
    "fitnesses"
   ]
  }
 ],
 "metadata": {
  "kernelspec": {
   "display_name": "Python 3 (ipykernel)",
   "language": "python",
   "name": "python3"
  },
  "language_info": {
   "codemirror_mode": {
    "name": "ipython",
    "version": 3
   },
   "file_extension": ".py",
   "mimetype": "text/x-python",
   "name": "python",
   "nbconvert_exporter": "python",
   "pygments_lexer": "ipython3",
   "version": "3.11.4"
  },
  "toc": {
   "base_numbering": 1,
   "nav_menu": {},
   "number_sections": true,
   "sideBar": true,
   "skip_h1_title": false,
   "title_cell": "Table of Contents",
   "title_sidebar": "Contents",
   "toc_cell": false,
   "toc_position": {
    "height": "calc(100% - 180px)",
    "left": "10px",
    "top": "150px",
    "width": "252px"
   },
   "toc_section_display": true,
   "toc_window_display": true
  }
 },
 "nbformat": 4,
 "nbformat_minor": 5
}
