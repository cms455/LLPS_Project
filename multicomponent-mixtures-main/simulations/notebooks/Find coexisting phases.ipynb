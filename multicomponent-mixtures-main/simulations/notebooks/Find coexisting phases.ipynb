{
 "cells": [
  {
   "cell_type": "code",
   "execution_count": 2,
   "id": "0049a4ad",
   "metadata": {
    "ExecuteTime": {
     "end_time": "2024-06-13T15:00:29.458180Z",
     "start_time": "2024-06-13T15:00:28.266532Z"
    }
   },
   "outputs": [],
   "source": [
    "import sys\n",
    "sys.path.append('../..')\n",
    "import multicomp as mm\n",
    "import numpy as np"
   ]
  },
  {
   "cell_type": "markdown",
   "id": "06e067d7",
   "metadata": {},
   "source": [
    "# Obtain coexisting phases for an arbitrary interaction matrix and average compositions\n",
    "Note: package assumes the existence of an inert solvent, determined by the incompressibility condition."
   ]
  },
  {
   "cell_type": "markdown",
   "id": "bd7872d3",
   "metadata": {},
   "source": [
    "## system settings"
   ]
  },
  {
   "cell_type": "code",
   "execution_count": 3,
   "id": "3b53b5c0",
   "metadata": {
    "ExecuteTime": {
     "end_time": "2024-06-13T15:00:29.467860Z",
     "start_time": "2024-06-13T15:00:29.461620Z"
    }
   },
   "outputs": [],
   "source": [
    "# an arbitrary symmetric matrix of 4 components + 1 inert solvent.\n",
    "# The interaction between components and the solvent is assume to be zero.\n",
    "# Note that the diagonal elements are not necessary to be zero.\n",
    "# With non-zero diagonal elements, the system will be effective interactions between solvent and other components.\n",
    "chi_matrix = [\n",
    "    [0.0, 4.0, 5.0, 6.0],\n",
    "    [4.0, 0.0, 7.0, 6.0],\n",
    "    [5.0, 7.0, 0.0, 3.0],\n",
    "    [6.0, 6.0, 3.0, 0.0],\n",
    "]\n",
    "\n",
    "chi_matrix = [\n",
    "    [0.0, 4.0, 5.0, 2.0],\n",
    "    [4.0, 0.0, 3.0, 2.0],\n",
    "    [5.0, 3.0, 0.0, 3.0],\n",
    "    [2.0, 2.0, 3.0, 0.0],\n",
    "]\n",
    "\n",
    "# average compositions of the entire system\n",
    "# the volume fraction of the solvent is determined by incompressibility\n",
    "phi_vector = [0.2, 0.1, 0.3, 0.2]"
   ]
  },
  {
   "cell_type": "code",
   "execution_count": 10,
   "id": "9ceb646b",
   "metadata": {
    "ExecuteTime": {
     "end_time": "2024-06-13T15:03:21.297222Z",
     "start_time": "2024-06-13T15:03:21.289309Z"
    }
   },
   "outputs": [
    {
     "name": "stdout",
     "output_type": "stream",
     "text": [
      "[[0.2 0.1 0.3 0.2]\n",
      " [0.2 0.1 0.3 0.2]\n",
      " [0.2 0.1 0.3 0.2]\n",
      " [0.2 0.1 0.3 0.2]\n",
      " [0.2 0.1 0.3 0.2]\n",
      " [0.2 0.1 0.3 0.2]\n",
      " [0.2 0.1 0.3 0.2]\n",
      " [0.2 0.1 0.3 0.2]\n",
      " [0.2 0.1 0.3 0.2]\n",
      " [0.2 0.1 0.3 0.2]\n",
      " [0.2 0.1 0.3 0.2]\n",
      " [0.2 0.1 0.3 0.2]\n",
      " [0.2 0.1 0.3 0.2]\n",
      " [0.2 0.1 0.3 0.2]\n",
      " [0.2 0.1 0.3 0.2]\n",
      " [0.2 0.1 0.3 0.2]\n",
      " [0.2 0.1 0.3 0.2]\n",
      " [0.2 0.1 0.3 0.2]\n",
      " [0.2 0.1 0.3 0.2]\n",
      " [0.2 0.1 0.3 0.2]\n",
      " [0.2 0.1 0.3 0.2]\n",
      " [0.2 0.1 0.3 0.2]\n",
      " [0.2 0.1 0.3 0.2]\n",
      " [0.2 0.1 0.3 0.2]\n",
      " [0.2 0.1 0.3 0.2]\n",
      " [0.2 0.1 0.3 0.2]\n",
      " [0.2 0.1 0.3 0.2]\n",
      " [0.2 0.1 0.3 0.2]\n",
      " [0.2 0.1 0.3 0.2]\n",
      " [0.2 0.1 0.3 0.2]\n",
      " [0.2 0.1 0.3 0.2]\n",
      " [0.2 0.1 0.3 0.2]\n",
      " [0.2 0.1 0.3 0.2]\n",
      " [0.2 0.1 0.3 0.2]\n",
      " [0.2 0.1 0.3 0.2]\n",
      " [0.2 0.1 0.3 0.2]\n",
      " [0.2 0.1 0.3 0.2]\n",
      " [0.2 0.1 0.3 0.2]\n",
      " [0.2 0.1 0.3 0.2]\n",
      " [0.2 0.1 0.3 0.2]\n",
      " [0.2 0.1 0.3 0.2]\n",
      " [0.2 0.1 0.3 0.2]\n",
      " [0.2 0.1 0.3 0.2]\n",
      " [0.2 0.1 0.3 0.2]\n",
      " [0.2 0.1 0.3 0.2]\n",
      " [0.2 0.1 0.3 0.2]\n",
      " [0.2 0.1 0.3 0.2]\n",
      " [0.2 0.1 0.3 0.2]\n",
      " [0.2 0.1 0.3 0.2]\n",
      " [0.2 0.1 0.3 0.2]\n",
      " [0.2 0.1 0.3 0.2]\n",
      " [0.2 0.1 0.3 0.2]\n",
      " [0.2 0.1 0.3 0.2]\n",
      " [0.2 0.1 0.3 0.2]\n",
      " [0.2 0.1 0.3 0.2]\n",
      " [0.2 0.1 0.3 0.2]\n",
      " [0.2 0.1 0.3 0.2]\n",
      " [0.2 0.1 0.3 0.2]\n",
      " [0.2 0.1 0.3 0.2]\n",
      " [0.2 0.1 0.3 0.2]\n",
      " [0.2 0.1 0.3 0.2]\n",
      " [0.2 0.1 0.3 0.2]\n",
      " [0.2 0.1 0.3 0.2]\n",
      " [0.2 0.1 0.3 0.2]]\n",
      "(64,)\n"
     ]
    }
   ],
   "source": [
    "num_compartments = 64\n",
    "phis = [phi_vector] * num_compartments\n",
    "\n",
    "arr_phi = np.array(phis)\n",
    "arr_vol = np.ones(num_compartments) / num_compartments\n",
    "\n",
    "print(arr_phi)\n",
    "print(arr_vol.shape)"
   ]
  },
  {
   "cell_type": "markdown",
   "id": "dd4fbe28",
   "metadata": {},
   "source": [
    "## Create some compartments"
   ]
  },
  {
   "cell_type": "code",
   "execution_count": 11,
   "id": "4dfd31c0",
   "metadata": {
    "ExecuteTime": {
     "end_time": "2024-06-13T15:04:16.303005Z",
     "start_time": "2024-06-13T15:04:16.286963Z"
    }
   },
   "outputs": [
    {
     "name": "stdout",
     "output_type": "stream",
     "text": [
      "[[0.2, 0.1, 0.3, 0.2], [0.2, 0.1, 0.3, 0.2], [0.2, 0.1, 0.3, 0.2], [0.2, 0.1, 0.3, 0.2], [0.2, 0.1, 0.3, 0.2], [0.2, 0.1, 0.3, 0.2], [0.2, 0.1, 0.3, 0.2], [0.2, 0.1, 0.3, 0.2], [0.2, 0.1, 0.3, 0.2], [0.2, 0.1, 0.3, 0.2], [0.2, 0.1, 0.3, 0.2], [0.2, 0.1, 0.3, 0.2], [0.2, 0.1, 0.3, 0.2], [0.2, 0.1, 0.3, 0.2], [0.2, 0.1, 0.3, 0.2], [0.2, 0.1, 0.3, 0.2], [0.2, 0.1, 0.3, 0.2], [0.2, 0.1, 0.3, 0.2], [0.2, 0.1, 0.3, 0.2], [0.2, 0.1, 0.3, 0.2], [0.2, 0.1, 0.3, 0.2], [0.2, 0.1, 0.3, 0.2], [0.2, 0.1, 0.3, 0.2], [0.2, 0.1, 0.3, 0.2], [0.2, 0.1, 0.3, 0.2], [0.2, 0.1, 0.3, 0.2], [0.2, 0.1, 0.3, 0.2], [0.2, 0.1, 0.3, 0.2], [0.2, 0.1, 0.3, 0.2], [0.2, 0.1, 0.3, 0.2], [0.2, 0.1, 0.3, 0.2], [0.2, 0.1, 0.3, 0.2], [0.2, 0.1, 0.3, 0.2], [0.2, 0.1, 0.3, 0.2], [0.2, 0.1, 0.3, 0.2], [0.2, 0.1, 0.3, 0.2], [0.2, 0.1, 0.3, 0.2], [0.2, 0.1, 0.3, 0.2], [0.2, 0.1, 0.3, 0.2], [0.2, 0.1, 0.3, 0.2], [0.2, 0.1, 0.3, 0.2], [0.2, 0.1, 0.3, 0.2], [0.2, 0.1, 0.3, 0.2], [0.2, 0.1, 0.3, 0.2], [0.2, 0.1, 0.3, 0.2], [0.2, 0.1, 0.3, 0.2], [0.2, 0.1, 0.3, 0.2], [0.2, 0.1, 0.3, 0.2], [0.2, 0.1, 0.3, 0.2], [0.2, 0.1, 0.3, 0.2], [0.2, 0.1, 0.3, 0.2], [0.2, 0.1, 0.3, 0.2], [0.2, 0.1, 0.3, 0.2], [0.2, 0.1, 0.3, 0.2], [0.2, 0.1, 0.3, 0.2], [0.2, 0.1, 0.3, 0.2], [0.2, 0.1, 0.3, 0.2], [0.2, 0.1, 0.3, 0.2], [0.2, 0.1, 0.3, 0.2], [0.2, 0.1, 0.3, 0.2], [0.2, 0.1, 0.3, 0.2], [0.2, 0.1, 0.3, 0.2], [0.2, 0.1, 0.3, 0.2], [0.2, 0.1, 0.3, 0.2]]\n"
     ]
    }
   ],
   "source": [
    "# number of phases that the system will generate\n",
    "num_compartments = 64 # a overkill but safe choice for 4+1 components\n",
    "# create the Flory-Huggins free energy\n",
    "fh_energy = mm.FloryHuggins(np.array(chi_matrix))\n",
    "# generate a collection of compartments\n",
    "# we generate compartments that all of them share the same composition, namely the average composition, here.\n",
    "# the FieldLikeRelaxationDynamics afterwards will add fluctuations to the compositions itself.\n",
    "phis = [phi_vector] * num_compartments\n",
    "\n",
    "\n",
    "mixture = mm.MultiphaseVolumeSystem(\n",
    "    fh_energy, \n",
    "    np.array(phis), # compositions of each compartment\n",
    "    np.ones(num_compartments) / num_compartments # relative volume of each compartment\n",
    ")"
   ]
  },
  {
   "cell_type": "code",
   "execution_count": 7,
   "id": "1a84045f",
   "metadata": {
    "ExecuteTime": {
     "end_time": "2024-04-24T18:03:01.572715Z",
     "start_time": "2024-04-24T18:03:01.565686Z"
    }
   },
   "outputs": [
    {
     "data": {
      "text/plain": [
       "multicomp.mixture.MultiphaseVolumeSystem"
      ]
     },
     "execution_count": 7,
     "metadata": {},
     "output_type": "execute_result"
    }
   ],
   "source": [
    "type(mixture)"
   ]
  },
  {
   "cell_type": "markdown",
   "id": "1d29918f",
   "metadata": {},
   "source": [
    "## Hyperparameters "
   ]
  },
  {
   "cell_type": "code",
   "execution_count": 4,
   "id": "ce5a5d56",
   "metadata": {
    "ExecuteTime": {
     "end_time": "2024-04-23T15:15:35.547294Z",
     "start_time": "2024-04-23T15:15:35.542437Z"
    }
   },
   "outputs": [],
   "source": [
    "dynamics_params = {\n",
    "    \"initialization_random_std\": 5,  # how random the initial guess is\n",
    "    \"acceptance_Js\": 0.0002, # how fast the relative volumes are evolved\n",
    "    \"acceptance_omega\": 0.002, # how fast the compositions are evolved\n",
    "}\n",
    "\n",
    "evolve_params = {\n",
    "    \"t_range\": 1000000,  # maximum iteration steps\n",
    "    \"dt\": 1,  # always unity for FieldLikeRelaxationDynamics\n",
    "    \"interval\": 10000,  # the frequency for checking convergence\n",
    "    \"tolerance\": 1e-5,  # criteria for determining convergence\n",
    "    \"progress\": True,\n",
    "    \"save_intermediate_data\": False,\n",
    "}"
   ]
  },
  {
   "cell_type": "markdown",
   "id": "d2ecf468",
   "metadata": {},
   "source": [
    "## Create the dynamics and find the coexisting states"
   ]
  },
  {
   "cell_type": "code",
   "execution_count": 5,
   "id": "df2265e9",
   "metadata": {
    "ExecuteTime": {
     "end_time": "2024-04-23T15:15:52.788942Z",
     "start_time": "2024-04-23T15:15:36.410075Z"
    }
   },
   "outputs": [
    {
     "data": {
      "application/vnd.jupyter.widget-view+json": {
       "model_id": "e52764b069ae48f18095a28a5548123d",
       "version_major": 2,
       "version_minor": 0
      },
      "text/plain": [
       "HBox(children=(HTML(value=''), FloatProgress(value=0.0), HTML(value='')))"
      ]
     },
     "metadata": {},
     "output_type": "display_data"
    },
    {
     "name": "stdout",
     "output_type": "stream",
     "text": [
      "\n"
     ]
    }
   ],
   "source": [
    "dynamics = mm.FieldLikeRelaxationDynamics(mixture, parameters=dynamics_params)\n",
    "ts, result = dynamics.evolve(**evolve_params)"
   ]
  },
  {
   "cell_type": "markdown",
   "id": "855a4e9e",
   "metadata": {},
   "source": [
    "## Print and Check"
   ]
  },
  {
   "cell_type": "code",
   "execution_count": 26,
   "id": "a88057a2",
   "metadata": {},
   "outputs": [
    {
     "name": "stdout",
     "output_type": "stream",
     "text": [
      "2 phases are found\n",
      "Compositions are \n",
      "[[0.02828841 0.07972509 0.63568611 0.08158511]\n",
      " [0.3004376  0.1118592  0.10365038 0.26926327]]\n",
      "Convergence is (lower the better) \n",
      "4.1540370006867606e-07\n"
     ]
    }
   ],
   "source": [
    "unique_phases = result.get_clusters()\n",
    "print(len(unique_phases), \"phases are found\")\n",
    "print(\"Compositions are \")\n",
    "print(unique_phases)\n",
    "print(\"Convergence is (lower the better) \")\n",
    "print(result.entropy_production)\n"
   ]
  },
  {
   "cell_type": "code",
   "execution_count": null,
   "id": "5d139f5c",
   "metadata": {},
   "outputs": [],
   "source": []
  }
 ],
 "metadata": {
  "kernelspec": {
   "display_name": "Python 3",
   "language": "python",
   "name": "python3"
  },
  "language_info": {
   "codemirror_mode": {
    "name": "ipython",
    "version": 3
   },
   "file_extension": ".py",
   "mimetype": "text/x-python",
   "name": "python",
   "nbconvert_exporter": "python",
   "pygments_lexer": "ipython3",
   "version": "3.8.5"
  },
  "toc": {
   "base_numbering": 1,
   "nav_menu": {},
   "number_sections": true,
   "sideBar": true,
   "skip_h1_title": false,
   "title_cell": "Table of Contents",
   "title_sidebar": "Contents",
   "toc_cell": false,
   "toc_position": {
    "height": "calc(100% - 180px)",
    "left": "10px",
    "top": "150px",
    "width": "252px"
   },
   "toc_section_display": true,
   "toc_window_display": true
  }
 },
 "nbformat": 4,
 "nbformat_minor": 5
}
