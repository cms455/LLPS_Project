{
 "cells": [
  {
   "cell_type": "code",
   "execution_count": 1,
   "metadata": {},
   "outputs": [],
   "source": [
    "from definitions import *\n",
    "import sys\n",
    "import opentrons\n",
    "import ast"
   ]
  },
  {
   "cell_type": "markdown",
   "metadata": {},
   "source": [
    "Firstly set the directory you want to work in - this is the folder where all the code will be saved."
   ]
  },
  {
   "cell_type": "markdown",
   "metadata": {},
   "source": [
    "Before creating Sample lists you must confirm that the chemical you want to add is in the list of chemicals in 'definitions.py'. If is not just add another line to it. The key is the name of the chemical you want to include. The value is a string that can either be 'water', 'bsa', or 'peg' and the idea is that these are the three kinds of viscosities you might encounter - 'water' for non-viscous samples, 'bsa' for intermediate viscosities and 'peg' for super viscous samples."
   ]
  },
  {
   "cell_type": "markdown",
   "metadata": {},
   "source": [
    "Also create the stock dictionary for all the stock concentrations you intend to use for this sample prep - with the exception of BSA and PEG everything else is in mM"
   ]
  },
  {
   "cell_type": "code",
   "execution_count": 2,
   "metadata": {},
   "outputs": [],
   "source": [
    "stock_dict = {'bsa': 350,       # g/L\n",
    "              'peg': 600,       # g/L\n",
    "              'kp': 2000,        # mM\n",
    "              'kcl': 4000,\n",
    "              'nh3':500,\n",
    "              'hco3':1000,\n",
    "              'water':0,\n",
    "              'proline':2700,\n",
    "              'lysine':1000,\n",
    "              'glut_acid':2000,\n",
    "              'adenine':1000,\n",
    "              'glycine':1000,\n",
    "              'h3po3':1000,\n",
    "              'hexanediol':1000,\n",
    "              'glucose':1000\n",
    "            }"
   ]
  },
  {
   "cell_type": "code",
   "execution_count": 3,
   "metadata": {},
   "outputs": [],
   "source": [
    "chemical_list_and_relviscosity = {}\n",
    "for key in stock_dict:\n",
    "    chemical_list_and_relviscosity[key] = 'water'\n",
    "chemical_list_and_relviscosity['bsa'] = 'bsa'   \n",
    "chemical_list_and_relviscosity['peg'] = 'peg'\n"
   ]
  },
  {
   "cell_type": "markdown",
   "metadata": {},
   "source": [
    "## Creating Sample Lists for Otto Process "
   ]
  },
  {
   "cell_type": "markdown",
   "metadata": {},
   "source": [
    "1. Add samples to the sample list either manually (if the sample list is simple with only one varying concentration and other chemicals are kept fixed) or using csv file. For csv file"
   ]
  },
  {
   "cell_type": "code",
   "execution_count": 20,
   "metadata": {},
   "outputs": [
    {
     "name": "stdout",
     "output_type": "stream",
     "text": [
      "list of chemicals: dict_keys(['bsa', 'peg', 'kp', 'kcl', 'nh3', 'hco3', 'water', 'proline', 'lysine', 'glut_acid', 'adenine', 'glycine', 'h3po3', 'hexanediol', 'glucose'])\n",
      "{'bsa': 46.68, 'peg': 226.0, 'kp': 100.0, 'kcl': 200.0, 'glycine': 50.0, 'water': 0}\n",
      "{'bsa': 46.68, 'peg': 226.0, 'kp': 100.0, 'kcl': 200.0, 'glycine': 100.0, 'water': 0}\n",
      "{'bsa': 46.68, 'peg': 226.0, 'kp': 100.0, 'kcl': 200.0, 'glycine': 150.0, 'water': 0}\n",
      "{'bsa': 46.68, 'peg': 226.0, 'kp': 100.0, 'kcl': 200.0, 'glycine': 200.0, 'water': 0}\n",
      "{'bsa': 46.68, 'peg': 226.0, 'kp': 100.0, 'kcl': 200.0, 'glycine': 250.0, 'water': 0}\n",
      "{'bsa': 46.68, 'peg': 226.0, 'kp': 100.0, 'kcl': 200.0, 'glycine': 300.0, 'water': 0}\n",
      "order of mixing: ['water', 'kp', 'kcl', 'glycine', 'bsa', 'peg']\n",
      "sample list saved as sample_list-2024-03-04__14-47-56.pkl\n"
     ]
    }
   ],
   "source": [
    "make_sample_list_manually(chemical_list_and_relviscosity)        # for manual addition of samples"
   ]
  },
  {
   "cell_type": "code",
   "execution_count": null,
   "metadata": {},
   "outputs": [],
   "source": [
    "make_sample_list_csv(filename='',chemical_list_and_relviscosity)              # for automatic addition of samples from csv file"
   ]
  },
  {
   "cell_type": "markdown",
   "metadata": {},
   "source": [
    "2. View all created sample lists that are yet to be prepared - Note that sample lists are numbered 0,1,2 and so on - they are ordered based on their date of creation and is not a unique filename"
   ]
  },
  {
   "cell_type": "code",
   "execution_count": 46,
   "metadata": {},
   "outputs": [],
   "source": [
    "view_sample_lists()                  # for viewing the sample list"
   ]
  },
  {
   "cell_type": "markdown",
   "metadata": {},
   "source": [
    "3. Estimate requirements for preparing samples - this will tell you the minimum stock vols, pipette tips and pipettes and plates you need for preparing the samples.\n",
    "    The function takes as input volume of sample, list of sample list numbers you want to run (for eg if you only want to run sample list 0 and 1 (numbers according to what is displayed in view_sample_list - then pass [0,1])) and dictionary of stocks\n",
    "    "
   ]
  },
  {
   "cell_type": "code",
   "execution_count": 22,
   "metadata": {},
   "outputs": [
    {
     "name": "stdout",
     "output_type": "stream",
     "text": [
      "[220. 300. 144.]\n",
      "summary of the minimum requirements:\n",
      "number of plates: 1.0\n",
      "pipettes: ['p300', 'p1000']\n",
      "tip boxes: [1.0, 1.0]\n",
      "Number of tips used: [92.0, 52.0]\n",
      "minimum stock volumes required:\n",
      "bsa: 5.1214628571428555 mL\n",
      "peg: 14.463999999999995 mL\n",
      "kp: 1.92 mL\n",
      "kcl: 1.92 mL\n",
      "nh3: 0.0 mL\n",
      "hco3: 0.0 mL\n",
      "water: 8.25453714285714 mL\n",
      "proline: 0.0 mL\n",
      "lysine: 1.68 mL\n",
      "glut_acid: 0.0 mL\n",
      "adenine: 0.0 mL\n",
      "glycine: 1.68 mL\n",
      "h3po3: 1.68 mL\n",
      "hexanediol: 0.0 mL\n",
      "glucose: 1.68 mL\n"
     ]
    }
   ],
   "source": [
    "estimate_requirements(1600,sample_list_nos=[0,1,2,3],stock_dict=stock_dict)       # for estimating the requirements of the samples"
   ]
  },
  {
   "cell_type": "markdown",
   "metadata": {},
   "source": [
    "4. Create run file for Otto which will contain all the run information needed for the OT-2\n",
    "This also creates a csv file called 'run.csv' which includes all the information of deck location and stock volumes. It is already pre-filled according to the estimated requirements but can be changed depending on the user's preference\n",
    "Again - the inputs are the same as that for estimate_requirements"
   ]
  },
  {
   "cell_type": "code",
   "execution_count": 23,
   "metadata": {},
   "outputs": [
    {
     "name": "stdout",
     "output_type": "stream",
     "text": [
      "[220. 300. 144.]\n",
      "run file saved as run_file-2024-03-04__14-48-37.pkl\n"
     ]
    }
   ],
   "source": [
    "create_run_file(1600,sample_list_nos=[0,1,2,3],stock_dict=stock_dict)             # for creating the run file"
   ]
  },
  {
   "cell_type": "markdown",
   "metadata": {},
   "source": [
    "This is the last step for the sample creation - now you only need to set up all the physical requirements for the sample prep and run the code for Otto! "
   ]
  },
  {
   "cell_type": "code",
   "execution_count": 25,
   "metadata": {},
   "outputs": [],
   "source": [
    "!open run.csv"
   ]
  },
  {
   "cell_type": "markdown",
   "metadata": {},
   "source": [
    "## Running samples for Otto:"
   ]
  },
  {
   "cell_type": "markdown",
   "metadata": {},
   "source": [
    "First, you need to update the run.csv file in the folder with all the stock volumes and the correct deck locations for all the labware you will be using\n",
    "Once you are convinced of that, send all the files to otto's server:"
   ]
  },
  {
   "cell_type": "code",
   "execution_count": 26,
   "metadata": {},
   "outputs": [
    {
     "name": "stdout",
     "output_type": "stream",
     "text": [
      "OttoFunctions.py                              100%   23KB 807.8KB/s   00:00    \n",
      "SamplePrepCode.py                             100% 3317   213.0KB/s   00:00    \n",
      "Dilutions.py                                  100% 4020   324.9KB/s   00:00    \n",
      "out.txt                                       100% 3429   399.6KB/s   00:00    \n",
      ".DS_Store                                     100%   10KB 370.4KB/s   00:00    \n",
      "definitions.py                                100%   51KB 452.1KB/s   00:00    \n",
      "SamplePrepCode_Fast.py                        100% 3806   334.1KB/s   00:00    \n",
      "CreatingSampleLists.ipynb                     100%   17KB 518.0KB/s   00:00    \n",
      "run.csv                                       100% 1280   145.6KB/s   00:00    \n",
      "dilution_labware.csv                          100%  858    96.9KB/s   00:00    \n",
      "OttoFunctions.cpython-38.pyc                  100%   15KB 972.4KB/s   00:00    \n",
      "definitions.cpython-38.pyc                    100%   34KB 379.4KB/s   00:00    \n",
      "definitions.cpython-311.pyc                   100%   32KB 713.7KB/s   00:00    \n",
      "sample_list-2024-03-04__14-46-12.pkl          100% 1660    78.6KB/s   00:00    \n",
      "sample_list-2024-03-04__14-47-56.pkl          100% 1660   120.3KB/s   00:00    \n",
      "sample_list-2024-03-04__14-45-38.pkl          100% 1657   194.9KB/s   00:00    \n",
      "sample_list-2024-03-04__14-47-00.pkl          100% 1665   178.9KB/s   00:00    \n",
      "ot2_ssh_key                                   100% 2655   123.3KB/s   00:00    \n",
      "run_file-2024-03-04__14-48-37.pkl             100%  359    35.4KB/s   00:00    \n",
      "BSA_dilutions.py                              100% 5342   281.7KB/s   00:00    \n"
     ]
    }
   ],
   "source": [
    "# sending files using scp\n",
    "current_directory = os.getcwd()\n",
    "directory_name = os.path.basename(current_directory)\n",
    "!ssh -i ~/.ssh/ot2_ssh_key root@10.49.35.97 \"rm -r /var/lib/jupyter/notebooks/{directory_name}\"\n",
    "!scp -O -r -i ~/.ssh/ot2_ssh_key {current_directory} root@10.49.35.97:/var/lib/jupyter/notebooks/"
   ]
  },
  {
   "cell_type": "code",
   "execution_count": 6,
   "metadata": {},
   "outputs": [
    {
     "name": "stdout",
     "output_type": "stream",
     "text": [
      "/Users/kaarthikvarma/.opentrons/robot_settings.json not found. Loading defaults\n",
      "Deck calibration not found.\n",
      "/Users/kaarthikvarma/.opentrons/deck_calibration.json not found. Loading defaults\n"
     ]
    }
   ],
   "source": [
    "# run the code in the server once all the hardware has been set up\n",
    "# don't use this yet!\n",
    "!opentrons_simulate SamplePrepCode_Fast.py > out.txt\n",
    "# !ssh -i ot2_ssh_key root@10.49.35.97 \"cd /var/lib/jupyter/notebooks/{directory_name} && nohup opentrons_execute SamplePrepCode.py > out.txt\"\n",
    "# !ssh -i ~/.ssh/ot2_ssh_key root@10.49.35.97 'sh -l -c \"nohup opentrons_execute /var/lib/jupyter/notebooks/{directory_name}/SamplePrepCode_Fast.py\"'"
   ]
  },
  {
   "cell_type": "code",
   "execution_count": null,
   "metadata": {},
   "outputs": [],
   "source": [
    "# retrieve the summary file once the sample prep is done:\n",
    "!scp -O -r -i ~/.ssh/ot2_ssh_key root@10.49.35.97:/var/lib/jupyter/notebooks/{current_directory}/SamplePrepLog.csv"
   ]
  },
  {
   "cell_type": "markdown",
   "metadata": {},
   "source": [
    "# Seperating dilute from dense phase and performing dilutions on the dilute phase:"
   ]
  },
  {
   "cell_type": "code",
   "execution_count": 31,
   "metadata": {},
   "outputs": [
    {
     "name": "stdout",
     "output_type": "stream",
     "text": [
      "Sample list 0:\n",
      "sample list: variation of lysine\n",
      "time: 2024-03-04 14:45:38\n",
      "comments: n\n",
      "{'bsa': 46.68, 'peg': 226.0, 'kp': 100.0, 'kcl': 200.0, 'lysine': 50.0, 'water': 0}\n",
      "{'bsa': 46.68, 'peg': 226.0, 'kp': 100.0, 'kcl': 200.0, 'lysine': 100.0, 'water': 0}\n",
      "{'bsa': 46.68, 'peg': 226.0, 'kp': 100.0, 'kcl': 200.0, 'lysine': 150.0, 'water': 0}\n",
      "{'bsa': 46.68, 'peg': 226.0, 'kp': 100.0, 'kcl': 200.0, 'lysine': 200.0, 'water': 0}\n",
      "{'bsa': 46.68, 'peg': 226.0, 'kp': 100.0, 'kcl': 200.0, 'lysine': 250.0, 'water': 0}\n",
      "{'bsa': 46.68, 'peg': 226.0, 'kp': 100.0, 'kcl': 200.0, 'lysine': 300.0, 'water': 0}\n",
      "order of mixing: ['water', 'kp', 'kcl', 'lysine', 'bsa', 'peg']\n",
      "\n",
      "\n",
      "\n",
      "Sample list 1:\n",
      "sample list: variation of glucose\n",
      "time: 2024-03-04 14:46:12\n",
      "comments: n\n",
      "{'bsa': 46.68, 'peg': 226.0, 'kp': 100.0, 'kcl': 200.0, 'glucose': 50.0, 'water': 0}\n",
      "{'bsa': 46.68, 'peg': 226.0, 'kp': 100.0, 'kcl': 200.0, 'glucose': 100.0, 'water': 0}\n",
      "{'bsa': 46.68, 'peg': 226.0, 'kp': 100.0, 'kcl': 200.0, 'glucose': 150.0, 'water': 0}\n",
      "{'bsa': 46.68, 'peg': 226.0, 'kp': 100.0, 'kcl': 200.0, 'glucose': 200.0, 'water': 0}\n",
      "{'bsa': 46.68, 'peg': 226.0, 'kp': 100.0, 'kcl': 200.0, 'glucose': 250.0, 'water': 0}\n",
      "{'bsa': 46.68, 'peg': 226.0, 'kp': 100.0, 'kcl': 200.0, 'glucose': 300.0, 'water': 0}\n",
      "order of mixing: ['water', 'kp', 'kcl', 'glucose', 'bsa', 'peg']\n",
      "\n",
      "\n",
      "\n",
      "Sample list 2:\n",
      "sample list: variation of phosphorous acid\n",
      "time: 2024-03-04 14:47:00\n",
      "comments: n\n",
      "{'bsa': 46.68, 'peg': 226.0, 'kp': 100.0, 'kcl': 200.0, 'h3po3': 50.0, 'water': 0}\n",
      "{'bsa': 46.68, 'peg': 226.0, 'kp': 100.0, 'kcl': 200.0, 'h3po3': 100.0, 'water': 0}\n",
      "{'bsa': 46.68, 'peg': 226.0, 'kp': 100.0, 'kcl': 200.0, 'h3po3': 150.0, 'water': 0}\n",
      "{'bsa': 46.68, 'peg': 226.0, 'kp': 100.0, 'kcl': 200.0, 'h3po3': 200.0, 'water': 0}\n",
      "{'bsa': 46.68, 'peg': 226.0, 'kp': 100.0, 'kcl': 200.0, 'h3po3': 250.0, 'water': 0}\n",
      "{'bsa': 46.68, 'peg': 226.0, 'kp': 100.0, 'kcl': 200.0, 'h3po3': 300.0, 'water': 0}\n",
      "order of mixing: ['water', 'kp', 'kcl', 'h3po3', 'bsa', 'peg']\n",
      "\n",
      "\n",
      "\n",
      "Sample list 3:\n",
      "sample list: variation of glycine\n",
      "time: 2024-03-04 14:47:56\n",
      "comments: n\n",
      "{'bsa': 46.68, 'peg': 226.0, 'kp': 100.0, 'kcl': 200.0, 'glycine': 50.0, 'water': 0}\n",
      "{'bsa': 46.68, 'peg': 226.0, 'kp': 100.0, 'kcl': 200.0, 'glycine': 100.0, 'water': 0}\n",
      "{'bsa': 46.68, 'peg': 226.0, 'kp': 100.0, 'kcl': 200.0, 'glycine': 150.0, 'water': 0}\n",
      "{'bsa': 46.68, 'peg': 226.0, 'kp': 100.0, 'kcl': 200.0, 'glycine': 200.0, 'water': 0}\n",
      "{'bsa': 46.68, 'peg': 226.0, 'kp': 100.0, 'kcl': 200.0, 'glycine': 250.0, 'water': 0}\n",
      "{'bsa': 46.68, 'peg': 226.0, 'kp': 100.0, 'kcl': 200.0, 'glycine': 300.0, 'water': 0}\n",
      "order of mixing: ['water', 'kp', 'kcl', 'glycine', 'bsa', 'peg']\n",
      "\n",
      "\n",
      "\n"
     ]
    }
   ],
   "source": [
    "# view all the prepared samples\n",
    "view_sample_lists(dir = master_dir / 'prepared_samples/')"
   ]
  },
  {
   "cell_type": "code",
   "execution_count": 47,
   "metadata": {},
   "outputs": [
    {
     "name": "stdout",
     "output_type": "stream",
     "text": [
      "summary of the minimum requirements:\n",
      "pipettes: ['p300', 'p1000']\n",
      "tip boxes: [1.0, 1.0]\n",
      "Number of tips used: [24.0, 6.0]\n",
      "run file saved as dilutions_run_file-2024-03-06__15-27-19.pkl\n"
     ]
    }
   ],
   "source": [
    "create_run_file_for_dilutions(sample_list_nos=[3],vol_sample_per_dil=30,dilution_factor=10,Num_dilutions=2,stock_dict=stock_dict,vol_fraction_dense=0.2)"
   ]
  },
  {
   "cell_type": "code",
   "execution_count": 48,
   "metadata": {},
   "outputs": [],
   "source": [
    "!open dilution_labware.csv"
   ]
  },
  {
   "cell_type": "code",
   "execution_count": 49,
   "metadata": {},
   "outputs": [
    {
     "name": "stdout",
     "output_type": "stream",
     "text": [
      "OttoFunctions.py                              100%   23KB 863.4KB/s   00:00    \n",
      "SamplePrepCode.py                             100% 3316   292.4KB/s   00:00    \n",
      "Dilutions.py                                  100% 4020   259.0KB/s   00:00    \n",
      "out.txt                                       100%  444KB 941.3KB/s   00:00    \n",
      ".DS_Store                                     100%   10KB 795.4KB/s   00:00    \n",
      "definitions.py                                100%   52KB   1.0MB/s   00:00    \n",
      "SamplePrepCode_Fast.py                        100% 3806   354.7KB/s   00:00    \n",
      "CreatingSampleLists.ipynb                     100%   17KB 441.0KB/s   00:00    \n",
      "sample_list-2024-03-04__14-46-12.pkl          100% 1681   165.6KB/s   00:00    \n",
      "sample_list-2024-03-04__14-47-56.pkl          100% 1681   162.1KB/s   00:00    \n",
      "sample_list-2024-03-04__14-45-38.pkl          100% 1675   143.3KB/s   00:00    \n",
      "sample_list-2024-03-04__14-47-00.pkl          100% 1683   159.2KB/s   00:00    \n",
      "run.csv                                       100% 1280    85.8KB/s   00:00    \n",
      "dilutions_run_file-2024-03-06__15-27-19.pkl   100%   64     5.6KB/s   00:00    \n",
      "dilution_labware.csv                          100%  858    96.9KB/s   00:00    \n",
      "OttoFunctions.cpython-38.pyc                  100%   15KB 728.3KB/s   00:00    \n",
      "definitions.cpython-38.pyc                    100%   35KB 826.7KB/s   00:00    \n",
      "definitions.cpython-311.pyc                   100%   32KB   1.0MB/s   00:00    \n",
      ".DS_Store                                     100% 6148   489.2KB/s   00:00    \n",
      "ot2_ssh_key                                   100% 2655   301.1KB/s   00:00    \n",
      "BSA_dilutions.py                              100% 6052   408.8KB/s   00:00    \n",
      "SamplePrepSummary_2024-03-05.csv              100% 6293   292.0KB/s   00:00    \n"
     ]
    }
   ],
   "source": [
    "current_directory = os.getcwd()\n",
    "directory_name = os.path.basename(current_directory)\n",
    "!ssh -i ~/.ssh/ot2_ssh_key root@10.49.35.97 \"rm -r /var/lib/jupyter/notebooks/{directory_name}\"\n",
    "!scp -O -r -i ~/.ssh/ot2_ssh_key {current_directory} root@10.49.35.97:/var/lib/jupyter/notebooks/"
   ]
  },
  {
   "cell_type": "code",
   "execution_count": null,
   "metadata": {},
   "outputs": [],
   "source": [
    "!ssh -i ~/.ssh/ot2_ssh_key root@10.49.35.97 'sh -l -c \"nohup opentrons_execute /var/lib/jupyter/notebooks/{directory_name}/BSA_dilutions.py\"'"
   ]
  },
  {
   "cell_type": "code",
   "execution_count": 27,
   "metadata": {},
   "outputs": [
    {
     "name": "stdout",
     "output_type": "stream",
     "text": [
      "dilutions_run_file-2024-03-05__17-18-05.pkl\n",
      "1 A9\n",
      "2 A10\n",
      "3 A11\n",
      "4 A12\n",
      "5 B1\n",
      "6 B2\n",
      "7 B3\n",
      "8 B4\n",
      "9 B5\n",
      "10 B6\n",
      "11 B7\n",
      "12 B8\n",
      "13 B9\n",
      "14 B10\n",
      "15 B11\n",
      "16 B12\n",
      "17 C1\n",
      "18 C2\n"
     ]
    }
   ],
   "source": [
    "# transfer the dilute phase of samples to new plate:\n",
    "\n",
    "first_run_file = sorted([f for f in os.listdir(master_dir) if f.startswith('dilutions_run_file')])[0]\n",
    "print(first_run_file)\n",
    "with open(master_dir / first_run_file,'rb') as f:\n",
    "    vol_sample_per_dil,Num_dilutions,dilution_factor,sample_lists = pickle.load(f)\n",
    "\n",
    "df = convert_sample_lists_to_df(vol_sample_per_dil,Num_dilutions,dilution_factor,sample_lists)\n",
    "for sample_id, group in df.groupby('Sample_ID'):\n",
    "    row = group.iloc[0]\n",
    "    sample_ID = row['Sample_ID']\n",
    "    print(row['Sample_ID'],row['Well'])"
   ]
  },
  {
   "cell_type": "code",
   "execution_count": 26,
   "metadata": {},
   "outputs": [],
   "source": [
    "def convert_sample_lists_to_df(vol_sample_per_dil,Num_dilutions,dilution_factor,sample_lists):\n",
    "    data_list = []\n",
    "    sample_number = 0\n",
    "    sample_id_number = 0\n",
    "    for sample_list in sample_lists:\n",
    "        with open(master_dir / 'prepared_samples' / sample_list, 'rb') as f:\n",
    "            metadata_sample, chemical_viscosity, samples = pickle.load(f)\n",
    "        for ind,sample in enumerate(samples):\n",
    "            sample_id_number += 1          # remove this later\n",
    "            for i in range(Num_dilutions):\n",
    "                sample_number += 1\n",
    "                dil_well_loc = generate_unique_well_position(sample_number=sample_number,method='all',starts_with='F1')\n",
    "                data_list.append([sample_id_number,sample.plate_number,sample.well, sample.sample_volume,sample.composition,dil_well_loc,dilution_factor,Num_dilutions,vol_sample_per_dil,(vol_sample_per_dil-1)*dilution_factor])   \n",
    "        \n",
    "    df = pd.DataFrame(data_list,columns=['Sample_ID','Plate','Well','Sample Volume','Composition','Dilution_Well','Dilution_Factor','Num_Dilutions','SampleVolumeDilution','WaterVolumeDilution'])\n",
    "    return df\n",
    "            "
   ]
  },
  {
   "cell_type": "code",
   "execution_count": null,
   "metadata": {},
   "outputs": [],
   "source": []
  }
 ],
 "metadata": {
  "kernelspec": {
   "display_name": "saxs",
   "language": "python",
   "name": "python3"
  },
  "language_info": {
   "codemirror_mode": {
    "name": "ipython",
    "version": 3
   },
   "file_extension": ".py",
   "mimetype": "text/x-python",
   "name": "python",
   "nbconvert_exporter": "python",
   "pygments_lexer": "ipython3",
   "version": "3.8.18"
  }
 },
 "nbformat": 4,
 "nbformat_minor": 2
}
