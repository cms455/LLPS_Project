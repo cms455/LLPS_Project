{
 "cells": [
  {
   "cell_type": "code",
   "execution_count": null,
   "metadata": {},
   "outputs": [],
   "source": [
    "from sequenceAnalysis import *\n",
    "import os"
   ]
  },
  {
   "cell_type": "code",
   "execution_count": null,
   "metadata": {},
   "outputs": [],
   "source": [
    "# Define the directory containing the reference sequence\n",
    "referenceDirectory = 'Reference sequences'\n",
    "referenceFileName = 'BSA.fasta'\n",
    "outputFileName = 'BSA Trypsin sites'\n",
    "\n",
    "# Define the path to the reference file\n",
    "referencePath = os.path.join(referenceDirectory, referenceFileName)\n",
    "\n",
    "# Visualize trypsin sites in the reference sequence\n",
    "highlightTrypsinSites(referencePath, outputFileName)"
   ]
  },
  {
   "cell_type": "markdown",
   "metadata": {},
   "source": [
    "MUSCLE is required for sequence alignement. MUSCLE is a multiple sequence alignment program.\n",
    "It needs to be downloaded and installed separately. You can download MUSCLE from https://www.drive5.com/muscle/.\n",
    "After downloading, you should add the executable to your system's PATH or specify the path to the executable in\n",
    "the muscleExecutable variable in this function."
   ]
  },
  {
   "cell_type": "code",
   "execution_count": null,
   "metadata": {},
   "outputs": [],
   "source": [
    "# Define the directory and file names for Sanger sequencing\n",
    "referenceDirectory = 'Reference sequences'\n",
    "sangerDirectory = 'Sanger sequences'\n",
    "referenceFileName = '16.4_T7term_rep1.fasta'\n",
    "sangerForwardFileName = 'FUST7PROM.fa'\n",
    "sangerReverseFileName = 'FUST7TERM.fa'\n",
    "\n",
    "# Define the paths to the Sanger sequencing files\n",
    "referencePath = os.path.join(referenceDirectory, referenceFileName)\n",
    "sangerForwardPath = os.path.join(sangerDirectory, sangerForwardFileName)\n",
    "sangerReversePath = os.path.join(sangerDirectory, sangerReverseFileName)\n",
    "\n",
    "# Define the file paths for sequence alignment\n",
    "filePaths = [(referencePath,'reverse_complement'), sangerForwardPath, (sangerReversePath,'reverse_complement')]\n",
    "\n",
    "# Run muscle\n",
    "muscle(filePaths)\n",
    "\n",
    "# Print the alignment metrics\n",
    "printAlignmentMetrics(filePaths,translate=True)\n",
    "\n",
    "# Visualize the alignment\n",
    "circleAlignment(filePaths,translate=True,printFig=True)"
   ]
  }
 ],
 "metadata": {
  "kernelspec": {
   "display_name": "Python 3",
   "language": "python",
   "name": "python3"
  },
  "language_info": {
   "codemirror_mode": {
    "name": "ipython",
    "version": 3
   },
   "file_extension": ".py",
   "mimetype": "text/x-python",
   "name": "python",
   "nbconvert_exporter": "python",
   "pygments_lexer": "ipython3",
   "version": "3.11.4"
  }
 },
 "nbformat": 4,
 "nbformat_minor": 2
}
