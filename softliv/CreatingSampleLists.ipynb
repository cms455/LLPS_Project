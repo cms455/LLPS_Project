{
 "cells": [
  {
   "cell_type": "markdown",
   "metadata": {
    "ExecuteTime": {
     "end_time": "2024-03-21T15:56:05.767662Z",
     "start_time": "2024-03-21T15:56:05.763638Z"
    }
   },
   "source": [
    "# Purpose\n",
    "\n",
    "This notebook generates codes \n",
    "\n",
    "**DEPENDENCIES**<br>\n",
    "`opentrons`\n",
    "... This module only works in python 3.7 not in 3.11.<br>\n",
    "\n",
    "<br>\n",
    "** Roles **\n",
    "sample_list: A list of Sample objects which encodes the concentrations of N chemical species<br>\n",
    "... This keeps track of the assigned ** well plate locations**.<br>\n",
    "run_files: A pickle file that Otto reads<br>\n",
    "run.csv (-> labware_configuration.csv): A csv file that lists the positions of the tips etc.<br>\n",
    "... Users MUST check before submitting the job.<br>\n",
    "\n",
    "**File architecture**\n",
    "/run.csv<br>\n",
    "/samples: Location of  sample_list lives<br>\n",
    "/prepared_samples: Location reserved for the sample_lists that were prepared by Otto<br>\n",
    "... <br>\n",
    "\n",
    "<br>\n",
    "\n",
    "**Procedure**\n",
    "\n",
    "0. CREATE A VIRTUAL ENVIRONMENT FOR `opentrons`. `conda create -n \"otto\" python==3.7`, then activate the environment `conda activate otto`\n",
    "1. Create sample_list\n",
    "... sample_list = [Sample1, Sample2, ...]\n",
    "...... Sample 1 = {'peg': c in g/L, ' bsa': c in g/L, 'kcl': c in mM, ...}\n",
    "\n",
    "2. Make a run.csv -> labware_configration.csv\n",
    "... Configure the positions of well plates, tips, and falcon tubes (stock solutions).\n",
    "\n",
    "3. Sync the folder to the server (Otto)\n",
    "... sync run.csv, samples/*, runfiles/run_file*\n",
    "... Specify the starting tip location.\n",
    "\n",
    "4. Run the following command on the terminal. (Optional but recommended)\n",
    "`opentrons_simulate SamplePrepCode_Fast.py > out.txt`\n",
    "... out.txt contains all print statements in the code.\n",
    "... This creates `SamplePrepSummary_DATE.csv` which lists the well plate numbers, etc.\n",
    "\n",
    "5. Run SamplePrepCode_Fast.py (-> SamplePrepCode.py)\n",
    "... Use the `nohup` command. (recommended)\n",
    "... This step initiates the sample preparation. \n",
    "... The following command must be run on Terminal after connecting to Otto via ssh.\n",
    "\n",
    "`nohup opentrons_execute /var/lib/jupyter/notebooks/otto_sample_prep/SamplePrepCode_Fast.py &`\n",
    "\n",
    "... For Mac/Linux users, you can run this code from the notebook.\n",
    "\n",
    "...... When a sample is prepared, a sample_list is moved to `prepared_samples`\n",
    "\n",
    "6. Sync the Otto using scp (Necessary if we didn't run `opentrons_simulate SamplePrepCode_Fast.py > out.txt`.) \n",
    "\n",
    "... Grab `prepared_samples`,  `SamplePrepSummary_DATE.csv`, `out.txt`. \n"
   ]
  },
  {
   "cell_type": "markdown",
   "metadata": {},
   "source": [
    "# Import Modules"
   ]
  },
  {
   "cell_type": "code",
   "execution_count": 2,
   "metadata": {
    "ExecuteTime": {
     "end_time": "2024-03-21T20:00:58.332817Z",
     "start_time": "2024-03-21T20:00:57.999469Z"
    }
   },
   "outputs": [
    {
     "name": "stdout",
     "output_type": "stream",
     "text": [
      "Recipe for 2000 mM ATP solution:\n",
      "... Mix 2.52021 g = 2520.210 mg in  15.000 mL of solvent.\n"
     ]
    },
    {
     "data": {
      "text/plain": [
       "2.52021"
      ]
     },
     "execution_count": 2,
     "metadata": {},
     "output_type": "execute_result"
    }
   ],
   "source": [
    "import definitions as otto # definitions is not an informative name. Also, def is a built-in word in Python. Avoid.\n",
    "import sys\n",
    "import opentrons\n",
    "import ast\n",
    "import os\n",
    "from pathlib import Path\n",
    "\n",
    "import softliv.softliv.labquest as lab\n",
    "lab.make_solution(15, 2000, 84.007)"
   ]
  },
  {
   "cell_type": "markdown",
   "metadata": {
    "ExecuteTime": {
     "end_time": "2024-03-21T13:14:28.086700Z",
     "start_time": "2024-03-21T13:14:28.083931Z"
    }
   },
   "source": [
    "# Define Functions"
   ]
  },
  {
   "cell_type": "code",
   "execution_count": null,
   "metadata": {
    "code_folding": [
     0
    ]
   },
   "outputs": [],
   "source": [
    "def convert_sample_lists_to_df(vol_sample_per_dil, Num_dilutions, dilution_factor, sample_lists):\n",
    "    data_list = []\n",
    "    sample_number = 0\n",
    "    sample_id_number = 0\n",
    "    for sample_list in sample_lists:\n",
    "        with open(master_dir / 'prepared_samples' / sample_list, 'rb') as f:\n",
    "            metadata_sample, chemical_viscosity, samples = pickle.load(f)\n",
    "        for ind,sample in enumerate(samples):\n",
    "            sample_id_number += 1          # remove this later\n",
    "            for i in range(Num_dilutions):\n",
    "                sample_number += 1\n",
    "                dil_well_loc = generate_unique_well_position(sample_number=sample_number,method='all',starts_with='F1')\n",
    "                data_list.append([sample_id_number,sample.plate_number,sample.well, sample.sample_volume,sample.composition,dil_well_loc,dilution_factor,Num_dilutions,vol_sample_per_dil,(vol_sample_per_dil-1)*dilution_factor])   \n",
    "        \n",
    "    df = pd.DataFrame(data_list,columns=['Sample_ID','Plate','Well','Sample Volume','Composition','Dilution_Well','Dilution_Factor','Num_Dilutions','SampleVolumeDilution','WaterVolumeDilution'])\n",
    "    return df\n",
    "            "
   ]
  },
  {
   "cell_type": "markdown",
   "metadata": {},
   "source": [
    "# File Architecture"
   ]
  },
  {
   "cell_type": "markdown",
   "metadata": {},
   "source": [
    "\"Firstly set the directory you want to work in - this is the folder where all the code will be saved.\"\n",
    "\n",
    "**Takumi: You treat the working directory and the module directory the same. That is not recommended. If you do, you MUST have a feature to keep the code directory clean. **"
   ]
  },
  {
   "cell_type": "code",
   "execution_count": 25,
   "metadata": {
    "ExecuteTime": {
     "end_time": "2024-03-21T13:16:23.367625Z",
     "start_time": "2024-03-21T13:16:23.365117Z"
    }
   },
   "outputs": [],
   "source": [
    "# Working directory\n",
    "# src = current_directory = os.getcwd()\n",
    "src = current_directory = \"~/Desktop\"\n",
    "\n",
    "# Directory on Otto\n",
    "dst = 'root@10.49.35.97:/var/lib/jupyter/notebooks/'\n",
    "directory_name = os.path.basename(src)"
   ]
  },
  {
   "cell_type": "code",
   "execution_count": null,
   "metadata": {},
   "outputs": [],
   "source": [
    "# STEPS"
   ]
  },
  {
   "cell_type": "markdown",
   "metadata": {},
   "source": [
    "# STEP 1: Insert info. about stock solutions"
   ]
  },
  {
   "cell_type": "markdown",
   "metadata": {},
   "source": [
    "Firstly set the directory you want to work in - this is the folder where all the code will be saved."
   ]
  },
  {
   "cell_type": "markdown",
   "metadata": {},
   "source": [
    "Before creating Sample lists you must confirm that the chemical you want to add is in the list of chemicals in 'definitions.py'. If is not just add another line to it. The key is the name of the chemical you want to include. The value is a string that can either be 'water', 'bsa', or 'peg' and the idea is that these are the three kinds of viscosities you might encounter - 'water' for non-viscous samples, 'bsa' for intermediate viscosities and 'peg' for super viscous samples."
   ]
  },
  {
   "cell_type": "markdown",
   "metadata": {},
   "source": [
    "Also create the stock dictionary for all the stock concentrations you intend to use for this sample prep - with the exception of BSA and PEG everything else is in mM"
   ]
  },
  {
   "cell_type": "code",
   "execution_count": 3,
   "metadata": {
    "ExecuteTime": {
     "end_time": "2024-03-20T21:52:45.655291Z",
     "start_time": "2024-03-20T21:52:45.651707Z"
    }
   },
   "outputs": [],
   "source": [
    "# STOCK STOLUTIONS\n",
    "stock_dict = {'bsa': 374,       # g/L\n",
    "              'peg': 600,       # g/L\n",
    "              'kp': 2000,        # mM\n",
    "              'kcl': 4000,\n",
    "#               'nh3':500,\n",
    "#               'hco3':1000,\n",
    "              'water':0,\n",
    "              'nacl': 2000,\n",
    "              'nascn': 2000,\n",
    "              'mgcl2': 2000,\n",
    "              'cacl2': 2000,\n",
    "              'proline':2700,\n",
    "              'lysine':1000,\n",
    "#               'glut_acid':2000,\n",
    "#               'adenine':1000,\n",
    "              'glycine':1000,\n",
    "              'glucose':1000,\n",
    "              'nh4cl': 500,\n",
    "              'nh4oh': 1000,\n",
    "#               'h3po3':1000,\n",
    "#               'hexanediol':1000,\n",
    "#               'glucose':1000\n",
    "            }\n",
    "\n",
    "# Define \n",
    "chemical_list_and_relviscosity = {}\n",
    "for key in stock_dict:\n",
    "    chemical_list_and_relviscosity[key] = 'water'\n",
    "chemical_list_and_relviscosity['bsa'] = 'bsa'   \n",
    "chemical_list_and_relviscosity['peg'] = 'peg'\n"
   ]
  },
  {
   "cell_type": "markdown",
   "metadata": {},
   "source": [
    "# Creating Sample Lists for Otto Process "
   ]
  },
  {
   "cell_type": "markdown",
   "metadata": {},
   "source": [
    "1. Add samples to the sample list either manually (if the sample list is simple with only one varying concentration and other chemicals are kept fixed) or using csv file. For csv file"
   ]
  },
  {
   "cell_type": "code",
   "execution_count": 79,
   "metadata": {
    "ExecuteTime": {
     "end_time": "2024-03-17T01:37:43.178141Z",
     "start_time": "2024-03-17T01:37:03.136016Z"
    },
    "scrolled": true
   },
   "outputs": [
    {
     "name": "stdout",
     "output_type": "stream",
     "text": [
      "list of chemicals: dict_keys(['bsa', 'peg', 'kp', 'kcl', 'water', 'nacl', 'nascn', 'mgcl2', 'cacl2', 'proline', 'lysine', 'glycine', 'glucose', 'nh4cl', 'nh4oh'])\n",
      "make default sample containing bsa,peg,kp,kcl? (y/n)y\n",
      "chemical for variation {}lysine\n",
      "set conc of bsa in mM or g/L (for bsa and peg)46.6\n",
      "set conc of peg in mM or g/L (for bsa and peg)226\n",
      "set conc of kp in mM or g/L (for bsa and peg)100\n",
      "set conc of kcl in mM or g/L (for bsa and peg)200\n",
      "list of concs for variation of lysine in mM or g/L (for bsa and peg)0 50 100 150 200 250 300 400 500 600 700\n",
      "max conc allowed is [390.19047619047615]\n",
      "list of concs for variation of lysine in mM or g/L (for bsa and peg)0 50 100 150 200 250 300 350\n",
      "list the order of mixing the chemicals in your sample - ['bsa', 'peg', 'kp', 'kcl', 'lysine', 'water']water kp kcl lysine bsa peg\n",
      "do you want to make background samples? (y/n)n\n",
      "{'bsa': 46.6, 'peg': 226.0, 'kp': 100.0, 'kcl': 200.0, 'lysine': 0.0, 'water': 0}\n",
      "{'bsa': 46.6, 'peg': 226.0, 'kp': 100.0, 'kcl': 200.0, 'lysine': 50.0, 'water': 0}\n",
      "{'bsa': 46.6, 'peg': 226.0, 'kp': 100.0, 'kcl': 200.0, 'lysine': 100.0, 'water': 0}\n",
      "{'bsa': 46.6, 'peg': 226.0, 'kp': 100.0, 'kcl': 200.0, 'lysine': 150.0, 'water': 0}\n",
      "{'bsa': 46.6, 'peg': 226.0, 'kp': 100.0, 'kcl': 200.0, 'lysine': 200.0, 'water': 0}\n",
      "{'bsa': 46.6, 'peg': 226.0, 'kp': 100.0, 'kcl': 200.0, 'lysine': 250.0, 'water': 0}\n",
      "{'bsa': 46.6, 'peg': 226.0, 'kp': 100.0, 'kcl': 200.0, 'lysine': 300.0, 'water': 0}\n",
      "{'bsa': 46.6, 'peg': 226.0, 'kp': 100.0, 'kcl': 200.0, 'lysine': 350.0, 'water': 0}\n",
      "order of mixing: ['water', 'kp', 'kcl', 'lysine', 'bsa', 'peg']\n",
      "confirm sample list? (y/n)y\n",
      "what do you want to call the sample list?lysine variation\n",
      "any comments on the samples?\n",
      "sample list saved as sample_list-2024-03-16__21-37-43.pkl\n"
     ]
    }
   ],
   "source": [
    "# for manual addition of samples\n",
    "otto.make_sample_list_manually(chemical_list_and_relviscosity, stock_dict=stock_dict)"
   ]
  },
  {
   "cell_type": "code",
   "execution_count": 68,
   "metadata": {
    "ExecuteTime": {
     "end_time": "2024-03-17T01:25:39.241728Z",
     "start_time": "2024-03-17T01:25:39.239028Z"
    }
   },
   "outputs": [
    {
     "ename": "SyntaxError",
     "evalue": "positional argument follows keyword argument (2993090432.py, line 1)",
     "output_type": "error",
     "traceback": [
      "\u001b[0;36m  File \u001b[0;32m\"/var/folders/fd/rtx3wffn32q9kvg36j597y7c0000gn/T/ipykernel_22578/2993090432.py\"\u001b[0;36m, line \u001b[0;32m1\u001b[0m\n\u001b[0;31m    make_sample_list_csv(filename='',chemical_list_and_relviscosity)              # for automatic addition of samples from csv file\u001b[0m\n\u001b[0m                                                                   ^\u001b[0m\n\u001b[0;31mSyntaxError\u001b[0m\u001b[0;31m:\u001b[0m positional argument follows keyword argument\n"
     ]
    }
   ],
   "source": [
    "# # under construction\n",
    "# otto.make_sample_list_csv(filename='',chemical_list_and_relviscosity)              # for automatic addition of samples from csv file\n",
    "\n"
   ]
  },
  {
   "cell_type": "markdown",
   "metadata": {},
   "source": [
    "**Check the list of samples `sample_list` in `/samples`\n",
    "... Each sample is numbered."
   ]
  },
  {
   "cell_type": "code",
   "execution_count": 46,
   "metadata": {
    "ExecuteTime": {
     "end_time": "2024-03-19T01:02:28.257554Z",
     "start_time": "2024-03-19T01:02:28.243499Z"
    },
    "scrolled": true
   },
   "outputs": [
    {
     "name": "stdout",
     "output_type": "stream",
     "text": [
      "Sample list 0:\n",
      "sample list: proline variation \n",
      "time: 2024-03-16 21:16:06\n",
      "comments: \n",
      "{'bsa': 46.6, 'peg': 226.0, 'kp': 100.0, 'kcl': 200.0, 'proline': 0.0, 'water': 0}\n",
      "{'bsa': 46.6, 'peg': 226.0, 'kp': 100.0, 'kcl': 200.0, 'proline': 50.0, 'water': 0}\n",
      "{'bsa': 46.6, 'peg': 226.0, 'kp': 100.0, 'kcl': 200.0, 'proline': 100.0, 'water': 0}\n",
      "{'bsa': 46.6, 'peg': 226.0, 'kp': 100.0, 'kcl': 200.0, 'proline': 150.0, 'water': 0}\n",
      "{'bsa': 46.6, 'peg': 226.0, 'kp': 100.0, 'kcl': 200.0, 'proline': 200.0, 'water': 0}\n",
      "{'bsa': 46.6, 'peg': 226.0, 'kp': 100.0, 'kcl': 200.0, 'proline': 300.0, 'water': 0}\n",
      "{'bsa': 46.6, 'peg': 226.0, 'kp': 100.0, 'kcl': 200.0, 'proline': 400.0, 'water': 0}\n",
      "{'bsa': 46.6, 'peg': 226.0, 'kp': 100.0, 'kcl': 200.0, 'proline': 500.0, 'water': 0}\n",
      "{'bsa': 46.6, 'peg': 226.0, 'kp': 100.0, 'kcl': 200.0, 'proline': 600.0, 'water': 0}\n",
      "{'bsa': 46.6, 'peg': 226.0, 'kp': 100.0, 'kcl': 200.0, 'proline': 700.0, 'water': 0}\n",
      "{'bsa': 46.6, 'peg': 226.0, 'kp': 100.0, 'kcl': 200.0, 'proline': 800.0, 'water': 0}\n",
      "{'bsa': 46.6, 'peg': 226.0, 'kp': 100.0, 'kcl': 200.0, 'proline': 900.0, 'water': 0}\n",
      "{'bsa': 46.6, 'peg': 226.0, 'kp': 100.0, 'kcl': 200.0, 'proline': 1000.0, 'water': 0}\n",
      "order of mixing: ['water', 'kp', 'kcl', 'proline', 'bsa', 'peg']\n",
      "\n",
      "\n",
      "\n",
      "Sample list 1:\n",
      "sample list: glycine variation\n",
      "time: 2024-03-16 21:19:42\n",
      "comments: \n",
      "{'bsa': 46.6, 'peg': 226.0, 'kp': 100.0, 'kcl': 200.0, 'glycine': 0.0, 'water': 0}\n",
      "{'bsa': 46.6, 'peg': 226.0, 'kp': 100.0, 'kcl': 200.0, 'glycine': 50.0, 'water': 0}\n",
      "{'bsa': 46.6, 'peg': 226.0, 'kp': 100.0, 'kcl': 200.0, 'glycine': 100.0, 'water': 0}\n",
      "{'bsa': 46.6, 'peg': 226.0, 'kp': 100.0, 'kcl': 200.0, 'glycine': 150.0, 'water': 0}\n",
      "{'bsa': 46.6, 'peg': 226.0, 'kp': 100.0, 'kcl': 200.0, 'glycine': 200.0, 'water': 0}\n",
      "{'bsa': 46.6, 'peg': 226.0, 'kp': 100.0, 'kcl': 200.0, 'glycine': 250.0, 'water': 0}\n",
      "{'bsa': 46.6, 'peg': 226.0, 'kp': 100.0, 'kcl': 200.0, 'glycine': 300.0, 'water': 0}\n",
      "{'bsa': 46.6, 'peg': 226.0, 'kp': 100.0, 'kcl': 200.0, 'glycine': 350.0, 'water': 0}\n",
      "order of mixing: ['water', 'kp', 'kcl', 'glycine', 'bsa', 'peg']\n",
      "\n",
      "\n",
      "\n",
      "Sample list 2:\n",
      "sample list: nh4oh variation\n",
      "time: 2024-03-16 21:21:55\n",
      "comments: \n",
      "{'bsa': 46.6, 'peg': 226.0, 'kp': 100.0, 'kcl': 200.0, 'nh4oh': 0.0, 'water': 0}\n",
      "{'bsa': 46.6, 'peg': 226.0, 'kp': 100.0, 'kcl': 200.0, 'nh4oh': 50.0, 'water': 0}\n",
      "{'bsa': 46.6, 'peg': 226.0, 'kp': 100.0, 'kcl': 200.0, 'nh4oh': 100.0, 'water': 0}\n",
      "{'bsa': 46.6, 'peg': 226.0, 'kp': 100.0, 'kcl': 200.0, 'nh4oh': 150.0, 'water': 0}\n",
      "{'bsa': 46.6, 'peg': 226.0, 'kp': 100.0, 'kcl': 200.0, 'nh4oh': 200.0, 'water': 0}\n",
      "{'bsa': 46.6, 'peg': 226.0, 'kp': 100.0, 'kcl': 200.0, 'nh4oh': 250.0, 'water': 0}\n",
      "{'bsa': 46.6, 'peg': 226.0, 'kp': 100.0, 'kcl': 200.0, 'nh4oh': 300.0, 'water': 0}\n",
      "{'bsa': 46.6, 'peg': 226.0, 'kp': 100.0, 'kcl': 200.0, 'nh4oh': 350.0, 'water': 0}\n",
      "order of mixing: ['water', 'kp', 'kcl', 'nh4oh', 'bsa', 'peg']\n",
      "\n",
      "\n",
      "\n",
      "Sample list 3:\n",
      "sample list: cacl2 variation\n",
      "time: 2024-03-16 21:22:53\n",
      "comments: \n",
      "{'bsa': 46.6, 'peg': 226.0, 'kp': 100.0, 'kcl': 200.0, 'cacl2': 0.0, 'water': 0}\n",
      "{'bsa': 46.6, 'peg': 226.0, 'kp': 100.0, 'kcl': 200.0, 'cacl2': 50.0, 'water': 0}\n",
      "{'bsa': 46.6, 'peg': 226.0, 'kp': 100.0, 'kcl': 200.0, 'cacl2': 100.0, 'water': 0}\n",
      "{'bsa': 46.6, 'peg': 226.0, 'kp': 100.0, 'kcl': 200.0, 'cacl2': 150.0, 'water': 0}\n",
      "{'bsa': 46.6, 'peg': 226.0, 'kp': 100.0, 'kcl': 200.0, 'cacl2': 200.0, 'water': 0}\n",
      "{'bsa': 46.6, 'peg': 226.0, 'kp': 100.0, 'kcl': 200.0, 'cacl2': 250.0, 'water': 0}\n",
      "{'bsa': 46.6, 'peg': 226.0, 'kp': 100.0, 'kcl': 200.0, 'cacl2': 300.0, 'water': 0}\n",
      "{'bsa': 46.6, 'peg': 226.0, 'kp': 100.0, 'kcl': 200.0, 'cacl2': 400.0, 'water': 0}\n",
      "{'bsa': 46.6, 'peg': 226.0, 'kp': 100.0, 'kcl': 200.0, 'cacl2': 500.0, 'water': 0}\n",
      "{'bsa': 46.6, 'peg': 226.0, 'kp': 100.0, 'kcl': 200.0, 'cacl2': 600.0, 'water': 0}\n",
      "{'bsa': 46.6, 'peg': 226.0, 'kp': 100.0, 'kcl': 200.0, 'cacl2': 700.0, 'water': 0}\n",
      "order of mixing: ['water', 'kp', 'kcl', 'cacl2', 'bsa', 'peg']\n",
      "\n",
      "\n",
      "\n",
      "Sample list 4:\n",
      "sample list: mgcl2 variation\n",
      "time: 2024-03-16 21:23:41\n",
      "comments: \n",
      "{'bsa': 46.6, 'peg': 226.0, 'kp': 100.0, 'kcl': 200.0, 'mgcl2': 0.0, 'water': 0}\n",
      "{'bsa': 46.6, 'peg': 226.0, 'kp': 100.0, 'kcl': 200.0, 'mgcl2': 50.0, 'water': 0}\n",
      "{'bsa': 46.6, 'peg': 226.0, 'kp': 100.0, 'kcl': 200.0, 'mgcl2': 100.0, 'water': 0}\n",
      "{'bsa': 46.6, 'peg': 226.0, 'kp': 100.0, 'kcl': 200.0, 'mgcl2': 150.0, 'water': 0}\n",
      "{'bsa': 46.6, 'peg': 226.0, 'kp': 100.0, 'kcl': 200.0, 'mgcl2': 200.0, 'water': 0}\n",
      "{'bsa': 46.6, 'peg': 226.0, 'kp': 100.0, 'kcl': 200.0, 'mgcl2': 250.0, 'water': 0}\n",
      "{'bsa': 46.6, 'peg': 226.0, 'kp': 100.0, 'kcl': 200.0, 'mgcl2': 300.0, 'water': 0}\n",
      "{'bsa': 46.6, 'peg': 226.0, 'kp': 100.0, 'kcl': 200.0, 'mgcl2': 400.0, 'water': 0}\n",
      "{'bsa': 46.6, 'peg': 226.0, 'kp': 100.0, 'kcl': 200.0, 'mgcl2': 500.0, 'water': 0}\n",
      "{'bsa': 46.6, 'peg': 226.0, 'kp': 100.0, 'kcl': 200.0, 'mgcl2': 600.0, 'water': 0}\n",
      "{'bsa': 46.6, 'peg': 226.0, 'kp': 100.0, 'kcl': 200.0, 'mgcl2': 700.0, 'water': 0}\n",
      "order of mixing: ['water', 'kp', 'kcl', 'mgcl2', 'bsa', 'peg']\n",
      "\n",
      "\n",
      "\n",
      "Sample list 5:\n",
      "sample list: nh4cl variation\n",
      "time: 2024-03-16 21:25:15\n",
      "comments: \n",
      "{'bsa': 46.6, 'peg': 226.0, 'kp': 100.0, 'kcl': 200.0, 'nh4cl': 0.0, 'water': 0}\n",
      "{'bsa': 46.6, 'peg': 226.0, 'kp': 100.0, 'kcl': 200.0, 'nh4cl': 25.0, 'water': 0}\n",
      "{'bsa': 46.6, 'peg': 226.0, 'kp': 100.0, 'kcl': 200.0, 'nh4cl': 50.0, 'water': 0}\n",
      "{'bsa': 46.6, 'peg': 226.0, 'kp': 100.0, 'kcl': 200.0, 'nh4cl': 75.0, 'water': 0}\n",
      "{'bsa': 46.6, 'peg': 226.0, 'kp': 100.0, 'kcl': 200.0, 'nh4cl': 100.0, 'water': 0}\n",
      "{'bsa': 46.6, 'peg': 226.0, 'kp': 100.0, 'kcl': 200.0, 'nh4cl': 125.0, 'water': 0}\n",
      "{'bsa': 46.6, 'peg': 226.0, 'kp': 100.0, 'kcl': 200.0, 'nh4cl': 150.0, 'water': 0}\n",
      "order of mixing: ['water', 'kp', 'kcl', 'nh4cl', 'bsa', 'peg']\n",
      "\n",
      "\n",
      "\n",
      "Sample list 6:\n",
      "sample list: lysine variation\n",
      "time: 2024-03-16 21:37:43\n",
      "comments: \n",
      "{'bsa': 46.6, 'peg': 226.0, 'kp': 100.0, 'kcl': 200.0, 'lysine': 0.0, 'water': 0}\n",
      "{'bsa': 46.6, 'peg': 226.0, 'kp': 100.0, 'kcl': 200.0, 'lysine': 50.0, 'water': 0}\n",
      "{'bsa': 46.6, 'peg': 226.0, 'kp': 100.0, 'kcl': 200.0, 'lysine': 100.0, 'water': 0}\n",
      "{'bsa': 46.6, 'peg': 226.0, 'kp': 100.0, 'kcl': 200.0, 'lysine': 150.0, 'water': 0}\n",
      "{'bsa': 46.6, 'peg': 226.0, 'kp': 100.0, 'kcl': 200.0, 'lysine': 200.0, 'water': 0}\n",
      "{'bsa': 46.6, 'peg': 226.0, 'kp': 100.0, 'kcl': 200.0, 'lysine': 250.0, 'water': 0}\n",
      "{'bsa': 46.6, 'peg': 226.0, 'kp': 100.0, 'kcl': 200.0, 'lysine': 300.0, 'water': 0}\n",
      "{'bsa': 46.6, 'peg': 226.0, 'kp': 100.0, 'kcl': 200.0, 'lysine': 350.0, 'water': 0}\n",
      "order of mixing: ['water', 'kp', 'kcl', 'lysine', 'bsa', 'peg']\n",
      "\n",
      "\n",
      "\n"
     ]
    }
   ],
   "source": [
    "from importlib import reload\n",
    "reload(otto)\n",
    "otto.view_sample_lists()                 # for viewing the sample list\n"
   ]
  },
  {
   "cell_type": "markdown",
   "metadata": {},
   "source": [
    "3. **Estimate requirements for preparing samples** - this will tell you the minimum stock vols, pipette tips and pipettes and plates you need for preparing the samples.\n",
    "    The function takes as input volume of sample, list of sample list numbers you want to run (for eg if you only want to run sample list 0 and 1 (numbers according to what is displayed in view_sample_list - then pass [0,1])) and dictionary of stocks\n",
    "    "
   ]
  },
  {
   "cell_type": "code",
   "execution_count": 55,
   "metadata": {
    "ExecuteTime": {
     "end_time": "2024-03-19T01:11:11.374427Z",
     "start_time": "2024-03-19T01:11:11.355425Z"
    }
   },
   "outputs": [
    {
     "name": "stdout",
     "output_type": "stream",
     "text": [
      "summary of the minimum requirements:\n",
      "number of plates: 1.0\n",
      "pipettes: ['p20', 'p300']\n",
      "tip boxes: [1.0, 2.0]\n",
      "Number of tips used: [2.0, 140.0]\n",
      "minimum stock volumes required:\n",
      "bsa: 4.369816849816851 mL\n",
      "peg: 9.642666666666667 mL\n",
      "kp: 1.28 mL\n",
      "kcl: 1.28 mL\n",
      "water: 4.547516483516485 mL\n",
      "nacl: 0.0 mL\n",
      "nascn: 0.0 mL\n",
      "mgcl2: 0.0 mL\n",
      "cacl2: 0.0 mL\n",
      "proline: 0.0 mL\n",
      "lysine: 0.0 mL\n",
      "glycine: 2.24 mL\n",
      "glucose: 0.0 mL\n",
      "nh4cl: 0.0 mL\n",
      "nh4oh: 2.24 mL\n"
     ]
    }
   ],
   "source": [
    "otto.estimate_requirements(1600, sample_list_nos=[1, 2, 3, 4], stock_dict=stock_dict)       # for estimating the requirements of the samples\n",
    "\n",
    "# Check pipette\n",
    "# Pipette tip types: p20, p300, p1000- Otto has two slots. Their default tip types are p300, p1000.\n",
    "# \n",
    "# 11 stations. - divided into either stock 'cells' or well plates.\n",
    "## Each cell can house 15mL x 6, 50mL x 4 falcon tubes.\n",
    "### A wellplate- 6 x 16 wells\n"
   ]
  },
  {
   "cell_type": "markdown",
   "metadata": {},
   "source": [
    "4. **Create run file for Otto** which will contain all the run information needed for the OT-2\n",
    "This also creates a csv file called 'run.csv' which includes all the information of deck location and stock volumes. It is already pre-filled according to the estimated requirements but can be changed depending on the user's preference\n",
    "Again - the inputs are the same as that for estimate_requirements"
   ]
  },
  {
   "cell_type": "code",
   "execution_count": 3,
   "metadata": {
    "ExecuteTime": {
     "end_time": "2024-03-19T18:37:14.902328Z",
     "start_time": "2024-03-19T18:37:09.644521Z"
    }
   },
   "outputs": [
    {
     "name": "stdout",
     "output_type": "stream",
     "text": [
      "[419. 579. 271.]\n",
      "Enter the chemicals that need not be mixed immediately?kp kcl water\n",
      "run file saved as run_file-2024-03-19__14-37-09.pkl\n"
     ]
    }
   ],
   "source": [
    "otto.create_run_file(1600, sample_list_nos=[1, 2, 3, 4, 6], stock_dict=stock_dict)      # for creating the run file"
   ]
  },
  {
   "cell_type": "markdown",
   "metadata": {},
   "source": [
    "This is the last step for the sample creation - now you only need to set up all the physical requirements for the sample prep and run the code for Otto! "
   ]
  },
  {
   "cell_type": "code",
   "execution_count": 27,
   "metadata": {
    "ExecuteTime": {
     "end_time": "2024-03-21T15:42:01.413668Z",
     "start_time": "2024-03-21T15:42:01.385302Z"
    }
   },
   "outputs": [
    {
     "name": "stderr",
     "output_type": "stream",
     "text": [
      "'open' is not recognized as an internal or external command,\n",
      "operable program or batch file.\n"
     ]
    }
   ],
   "source": [
    "!open run.csv"
   ]
  },
  {
   "cell_type": "markdown",
   "metadata": {},
   "source": [
    "## Running samples for Otto:"
   ]
  },
  {
   "cell_type": "markdown",
   "metadata": {},
   "source": [
    "First, you need to update the run.csv file in the folder with all the stock volumes and the correct deck locations for all the labware you will be using\n",
    "Once you are convinced of that, send all the files to otto's server:"
   ]
  },
  {
   "cell_type": "code",
   "execution_count": 20,
   "metadata": {
    "ExecuteTime": {
     "end_time": "2024-03-19T00:05:36.947176Z",
     "start_time": "2024-03-19T00:05:36.941176Z"
    }
   },
   "outputs": [
    {
     "data": {
      "text/plain": [
       "('C:\\\\Users\\\\tm688\\\\Documents\\\\git\\\\softliv\\\\otto_sample_prep',\n",
       " 'root@10.49.35.97:/var/lib/jupyter/notebooks/')"
      ]
     },
     "execution_count": 20,
     "metadata": {},
     "output_type": "execute_result"
    }
   ],
   "source": [
    "# RUN THIS ON TERMINAL"
   ]
  },
  {
   "cell_type": "code",
   "execution_count": 35,
   "metadata": {
    "ExecuteTime": {
     "end_time": "2024-03-19T00:49:01.387522Z",
     "start_time": "2024-03-19T00:49:01.298010Z"
    }
   },
   "outputs": [
    {
     "name": "stdout",
     "output_type": "stream",
     "text": [
      "Done\n"
     ]
    },
    {
     "name": "stderr",
     "output_type": "stream",
     "text": [
      "unknown option -- O\n",
      "usage: scp [-346ABCpqrTv] [-c cipher] [-F ssh_config] [-i identity_file]\n",
      "            [-J destination] [-l limit] [-o ssh_option] [-P port]\n",
      "            [-S program] source ... target\n"
     ]
    },
    {
     "data": {
      "text/plain": [
       "'otto_sample_prep'"
      ]
     },
     "execution_count": 35,
     "metadata": {},
     "output_type": "execute_result"
    }
   ],
   "source": [
    "# SEND FILES\n",
    "import os\n",
    "src = os.getcwd()\n",
    "dst = 'root@10.49.35.97:/var/lib/jupyter/notebooks/'\n",
    "directory_name = os.path.basename(src)\n",
    "# ot2_ssh_key should be stored in ~/.ssh/ot2_ssh_key (Mac/Linux)\n",
    "#\n",
    "# REMOVE FILES FROM PREVIOUS EXPERIMENTS\n",
    "!ssh -i ~/.ssh/ot2_ssh_key root@10.49.35.97 \"rm -r /var/lib/jupyter/notebooks/{directory_name}\" exit\n",
    "# UPLOAD FILES TO OTTO\n",
    "# MAC/Linux\n",
    "!scp -O -r -i ~/.ssh/ot2_ssh_key {src} {dst}\n",
    "\n",
    "# END A SSH SESSION\n",
    "# !exit\n",
    "\n",
    "# NOTIFY USERS\n",
    "os.system('say Otto has completed the sample preparation.')\n",
    "print('Done')\n",
    "\n",
    "directory_name"
   ]
  },
  {
   "cell_type": "code",
   "execution_count": 36,
   "metadata": {
    "ExecuteTime": {
     "end_time": "2024-03-19T00:49:15.590655Z",
     "start_time": "2024-03-19T00:49:15.138218Z"
    }
   },
   "outputs": [
    {
     "name": "stdout",
     "output_type": "stream",
     "text": [
      "Done\n"
     ]
    },
    {
     "data": {
      "text/plain": [
       "'otto_sample_prep'"
      ]
     },
     "execution_count": 36,
     "metadata": {},
     "output_type": "execute_result"
    }
   ],
   "source": [
    "# Windows\n",
    "# SEND FILES\n",
    "import os\n",
    "src = os.getcwd()\n",
    "dst = 'root@10.49.35.97:/var/lib/jupyter/notebooks/'\n",
    "directory_name = os.path.basename(src)\n",
    "# ot2_ssh_key should be stored in ~/.ssh/ot2_ssh_key (Mac/Linux)\n",
    "#\n",
    "# REMOVE FILES FROM PREVIOUS EXPERIMENTS\n",
    "# !ssh -i ~/.ssh/ot2_ssh_key root@10.49.35.97 \"rm -r /var/lib/jupyter/notebooks/{directory_name}\" \n",
    "# UPLOAD FILES TO OTTO\n",
    "# MAC/Linux\n",
    "!scp -i ~/.ssh/ot2_ssh_key -r {src} {dst}\n",
    "\n",
    "# END A SSH SESSION\n",
    "# !exit\n",
    "\n",
    "# NOTIFY USERS\n",
    "os.system('say Otto is ready to run.')\n",
    "print('Done')\n",
    "\n",
    "directory_name"
   ]
  },
  {
   "cell_type": "code",
   "execution_count": null,
   "metadata": {},
   "outputs": [],
   "source": [
    "# RUN THIS BKG JOB ON TERMINAL\n",
    "ssh -i ~/.ssh/ot2_ssh_key root@10.49.35.97\n",
    "nohup opentrons_execute /var/lib/jupyter/notebooks/otto_sample_prep/SamplePrepCode_Fast.py &"
   ]
  },
  {
   "cell_type": "code",
   "execution_count": 6,
   "metadata": {
    "ExecuteTime": {
     "end_time": "2024-03-21T20:16:03.200553Z",
     "start_time": "2024-03-21T20:15:55.693352Z"
    }
   },
   "outputs": [
    {
     "name": "stderr",
     "output_type": "stream",
     "text": [
      "C:\\Users\\tm688\\.opentrons\\robot_settings.json not found. Loading defaults\n",
      "Deck calibration not found.\n",
      "C:\\Users\\tm688\\.opentrons\\deck_calibration.json not found. Loading defaults\n"
     ]
    }
   ],
   "source": [
    "\n",
    "!opentrons_simulate SamplePrepCode_Fast.py > out.txt\n",
    "\n"
   ]
  },
  {
   "cell_type": "code",
   "execution_count": 4,
   "metadata": {
    "ExecuteTime": {
     "end_time": "2024-03-21T20:09:10.125271Z",
     "start_time": "2024-03-21T20:09:09.911046Z"
    }
   },
   "outputs": [
    {
     "name": "stderr",
     "output_type": "stream",
     "text": [
      "sh: sh -l -c nohup opentrons_simulate /var/lib/jupyter/notebooks/otto_sample_prep/SamplePrepCode_Fast.py &: not found\n"
     ]
    },
    {
     "data": {
      "text/plain": [
       "1"
      ]
     },
     "execution_count": 4,
     "metadata": {},
     "output_type": "execute_result"
    }
   ],
   "source": [
    "# EXECUTE\n",
    "\n",
    "\n",
    "# run the code in the server once all the hardware has been set up\n",
    "# don't use this yet!\n",
    "!opentrons_simulate SamplePrepCode_Fast.py > out.txt\n",
    "# !ssh -i ot2_ssh_key root@10.49.35.97\n",
    "# EXECUTE\n",
    "!ssh -i ~/.ssh/ot2_ssh_key root@10.49.35.97 'sh -l -c \"nohup opentrons_simulate /var/lib/jupyter/notebooks/otto_sample_prep/SamplePrepCode_Fast.py &\"'\n",
    "# RUN THIS BKG JOB ON TERMINAL\n",
    "# nohup opentrons_execute /var/lib/jupyter/notebooks/{directory_name}/SamplePrepCode_Fast.py &\n",
    "\n",
    "os.system('say Otto has completed the sample preparation.')\n",
    "\n",
    "\n",
    "\n"
   ]
  },
  {
   "cell_type": "code",
   "execution_count": 11,
   "metadata": {
    "ExecuteTime": {
     "end_time": "2024-03-20T22:02:00.264597Z",
     "start_time": "2024-03-20T22:02:00.259785Z"
    },
    "scrolled": true
   },
   "outputs": [
    {
     "name": "stdout",
     "output_type": "stream",
     "text": [
      "Sample list 0:\n",
      "sample list: proline variation \n",
      "time: 2024-03-16 21:16:06\n",
      "comments: \n",
      "{'bsa': 46.6, 'peg': 226.0, 'kp': 100.0, 'kcl': 200.0, 'proline': 0.0, 'water': 0}\n",
      "{'bsa': 46.6, 'peg': 226.0, 'kp': 100.0, 'kcl': 200.0, 'proline': 50.0, 'water': 0}\n",
      "{'bsa': 46.6, 'peg': 226.0, 'kp': 100.0, 'kcl': 200.0, 'proline': 100.0, 'water': 0}\n",
      "{'bsa': 46.6, 'peg': 226.0, 'kp': 100.0, 'kcl': 200.0, 'proline': 150.0, 'water': 0}\n",
      "{'bsa': 46.6, 'peg': 226.0, 'kp': 100.0, 'kcl': 200.0, 'proline': 200.0, 'water': 0}\n",
      "{'bsa': 46.6, 'peg': 226.0, 'kp': 100.0, 'kcl': 200.0, 'proline': 300.0, 'water': 0}\n",
      "{'bsa': 46.6, 'peg': 226.0, 'kp': 100.0, 'kcl': 200.0, 'proline': 400.0, 'water': 0}\n",
      "{'bsa': 46.6, 'peg': 226.0, 'kp': 100.0, 'kcl': 200.0, 'proline': 500.0, 'water': 0}\n",
      "{'bsa': 46.6, 'peg': 226.0, 'kp': 100.0, 'kcl': 200.0, 'proline': 600.0, 'water': 0}\n",
      "{'bsa': 46.6, 'peg': 226.0, 'kp': 100.0, 'kcl': 200.0, 'proline': 700.0, 'water': 0}\n",
      "{'bsa': 46.6, 'peg': 226.0, 'kp': 100.0, 'kcl': 200.0, 'proline': 800.0, 'water': 0}\n",
      "{'bsa': 46.6, 'peg': 226.0, 'kp': 100.0, 'kcl': 200.0, 'proline': 900.0, 'water': 0}\n",
      "{'bsa': 46.6, 'peg': 226.0, 'kp': 100.0, 'kcl': 200.0, 'proline': 1000.0, 'water': 0}\n",
      "order of mixing: ['water', 'kp', 'kcl', 'proline', 'bsa', 'peg']\n",
      "\n",
      "\n",
      "\n",
      "Sample list 1:\n",
      "sample list: glycine variation\n",
      "time: 2024-03-16 21:19:42\n",
      "comments: \n",
      "{'bsa': 46.6, 'peg': 226.0, 'kp': 100.0, 'kcl': 200.0, 'glycine': 0.0, 'water': 0}\n",
      "{'bsa': 46.6, 'peg': 226.0, 'kp': 100.0, 'kcl': 200.0, 'glycine': 50.0, 'water': 0}\n",
      "{'bsa': 46.6, 'peg': 226.0, 'kp': 100.0, 'kcl': 200.0, 'glycine': 100.0, 'water': 0}\n",
      "{'bsa': 46.6, 'peg': 226.0, 'kp': 100.0, 'kcl': 200.0, 'glycine': 150.0, 'water': 0}\n",
      "{'bsa': 46.6, 'peg': 226.0, 'kp': 100.0, 'kcl': 200.0, 'glycine': 200.0, 'water': 0}\n",
      "{'bsa': 46.6, 'peg': 226.0, 'kp': 100.0, 'kcl': 200.0, 'glycine': 250.0, 'water': 0}\n",
      "{'bsa': 46.6, 'peg': 226.0, 'kp': 100.0, 'kcl': 200.0, 'glycine': 300.0, 'water': 0}\n",
      "{'bsa': 46.6, 'peg': 226.0, 'kp': 100.0, 'kcl': 200.0, 'glycine': 350.0, 'water': 0}\n",
      "order of mixing: ['water', 'kp', 'kcl', 'glycine', 'bsa', 'peg']\n",
      "\n",
      "\n",
      "\n",
      "Sample list 2:\n",
      "sample list: nh4oh variation\n",
      "time: 2024-03-16 21:21:55\n",
      "comments: \n",
      "{'bsa': 46.6, 'peg': 226.0, 'kp': 100.0, 'kcl': 200.0, 'nh4oh': 0.0, 'water': 0}\n",
      "{'bsa': 46.6, 'peg': 226.0, 'kp': 100.0, 'kcl': 200.0, 'nh4oh': 50.0, 'water': 0}\n",
      "{'bsa': 46.6, 'peg': 226.0, 'kp': 100.0, 'kcl': 200.0, 'nh4oh': 100.0, 'water': 0}\n",
      "{'bsa': 46.6, 'peg': 226.0, 'kp': 100.0, 'kcl': 200.0, 'nh4oh': 150.0, 'water': 0}\n",
      "{'bsa': 46.6, 'peg': 226.0, 'kp': 100.0, 'kcl': 200.0, 'nh4oh': 200.0, 'water': 0}\n",
      "{'bsa': 46.6, 'peg': 226.0, 'kp': 100.0, 'kcl': 200.0, 'nh4oh': 250.0, 'water': 0}\n",
      "{'bsa': 46.6, 'peg': 226.0, 'kp': 100.0, 'kcl': 200.0, 'nh4oh': 300.0, 'water': 0}\n",
      "{'bsa': 46.6, 'peg': 226.0, 'kp': 100.0, 'kcl': 200.0, 'nh4oh': 350.0, 'water': 0}\n",
      "order of mixing: ['water', 'kp', 'kcl', 'nh4oh', 'bsa', 'peg']\n",
      "\n",
      "\n",
      "\n",
      "Sample list 3:\n",
      "sample list: cacl2 variation\n",
      "time: 2024-03-16 21:22:53\n",
      "comments: \n",
      "{'bsa': 46.6, 'peg': 226.0, 'kp': 100.0, 'kcl': 200.0, 'cacl2': 0.0, 'water': 0}\n",
      "{'bsa': 46.6, 'peg': 226.0, 'kp': 100.0, 'kcl': 200.0, 'cacl2': 50.0, 'water': 0}\n",
      "{'bsa': 46.6, 'peg': 226.0, 'kp': 100.0, 'kcl': 200.0, 'cacl2': 100.0, 'water': 0}\n",
      "{'bsa': 46.6, 'peg': 226.0, 'kp': 100.0, 'kcl': 200.0, 'cacl2': 150.0, 'water': 0}\n",
      "{'bsa': 46.6, 'peg': 226.0, 'kp': 100.0, 'kcl': 200.0, 'cacl2': 200.0, 'water': 0}\n",
      "{'bsa': 46.6, 'peg': 226.0, 'kp': 100.0, 'kcl': 200.0, 'cacl2': 250.0, 'water': 0}\n",
      "{'bsa': 46.6, 'peg': 226.0, 'kp': 100.0, 'kcl': 200.0, 'cacl2': 300.0, 'water': 0}\n",
      "{'bsa': 46.6, 'peg': 226.0, 'kp': 100.0, 'kcl': 200.0, 'cacl2': 400.0, 'water': 0}\n",
      "{'bsa': 46.6, 'peg': 226.0, 'kp': 100.0, 'kcl': 200.0, 'cacl2': 500.0, 'water': 0}\n",
      "{'bsa': 46.6, 'peg': 226.0, 'kp': 100.0, 'kcl': 200.0, 'cacl2': 600.0, 'water': 0}\n",
      "{'bsa': 46.6, 'peg': 226.0, 'kp': 100.0, 'kcl': 200.0, 'cacl2': 700.0, 'water': 0}\n",
      "order of mixing: ['water', 'kp', 'kcl', 'cacl2', 'bsa', 'peg']\n",
      "\n",
      "\n",
      "\n",
      "Sample list 4:\n",
      "sample list: mgcl2 variation\n",
      "time: 2024-03-16 21:23:41\n",
      "comments: \n",
      "{'bsa': 46.6, 'peg': 226.0, 'kp': 100.0, 'kcl': 200.0, 'mgcl2': 0.0, 'water': 0}\n",
      "{'bsa': 46.6, 'peg': 226.0, 'kp': 100.0, 'kcl': 200.0, 'mgcl2': 50.0, 'water': 0}\n",
      "{'bsa': 46.6, 'peg': 226.0, 'kp': 100.0, 'kcl': 200.0, 'mgcl2': 100.0, 'water': 0}\n",
      "{'bsa': 46.6, 'peg': 226.0, 'kp': 100.0, 'kcl': 200.0, 'mgcl2': 150.0, 'water': 0}\n",
      "{'bsa': 46.6, 'peg': 226.0, 'kp': 100.0, 'kcl': 200.0, 'mgcl2': 200.0, 'water': 0}\n",
      "{'bsa': 46.6, 'peg': 226.0, 'kp': 100.0, 'kcl': 200.0, 'mgcl2': 250.0, 'water': 0}\n",
      "{'bsa': 46.6, 'peg': 226.0, 'kp': 100.0, 'kcl': 200.0, 'mgcl2': 300.0, 'water': 0}\n",
      "{'bsa': 46.6, 'peg': 226.0, 'kp': 100.0, 'kcl': 200.0, 'mgcl2': 400.0, 'water': 0}\n",
      "{'bsa': 46.6, 'peg': 226.0, 'kp': 100.0, 'kcl': 200.0, 'mgcl2': 500.0, 'water': 0}\n",
      "{'bsa': 46.6, 'peg': 226.0, 'kp': 100.0, 'kcl': 200.0, 'mgcl2': 600.0, 'water': 0}\n",
      "{'bsa': 46.6, 'peg': 226.0, 'kp': 100.0, 'kcl': 200.0, 'mgcl2': 700.0, 'water': 0}\n",
      "order of mixing: ['water', 'kp', 'kcl', 'mgcl2', 'bsa', 'peg']\n",
      "\n",
      "\n",
      "\n",
      "Sample list 5:\n",
      "sample list: nh4cl variation\n",
      "time: 2024-03-16 21:25:15\n",
      "comments: \n",
      "{'bsa': 46.6, 'peg': 226.0, 'kp': 100.0, 'kcl': 200.0, 'nh4cl': 0.0, 'water': 0}\n",
      "{'bsa': 46.6, 'peg': 226.0, 'kp': 100.0, 'kcl': 200.0, 'nh4cl': 25.0, 'water': 0}\n",
      "{'bsa': 46.6, 'peg': 226.0, 'kp': 100.0, 'kcl': 200.0, 'nh4cl': 50.0, 'water': 0}\n",
      "{'bsa': 46.6, 'peg': 226.0, 'kp': 100.0, 'kcl': 200.0, 'nh4cl': 75.0, 'water': 0}\n",
      "{'bsa': 46.6, 'peg': 226.0, 'kp': 100.0, 'kcl': 200.0, 'nh4cl': 100.0, 'water': 0}\n",
      "{'bsa': 46.6, 'peg': 226.0, 'kp': 100.0, 'kcl': 200.0, 'nh4cl': 125.0, 'water': 0}\n",
      "{'bsa': 46.6, 'peg': 226.0, 'kp': 100.0, 'kcl': 200.0, 'nh4cl': 150.0, 'water': 0}\n",
      "order of mixing: ['water', 'kp', 'kcl', 'nh4cl', 'bsa', 'peg']\n",
      "\n",
      "\n",
      "\n",
      "Sample list 6:\n",
      "sample list: lysine variation\n",
      "time: 2024-03-16 21:37:43\n",
      "comments: \n",
      "{'bsa': 46.6, 'peg': 226.0, 'kp': 100.0, 'kcl': 200.0, 'lysine': 0.0, 'water': 0}\n",
      "{'bsa': 46.6, 'peg': 226.0, 'kp': 100.0, 'kcl': 200.0, 'lysine': 50.0, 'water': 0}\n",
      "{'bsa': 46.6, 'peg': 226.0, 'kp': 100.0, 'kcl': 200.0, 'lysine': 100.0, 'water': 0}\n",
      "{'bsa': 46.6, 'peg': 226.0, 'kp': 100.0, 'kcl': 200.0, 'lysine': 150.0, 'water': 0}\n",
      "{'bsa': 46.6, 'peg': 226.0, 'kp': 100.0, 'kcl': 200.0, 'lysine': 200.0, 'water': 0}\n",
      "{'bsa': 46.6, 'peg': 226.0, 'kp': 100.0, 'kcl': 200.0, 'lysine': 250.0, 'water': 0}\n",
      "{'bsa': 46.6, 'peg': 226.0, 'kp': 100.0, 'kcl': 200.0, 'lysine': 300.0, 'water': 0}\n",
      "{'bsa': 46.6, 'peg': 226.0, 'kp': 100.0, 'kcl': 200.0, 'lysine': 350.0, 'water': 0}\n",
      "order of mixing: ['water', 'kp', 'kcl', 'lysine', 'bsa', 'peg']\n",
      "\n",
      "\n",
      "\n"
     ]
    }
   ],
   "source": [
    "otto.view_sample_lists()"
   ]
  },
  {
   "cell_type": "code",
   "execution_count": 10,
   "metadata": {
    "ExecuteTime": {
     "end_time": "2024-03-20T22:01:45.084879Z",
     "start_time": "2024-03-20T22:01:44.691655Z"
    },
    "code_folding": []
   },
   "outputs": [],
   "source": [
    "# Retrieve the summary file once the sample prep is done:\n",
    "# Kaarthik's original code (TM: This does not look right)\n",
    "## Mac/Linux\n",
    "# !scp -O -r -i ~/.ssh/ot2_ssh_key root@10.49.35.97:/var/lib/jupyter/notebooks/{directory_name}/prepared_samples {current_directory}\n",
    "## Windows\n",
    "src = 'root@10.49.35.97:/var/lib/jupyter/notebooks/otto_sample_prep/prepared_samples'\n",
    "!scp -i ~/.ssh/ot2_ssh_key -r {src} {current_directory}"
   ]
  },
  {
   "cell_type": "markdown",
   "metadata": {},
   "source": [
    "# Seperating dilute from dense phase and performing dilutions on the dilute phase:"
   ]
  },
  {
   "cell_type": "code",
   "execution_count": 22,
   "metadata": {
    "ExecuteTime": {
     "end_time": "2024-03-21T13:11:21.802167Z",
     "start_time": "2024-03-21T13:11:21.798724Z"
    }
   },
   "outputs": [
    {
     "name": "stdout",
     "output_type": "stream",
     "text": [
      "Sample list 0:\n",
      "sample list: glycine variation\n",
      "time: 2024-03-16 21:19:42\n",
      "comments: \n",
      "{'bsa': 46.6, 'peg': 226.0, 'kp': 100.0, 'kcl': 200.0, 'glycine': 0.0, 'water': 0}\n",
      "{'bsa': 46.6, 'peg': 226.0, 'kp': 100.0, 'kcl': 200.0, 'glycine': 50.0, 'water': 0}\n",
      "{'bsa': 46.6, 'peg': 226.0, 'kp': 100.0, 'kcl': 200.0, 'glycine': 100.0, 'water': 0}\n",
      "{'bsa': 46.6, 'peg': 226.0, 'kp': 100.0, 'kcl': 200.0, 'glycine': 150.0, 'water': 0}\n",
      "{'bsa': 46.6, 'peg': 226.0, 'kp': 100.0, 'kcl': 200.0, 'glycine': 200.0, 'water': 0}\n",
      "{'bsa': 46.6, 'peg': 226.0, 'kp': 100.0, 'kcl': 200.0, 'glycine': 250.0, 'water': 0}\n",
      "{'bsa': 46.6, 'peg': 226.0, 'kp': 100.0, 'kcl': 200.0, 'glycine': 300.0, 'water': 0}\n",
      "{'bsa': 46.6, 'peg': 226.0, 'kp': 100.0, 'kcl': 200.0, 'glycine': 350.0, 'water': 0}\n",
      "order of mixing: ['water', 'kp', 'kcl', 'glycine', 'bsa', 'peg']\n",
      "\n",
      "\n",
      "\n",
      "Sample list 1:\n",
      "sample list: nh4oh variation\n",
      "time: 2024-03-16 21:21:55\n",
      "comments: \n",
      "{'bsa': 46.6, 'peg': 226.0, 'kp': 100.0, 'kcl': 200.0, 'nh4oh': 0.0, 'water': 0}\n",
      "{'bsa': 46.6, 'peg': 226.0, 'kp': 100.0, 'kcl': 200.0, 'nh4oh': 50.0, 'water': 0}\n",
      "{'bsa': 46.6, 'peg': 226.0, 'kp': 100.0, 'kcl': 200.0, 'nh4oh': 100.0, 'water': 0}\n",
      "{'bsa': 46.6, 'peg': 226.0, 'kp': 100.0, 'kcl': 200.0, 'nh4oh': 150.0, 'water': 0}\n",
      "{'bsa': 46.6, 'peg': 226.0, 'kp': 100.0, 'kcl': 200.0, 'nh4oh': 200.0, 'water': 0}\n",
      "{'bsa': 46.6, 'peg': 226.0, 'kp': 100.0, 'kcl': 200.0, 'nh4oh': 250.0, 'water': 0}\n",
      "{'bsa': 46.6, 'peg': 226.0, 'kp': 100.0, 'kcl': 200.0, 'nh4oh': 300.0, 'water': 0}\n",
      "{'bsa': 46.6, 'peg': 226.0, 'kp': 100.0, 'kcl': 200.0, 'nh4oh': 350.0, 'water': 0}\n",
      "order of mixing: ['water', 'kp', 'kcl', 'nh4oh', 'bsa', 'peg']\n",
      "\n",
      "\n",
      "\n",
      "Sample list 2:\n",
      "sample list: cacl2 variation\n",
      "time: 2024-03-16 21:22:53\n",
      "comments: \n",
      "{'bsa': 46.6, 'peg': 226.0, 'kp': 100.0, 'kcl': 200.0, 'cacl2': 0.0, 'water': 0}\n",
      "{'bsa': 46.6, 'peg': 226.0, 'kp': 100.0, 'kcl': 200.0, 'cacl2': 50.0, 'water': 0}\n",
      "{'bsa': 46.6, 'peg': 226.0, 'kp': 100.0, 'kcl': 200.0, 'cacl2': 100.0, 'water': 0}\n",
      "{'bsa': 46.6, 'peg': 226.0, 'kp': 100.0, 'kcl': 200.0, 'cacl2': 150.0, 'water': 0}\n",
      "{'bsa': 46.6, 'peg': 226.0, 'kp': 100.0, 'kcl': 200.0, 'cacl2': 200.0, 'water': 0}\n",
      "{'bsa': 46.6, 'peg': 226.0, 'kp': 100.0, 'kcl': 200.0, 'cacl2': 250.0, 'water': 0}\n",
      "{'bsa': 46.6, 'peg': 226.0, 'kp': 100.0, 'kcl': 200.0, 'cacl2': 300.0, 'water': 0}\n",
      "{'bsa': 46.6, 'peg': 226.0, 'kp': 100.0, 'kcl': 200.0, 'cacl2': 400.0, 'water': 0}\n",
      "{'bsa': 46.6, 'peg': 226.0, 'kp': 100.0, 'kcl': 200.0, 'cacl2': 500.0, 'water': 0}\n",
      "{'bsa': 46.6, 'peg': 226.0, 'kp': 100.0, 'kcl': 200.0, 'cacl2': 600.0, 'water': 0}\n",
      "{'bsa': 46.6, 'peg': 226.0, 'kp': 100.0, 'kcl': 200.0, 'cacl2': 700.0, 'water': 0}\n",
      "order of mixing: ['water', 'kp', 'kcl', 'cacl2', 'bsa', 'peg']\n",
      "\n",
      "\n",
      "\n",
      "Sample list 3:\n",
      "sample list: mgcl2 variation\n",
      "time: 2024-03-16 21:23:41\n",
      "comments: \n",
      "{'bsa': 46.6, 'peg': 226.0, 'kp': 100.0, 'kcl': 200.0, 'mgcl2': 0.0, 'water': 0}\n",
      "{'bsa': 46.6, 'peg': 226.0, 'kp': 100.0, 'kcl': 200.0, 'mgcl2': 50.0, 'water': 0}\n",
      "{'bsa': 46.6, 'peg': 226.0, 'kp': 100.0, 'kcl': 200.0, 'mgcl2': 100.0, 'water': 0}\n",
      "{'bsa': 46.6, 'peg': 226.0, 'kp': 100.0, 'kcl': 200.0, 'mgcl2': 150.0, 'water': 0}\n",
      "{'bsa': 46.6, 'peg': 226.0, 'kp': 100.0, 'kcl': 200.0, 'mgcl2': 200.0, 'water': 0}\n",
      "{'bsa': 46.6, 'peg': 226.0, 'kp': 100.0, 'kcl': 200.0, 'mgcl2': 250.0, 'water': 0}\n",
      "{'bsa': 46.6, 'peg': 226.0, 'kp': 100.0, 'kcl': 200.0, 'mgcl2': 300.0, 'water': 0}\n",
      "{'bsa': 46.6, 'peg': 226.0, 'kp': 100.0, 'kcl': 200.0, 'mgcl2': 400.0, 'water': 0}\n",
      "{'bsa': 46.6, 'peg': 226.0, 'kp': 100.0, 'kcl': 200.0, 'mgcl2': 500.0, 'water': 0}\n",
      "{'bsa': 46.6, 'peg': 226.0, 'kp': 100.0, 'kcl': 200.0, 'mgcl2': 600.0, 'water': 0}\n",
      "{'bsa': 46.6, 'peg': 226.0, 'kp': 100.0, 'kcl': 200.0, 'mgcl2': 700.0, 'water': 0}\n",
      "order of mixing: ['water', 'kp', 'kcl', 'mgcl2', 'bsa', 'peg']\n",
      "\n",
      "\n",
      "\n"
     ]
    }
   ],
   "source": [
    "# view all the prepared samples\n",
    "otto.view_sample_lists(dir = Path(current_directory) / 'prepared_samples/')"
   ]
  },
  {
   "cell_type": "code",
   "execution_count": 47,
   "metadata": {},
   "outputs": [
    {
     "name": "stdout",
     "output_type": "stream",
     "text": [
      "summary of the minimum requirements:\n",
      "pipettes: ['p300', 'p1000']\n",
      "tip boxes: [1.0, 1.0]\n",
      "Number of tips used: [24.0, 6.0]\n",
      "run file saved as dilutions_run_file-2024-03-06__15-27-19.pkl\n"
     ]
    }
   ],
   "source": [
    "\n",
    "create_run_file_for_dilutions(sample_list_nos=[3],vol_sample_per_dil=30,dilution_factor=10,Num_dilutions=2,stock_dict=stock_dict,vol_fraction_dense=0.2)\n",
    "\n"
   ]
  },
  {
   "cell_type": "code",
   "execution_count": 48,
   "metadata": {},
   "outputs": [],
   "source": [
    "!open dilution_labware.csv"
   ]
  },
  {
   "cell_type": "code",
   "execution_count": 49,
   "metadata": {
    "scrolled": true
   },
   "outputs": [
    {
     "name": "stdout",
     "output_type": "stream",
     "text": [
      "OttoFunctions.py                              100%   23KB 863.4KB/s   00:00    \n",
      "SamplePrepCode.py                             100% 3316   292.4KB/s   00:00    \n",
      "Dilutions.py                                  100% 4020   259.0KB/s   00:00    \n",
      "out.txt                                       100%  444KB 941.3KB/s   00:00    \n",
      ".DS_Store                                     100%   10KB 795.4KB/s   00:00    \n",
      "definitions.py                                100%   52KB   1.0MB/s   00:00    \n",
      "SamplePrepCode_Fast.py                        100% 3806   354.7KB/s   00:00    \n",
      "CreatingSampleLists.ipynb                     100%   17KB 441.0KB/s   00:00    \n",
      "sample_list-2024-03-04__14-46-12.pkl          100% 1681   165.6KB/s   00:00    \n",
      "sample_list-2024-03-04__14-47-56.pkl          100% 1681   162.1KB/s   00:00    \n",
      "sample_list-2024-03-04__14-45-38.pkl          100% 1675   143.3KB/s   00:00    \n",
      "sample_list-2024-03-04__14-47-00.pkl          100% 1683   159.2KB/s   00:00    \n",
      "run.csv                                       100% 1280    85.8KB/s   00:00    \n",
      "dilutions_run_file-2024-03-06__15-27-19.pkl   100%   64     5.6KB/s   00:00    \n",
      "dilution_labware.csv                          100%  858    96.9KB/s   00:00    \n",
      "OttoFunctions.cpython-38.pyc                  100%   15KB 728.3KB/s   00:00    \n",
      "definitions.cpython-38.pyc                    100%   35KB 826.7KB/s   00:00    \n",
      "definitions.cpython-311.pyc                   100%   32KB   1.0MB/s   00:00    \n",
      ".DS_Store                                     100% 6148   489.2KB/s   00:00    \n",
      "ot2_ssh_key                                   100% 2655   301.1KB/s   00:00    \n",
      "BSA_dilutions.py                              100% 6052   408.8KB/s   00:00    \n",
      "SamplePrepSummary_2024-03-05.csv              100% 6293   292.0KB/s   00:00    \n"
     ]
    }
   ],
   "source": [
    "current_directory = os.getcwd()\n",
    "directory_name = os.path.basename(current_directory)\n",
    "!ssh -i ~/.ssh/ot2_ssh_key root@10.49.35.97 \"rm -r /var/lib/jupyter/notebooks/{directory_name}\"\n",
    "!scp -O -r -i ~/.ssh/ot2_ssh_key {current_directory} root@10.49.35.97:/var/lib/jupyter/notebooks/"
   ]
  },
  {
   "cell_type": "code",
   "execution_count": null,
   "metadata": {},
   "outputs": [],
   "source": [
    "!ssh -i ~/.ssh/ot2_ssh_key root@10.49.35.97 'sh -l -c \"nohup opentrons_execute /var/lib/jupyter/notebooks/{directory_name}/BSA_dilutions.py\"'"
   ]
  },
  {
   "cell_type": "code",
   "execution_count": 27,
   "metadata": {},
   "outputs": [
    {
     "name": "stdout",
     "output_type": "stream",
     "text": [
      "dilutions_run_file-2024-03-05__17-18-05.pkl\n",
      "1 A9\n",
      "2 A10\n",
      "3 A11\n",
      "4 A12\n",
      "5 B1\n",
      "6 B2\n",
      "7 B3\n",
      "8 B4\n",
      "9 B5\n",
      "10 B6\n",
      "11 B7\n",
      "12 B8\n",
      "13 B9\n",
      "14 B10\n",
      "15 B11\n",
      "16 B12\n",
      "17 C1\n",
      "18 C2\n"
     ]
    }
   ],
   "source": [
    "# transfer the dilute phase of samples to new plate:\n",
    "\n",
    "first_run_file = sorted([f for f in os.listdir(master_dir) if f.startswith('dilutions_run_file')])[0]\n",
    "print(first_run_file)\n",
    "with open(master_dir / first_run_file,'rb') as f:\n",
    "    vol_sample_per_dil,Num_dilutions,dilution_factor,sample_lists = pickle.load(f)\n",
    "\n",
    "df = convert_sample_lists_to_df(vol_sample_per_dil,Num_dilutions,dilution_factor,sample_lists)\n",
    "for sample_id, group in df.groupby('Sample_ID'):\n",
    "    row = group.iloc[0]\n",
    "    sample_ID = row['Sample_ID']\n",
    "    print(row['Sample_ID'],row['Well'])"
   ]
  },
  {
   "cell_type": "code",
   "execution_count": null,
   "metadata": {},
   "outputs": [],
   "source": []
  }
 ],
 "metadata": {
  "kernelspec": {
   "display_name": "Python 3 (ipykernel)",
   "language": "python",
   "name": "python3"
  },
  "language_info": {
   "codemirror_mode": {
    "name": "ipython",
    "version": 3
   },
   "file_extension": ".py",
   "mimetype": "text/x-python",
   "name": "python",
   "nbconvert_exporter": "python",
   "pygments_lexer": "ipython3",
   "version": "3.7.12"
  },
  "toc": {
   "base_numbering": 1,
   "nav_menu": {},
   "number_sections": true,
   "sideBar": true,
   "skip_h1_title": false,
   "title_cell": "Table of Contents",
   "title_sidebar": "Contents",
   "toc_cell": false,
   "toc_position": {
    "height": "calc(100% - 180px)",
    "left": "10px",
    "top": "150px",
    "width": "376.962px"
   },
   "toc_section_display": true,
   "toc_window_display": true
  },
  "varInspector": {
   "cols": {
    "lenName": 16,
    "lenType": 16,
    "lenVar": 40
   },
   "kernels_config": {
    "python": {
     "delete_cmd_postfix": "",
     "delete_cmd_prefix": "del ",
     "library": "var_list.py",
     "varRefreshCmd": "print(var_dic_list())"
    },
    "r": {
     "delete_cmd_postfix": ") ",
     "delete_cmd_prefix": "rm(",
     "library": "var_list.r",
     "varRefreshCmd": "cat(var_dic_list()) "
    }
   },
   "types_to_exclude": [
    "module",
    "function",
    "builtin_function_or_method",
    "instance",
    "_Feature"
   ],
   "window_display": false
  }
 },
 "nbformat": 4,
 "nbformat_minor": 2
}
